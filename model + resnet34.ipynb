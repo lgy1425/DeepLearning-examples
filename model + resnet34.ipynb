{
 "cells": [
  {
   "cell_type": "code",
   "execution_count": 1,
   "metadata": {},
   "outputs": [],
   "source": [
    "# Built-in modules\n",
    "import sys, os, argparse\n",
    "from collections import OrderedDict, defaultdict\n",
    "# Public modules\n",
    "import numpy as np\n",
    "import matplotlib.pyplot as plt\n",
    "import torch, torchvision\n",
    "import torch.nn as nn\n",
    "import torch.optim as optim\n",
    "from torch.utils.data import DataLoader\n",
    "import progressbar\n",
    "\n",
    "from torchvision.datasets import ImageFolder\n",
    "from torchvision.transforms import CenterCrop, ColorJitter, Compose, \\\n",
    "        Normalize, Resize, RandomCrop, RandomHorizontalFlip, \\\n",
    "        RandomRotation, ToTensor\n",
    "from torch.utils.data import DataLoader, Dataset\n",
    "import pandas as pd\n",
    "from PIL import Image\n",
    "from utils import SimpleAUC\n",
    "\n",
    "os.environ[\"CUDA_VISIBLE_DEVICES\"]=\"0\""
   ]
  },
  {
   "cell_type": "markdown",
   "metadata": {},
   "source": [
    "# Setting parameters"
   ]
  },
  {
   "cell_type": "code",
   "execution_count": 2,
   "metadata": {},
   "outputs": [],
   "source": [
    "device = 'cuda' if torch.cuda.is_available() else 'cpu'\n",
    "init_lr = 1e-4\n",
    "batch_size = 32\n",
    "num_epochs = 200\n",
    "steps_per_epoch = 2000\n",
    "weight_decay = 1e-5\n",
    "\n",
    "cnn_name = \"model_resnet34\"\n",
    "\n",
    "tag = \"model_resnet34\""
   ]
  },
  {
   "cell_type": "code",
   "execution_count": 3,
   "metadata": {},
   "outputs": [],
   "source": [
    "checkpoint_dir = './train_logs/' + cnn_name"
   ]
  },
  {
   "cell_type": "code",
   "execution_count": 4,
   "metadata": {},
   "outputs": [],
   "source": [
    "os.makedirs(checkpoint_dir, exist_ok=True)\n",
    "checkpoint_path = os.path.join(checkpoint_dir, '{}.pt'.format(tag))\n",
    "if os.path.exists(checkpoint_path):\n",
    "    checkpoint = torch.load(checkpoint_path)\n",
    "    print('Load model trained for {} epochs.'.format(checkpoint['epoch']))\n",
    "else:\n",
    "    checkpoint = None"
   ]
  },
  {
   "cell_type": "markdown",
   "metadata": {},
   "source": [
    "# Build dataset"
   ]
  },
  {
   "cell_type": "code",
   "execution_count": 5,
   "metadata": {},
   "outputs": [],
   "source": [
    "IMAGENET_MEAN = [0.485, 0.456, 0.406]\n",
    "IMAGENET_STD = [0.229, 0.224, 0.225]\n",
    "\n",
    "class RetinaDataset(Dataset):\n",
    "    \"\"\" Custom dataset for Retina image dataset \"\"\"\n",
    "    def __init__(self,\n",
    "                 csv_df,\n",
    "                 img_dir,\n",
    "                 transform=None,\n",
    "                 standardize=False):\n",
    "        \"\"\"\n",
    "        Args:\n",
    "            csv_path (str): A path to the csv file.\n",
    "            img_dir (str): A path to the fundus image dir.\n",
    "            transform (callable, optional): Tranform function\n",
    "                to be applied fundus images.\n",
    "            standardize (bool): Whether to apply standardize to numeric data.\n",
    "        \"\"\"\n",
    "        super().__init__()\n",
    "        self.df = csv_df\n",
    "        self.img_dir = img_dir\n",
    "        self.transform = transform\n",
    "        self.standardize = standardize\n",
    "\n",
    "    def __len__(self):\n",
    "        return len(self.df)\n",
    "\n",
    "    def __getitem__(self, i):\n",
    "        \"\"\" read left and right retina image \"\"\"\n",
    "        path = os.path.join(self.img_dir, self.df['image'].values[i]+\".jpeg\")\n",
    "\n",
    "        sample = {}\n",
    "        sample['fundus'] = Image.open(path)\n",
    "        sample[\"level\"] = 1 if self.df[\"level\"].values[i] > 0 else 0\n",
    "\n",
    "        if self.transform is not None:\n",
    "            sample['fundus'] = self.transform(sample['fundus'])\n",
    "        return sample\n",
    "    \n",
    "def build_dataset():\n",
    "    \"\"\" Build dataset \"\"\"\n",
    "    transform_train = Compose([Resize([256, 256]),\n",
    "                               RandomCrop([224, 224]),\n",
    "                               ColorJitter(brightness=0.2,\n",
    "                                           saturation=1),\n",
    "                               RandomHorizontalFlip(),\n",
    "                               RandomRotation(degrees=30),\n",
    "                               ToTensor(),\n",
    "                               Normalize(IMAGENET_MEAN, IMAGENET_STD)])\n",
    "    transform_eval = Compose([Resize([256, 256]),\n",
    "                              CenterCrop([224, 224]),\n",
    "                              ToTensor(),\n",
    "                              Normalize(IMAGENET_MEAN, IMAGENET_STD)])\n",
    "\n",
    "    \n",
    "    \n",
    "    df = pd.read_csv(\"../kaggle_data/trainLabels.csv\")\n",
    "    n_samples = len(df)\n",
    "    train_df = df[0:int(n_samples*0.8)]\n",
    "    val_df = df[int(n_samples*0.8):]\n",
    "    \n",
    "    IMG_DIR = \"../kaggle_data/train_resize_contrast\"\n",
    "    \n",
    "    dataset = {'train': RetinaDataset(csv_df=train_df,\n",
    "                                   img_dir=IMG_DIR,\n",
    "                                   transform=transform_train),\n",
    "               'valid' : RetinaDataset(csv_df=val_df,\n",
    "                                   img_dir=IMG_DIR,\n",
    "                                  transform=transform_eval)}\n",
    "\n",
    "        \n",
    "\n",
    "    return dataset"
   ]
  },
  {
   "cell_type": "code",
   "execution_count": 6,
   "metadata": {},
   "outputs": [],
   "source": [
    "dataset = build_dataset()\n",
    "loader = {}\n",
    "for key in ['train', 'valid']:\n",
    "    shuffle = (key != 'valid')\n",
    "    loader[key] = DataLoader(dataset[key], batch_size=batch_size, shuffle=shuffle,\n",
    "                             pin_memory=True, num_workers=4)"
   ]
  },
  {
   "cell_type": "markdown",
   "metadata": {},
   "source": [
    "# Define Model"
   ]
  },
  {
   "cell_type": "code",
   "execution_count": 7,
   "metadata": {},
   "outputs": [],
   "source": [
    "_model_dict = {\n",
    "            'resnet18' : torchvision.models.resnet18,\n",
    "            'resnet34' : torchvision.models.resnet34,\n",
    "            'resnet50' : torchvision.models.resnet50,\n",
    "            'resnet101' : torchvision.models.resnet101,\n",
    "        }\n",
    "\n",
    "class Classifier(nn.Module):\n",
    "    \"\"\" Pre-trained model to which new layers are attached. \"\"\"\n",
    "    def __init__(self,\n",
    "                 cnn_name,\n",
    "                 num_classes,\n",
    "                 pretrained=False):\n",
    "        \"\"\" Initialize module\n",
    "        Args:\n",
    "            cnn_name (str): The name of a pretrained CNN model.\n",
    "            num_classes (int): The number of output classes.\n",
    "        \"\"\"\n",
    "        super().__init__()\n",
    "        if cnn_name not in _model_dict.keys():\n",
    "            raise NotImplementedError('{} is not supported.'.format(cnn_name))\n",
    "\n",
    "        self.num_classes = num_classes\n",
    "        self.model = _model_dict[cnn_name](pretrained=pretrained)\n",
    "        self.model.fc = nn.Linear(512, num_classes)\n",
    "\n",
    "    def forward(self, fundus):\n",
    "        \"\"\" forward pass \"\"\"\n",
    "        h = self.model(fundus)\n",
    "        return h\n"
   ]
  },
  {
   "cell_type": "code",
   "execution_count": 8,
   "metadata": {},
   "outputs": [
    {
     "data": {
      "text/plain": [
       "Classifier(\n",
       "  (model): ResNet(\n",
       "    (conv1): Conv2d(3, 64, kernel_size=(7, 7), stride=(2, 2), padding=(3, 3), bias=False)\n",
       "    (bn1): BatchNorm2d(64, eps=1e-05, momentum=0.1, affine=True, track_running_stats=True)\n",
       "    (relu): ReLU(inplace=True)\n",
       "    (maxpool): MaxPool2d(kernel_size=3, stride=2, padding=1, dilation=1, ceil_mode=False)\n",
       "    (layer1): Sequential(\n",
       "      (0): BasicBlock(\n",
       "        (conv1): Conv2d(64, 64, kernel_size=(3, 3), stride=(1, 1), padding=(1, 1), bias=False)\n",
       "        (bn1): BatchNorm2d(64, eps=1e-05, momentum=0.1, affine=True, track_running_stats=True)\n",
       "        (relu): ReLU(inplace=True)\n",
       "        (conv2): Conv2d(64, 64, kernel_size=(3, 3), stride=(1, 1), padding=(1, 1), bias=False)\n",
       "        (bn2): BatchNorm2d(64, eps=1e-05, momentum=0.1, affine=True, track_running_stats=True)\n",
       "      )\n",
       "      (1): BasicBlock(\n",
       "        (conv1): Conv2d(64, 64, kernel_size=(3, 3), stride=(1, 1), padding=(1, 1), bias=False)\n",
       "        (bn1): BatchNorm2d(64, eps=1e-05, momentum=0.1, affine=True, track_running_stats=True)\n",
       "        (relu): ReLU(inplace=True)\n",
       "        (conv2): Conv2d(64, 64, kernel_size=(3, 3), stride=(1, 1), padding=(1, 1), bias=False)\n",
       "        (bn2): BatchNorm2d(64, eps=1e-05, momentum=0.1, affine=True, track_running_stats=True)\n",
       "      )\n",
       "      (2): BasicBlock(\n",
       "        (conv1): Conv2d(64, 64, kernel_size=(3, 3), stride=(1, 1), padding=(1, 1), bias=False)\n",
       "        (bn1): BatchNorm2d(64, eps=1e-05, momentum=0.1, affine=True, track_running_stats=True)\n",
       "        (relu): ReLU(inplace=True)\n",
       "        (conv2): Conv2d(64, 64, kernel_size=(3, 3), stride=(1, 1), padding=(1, 1), bias=False)\n",
       "        (bn2): BatchNorm2d(64, eps=1e-05, momentum=0.1, affine=True, track_running_stats=True)\n",
       "      )\n",
       "    )\n",
       "    (layer2): Sequential(\n",
       "      (0): BasicBlock(\n",
       "        (conv1): Conv2d(64, 128, kernel_size=(3, 3), stride=(2, 2), padding=(1, 1), bias=False)\n",
       "        (bn1): BatchNorm2d(128, eps=1e-05, momentum=0.1, affine=True, track_running_stats=True)\n",
       "        (relu): ReLU(inplace=True)\n",
       "        (conv2): Conv2d(128, 128, kernel_size=(3, 3), stride=(1, 1), padding=(1, 1), bias=False)\n",
       "        (bn2): BatchNorm2d(128, eps=1e-05, momentum=0.1, affine=True, track_running_stats=True)\n",
       "        (downsample): Sequential(\n",
       "          (0): Conv2d(64, 128, kernel_size=(1, 1), stride=(2, 2), bias=False)\n",
       "          (1): BatchNorm2d(128, eps=1e-05, momentum=0.1, affine=True, track_running_stats=True)\n",
       "        )\n",
       "      )\n",
       "      (1): BasicBlock(\n",
       "        (conv1): Conv2d(128, 128, kernel_size=(3, 3), stride=(1, 1), padding=(1, 1), bias=False)\n",
       "        (bn1): BatchNorm2d(128, eps=1e-05, momentum=0.1, affine=True, track_running_stats=True)\n",
       "        (relu): ReLU(inplace=True)\n",
       "        (conv2): Conv2d(128, 128, kernel_size=(3, 3), stride=(1, 1), padding=(1, 1), bias=False)\n",
       "        (bn2): BatchNorm2d(128, eps=1e-05, momentum=0.1, affine=True, track_running_stats=True)\n",
       "      )\n",
       "      (2): BasicBlock(\n",
       "        (conv1): Conv2d(128, 128, kernel_size=(3, 3), stride=(1, 1), padding=(1, 1), bias=False)\n",
       "        (bn1): BatchNorm2d(128, eps=1e-05, momentum=0.1, affine=True, track_running_stats=True)\n",
       "        (relu): ReLU(inplace=True)\n",
       "        (conv2): Conv2d(128, 128, kernel_size=(3, 3), stride=(1, 1), padding=(1, 1), bias=False)\n",
       "        (bn2): BatchNorm2d(128, eps=1e-05, momentum=0.1, affine=True, track_running_stats=True)\n",
       "      )\n",
       "      (3): BasicBlock(\n",
       "        (conv1): Conv2d(128, 128, kernel_size=(3, 3), stride=(1, 1), padding=(1, 1), bias=False)\n",
       "        (bn1): BatchNorm2d(128, eps=1e-05, momentum=0.1, affine=True, track_running_stats=True)\n",
       "        (relu): ReLU(inplace=True)\n",
       "        (conv2): Conv2d(128, 128, kernel_size=(3, 3), stride=(1, 1), padding=(1, 1), bias=False)\n",
       "        (bn2): BatchNorm2d(128, eps=1e-05, momentum=0.1, affine=True, track_running_stats=True)\n",
       "      )\n",
       "    )\n",
       "    (layer3): Sequential(\n",
       "      (0): BasicBlock(\n",
       "        (conv1): Conv2d(128, 256, kernel_size=(3, 3), stride=(2, 2), padding=(1, 1), bias=False)\n",
       "        (bn1): BatchNorm2d(256, eps=1e-05, momentum=0.1, affine=True, track_running_stats=True)\n",
       "        (relu): ReLU(inplace=True)\n",
       "        (conv2): Conv2d(256, 256, kernel_size=(3, 3), stride=(1, 1), padding=(1, 1), bias=False)\n",
       "        (bn2): BatchNorm2d(256, eps=1e-05, momentum=0.1, affine=True, track_running_stats=True)\n",
       "        (downsample): Sequential(\n",
       "          (0): Conv2d(128, 256, kernel_size=(1, 1), stride=(2, 2), bias=False)\n",
       "          (1): BatchNorm2d(256, eps=1e-05, momentum=0.1, affine=True, track_running_stats=True)\n",
       "        )\n",
       "      )\n",
       "      (1): BasicBlock(\n",
       "        (conv1): Conv2d(256, 256, kernel_size=(3, 3), stride=(1, 1), padding=(1, 1), bias=False)\n",
       "        (bn1): BatchNorm2d(256, eps=1e-05, momentum=0.1, affine=True, track_running_stats=True)\n",
       "        (relu): ReLU(inplace=True)\n",
       "        (conv2): Conv2d(256, 256, kernel_size=(3, 3), stride=(1, 1), padding=(1, 1), bias=False)\n",
       "        (bn2): BatchNorm2d(256, eps=1e-05, momentum=0.1, affine=True, track_running_stats=True)\n",
       "      )\n",
       "      (2): BasicBlock(\n",
       "        (conv1): Conv2d(256, 256, kernel_size=(3, 3), stride=(1, 1), padding=(1, 1), bias=False)\n",
       "        (bn1): BatchNorm2d(256, eps=1e-05, momentum=0.1, affine=True, track_running_stats=True)\n",
       "        (relu): ReLU(inplace=True)\n",
       "        (conv2): Conv2d(256, 256, kernel_size=(3, 3), stride=(1, 1), padding=(1, 1), bias=False)\n",
       "        (bn2): BatchNorm2d(256, eps=1e-05, momentum=0.1, affine=True, track_running_stats=True)\n",
       "      )\n",
       "      (3): BasicBlock(\n",
       "        (conv1): Conv2d(256, 256, kernel_size=(3, 3), stride=(1, 1), padding=(1, 1), bias=False)\n",
       "        (bn1): BatchNorm2d(256, eps=1e-05, momentum=0.1, affine=True, track_running_stats=True)\n",
       "        (relu): ReLU(inplace=True)\n",
       "        (conv2): Conv2d(256, 256, kernel_size=(3, 3), stride=(1, 1), padding=(1, 1), bias=False)\n",
       "        (bn2): BatchNorm2d(256, eps=1e-05, momentum=0.1, affine=True, track_running_stats=True)\n",
       "      )\n",
       "      (4): BasicBlock(\n",
       "        (conv1): Conv2d(256, 256, kernel_size=(3, 3), stride=(1, 1), padding=(1, 1), bias=False)\n",
       "        (bn1): BatchNorm2d(256, eps=1e-05, momentum=0.1, affine=True, track_running_stats=True)\n",
       "        (relu): ReLU(inplace=True)\n",
       "        (conv2): Conv2d(256, 256, kernel_size=(3, 3), stride=(1, 1), padding=(1, 1), bias=False)\n",
       "        (bn2): BatchNorm2d(256, eps=1e-05, momentum=0.1, affine=True, track_running_stats=True)\n",
       "      )\n",
       "      (5): BasicBlock(\n",
       "        (conv1): Conv2d(256, 256, kernel_size=(3, 3), stride=(1, 1), padding=(1, 1), bias=False)\n",
       "        (bn1): BatchNorm2d(256, eps=1e-05, momentum=0.1, affine=True, track_running_stats=True)\n",
       "        (relu): ReLU(inplace=True)\n",
       "        (conv2): Conv2d(256, 256, kernel_size=(3, 3), stride=(1, 1), padding=(1, 1), bias=False)\n",
       "        (bn2): BatchNorm2d(256, eps=1e-05, momentum=0.1, affine=True, track_running_stats=True)\n",
       "      )\n",
       "    )\n",
       "    (layer4): Sequential(\n",
       "      (0): BasicBlock(\n",
       "        (conv1): Conv2d(256, 512, kernel_size=(3, 3), stride=(2, 2), padding=(1, 1), bias=False)\n",
       "        (bn1): BatchNorm2d(512, eps=1e-05, momentum=0.1, affine=True, track_running_stats=True)\n",
       "        (relu): ReLU(inplace=True)\n",
       "        (conv2): Conv2d(512, 512, kernel_size=(3, 3), stride=(1, 1), padding=(1, 1), bias=False)\n",
       "        (bn2): BatchNorm2d(512, eps=1e-05, momentum=0.1, affine=True, track_running_stats=True)\n",
       "        (downsample): Sequential(\n",
       "          (0): Conv2d(256, 512, kernel_size=(1, 1), stride=(2, 2), bias=False)\n",
       "          (1): BatchNorm2d(512, eps=1e-05, momentum=0.1, affine=True, track_running_stats=True)\n",
       "        )\n",
       "      )\n",
       "      (1): BasicBlock(\n",
       "        (conv1): Conv2d(512, 512, kernel_size=(3, 3), stride=(1, 1), padding=(1, 1), bias=False)\n",
       "        (bn1): BatchNorm2d(512, eps=1e-05, momentum=0.1, affine=True, track_running_stats=True)\n",
       "        (relu): ReLU(inplace=True)\n",
       "        (conv2): Conv2d(512, 512, kernel_size=(3, 3), stride=(1, 1), padding=(1, 1), bias=False)\n",
       "        (bn2): BatchNorm2d(512, eps=1e-05, momentum=0.1, affine=True, track_running_stats=True)\n",
       "      )\n",
       "      (2): BasicBlock(\n",
       "        (conv1): Conv2d(512, 512, kernel_size=(3, 3), stride=(1, 1), padding=(1, 1), bias=False)\n",
       "        (bn1): BatchNorm2d(512, eps=1e-05, momentum=0.1, affine=True, track_running_stats=True)\n",
       "        (relu): ReLU(inplace=True)\n",
       "        (conv2): Conv2d(512, 512, kernel_size=(3, 3), stride=(1, 1), padding=(1, 1), bias=False)\n",
       "        (bn2): BatchNorm2d(512, eps=1e-05, momentum=0.1, affine=True, track_running_stats=True)\n",
       "      )\n",
       "    )\n",
       "    (avgpool): AdaptiveAvgPool2d(output_size=(1, 1))\n",
       "    (fc): Linear(in_features=512, out_features=2, bias=True)\n",
       "  )\n",
       ")"
      ]
     },
     "execution_count": 8,
     "metadata": {},
     "output_type": "execute_result"
    }
   ],
   "source": [
    "if checkpoint is None:\n",
    "    cls = Classifier('resnet34', num_classes=2, pretrained=False)\n",
    "else:\n",
    "    cls = Classifier('resnet34', num_classes=2,\n",
    "            pretrained=False)\n",
    "    cls.load_state_dict(checkpoint['cls_state_dict'])\n",
    "cls.to(device)"
   ]
  },
  {
   "cell_type": "markdown",
   "metadata": {},
   "source": [
    "# Define Loss function and optimizer"
   ]
  },
  {
   "cell_type": "code",
   "execution_count": 9,
   "metadata": {},
   "outputs": [],
   "source": [
    "# Define loss function\n",
    "loss_fn = {'ce' : nn.CrossEntropyLoss()}\n",
    "\n",
    "# Build optimizer\n",
    "\n",
    "optimizer = optim.SGD(cls.parameters(),\n",
    "                      lr=init_lr,\n",
    "                      momentum=0.9,\n",
    "                      weight_decay=weight_decay,\n",
    "                      nesterov=True)\n",
    "\n",
    "if checkpoint is not None:\n",
    "    optimizer.load_state_dict(checkpoint['optimizer_state_dict'])\n",
    "\n",
    "decay_factor = 0.99\n",
    "lr_scheduler = optim.lr_scheduler.LambdaLR(optimizer,lambda epoch: decay_factor ** epoch)\n",
    "if checkpoint is not None:\n",
    "    lr_scheduler.load_state_dict(checkpoint['lr_scheduler_state_dict'])"
   ]
  },
  {
   "cell_type": "markdown",
   "metadata": {},
   "source": [
    "# Train"
   ]
  },
  {
   "cell_type": "code",
   "execution_count": null,
   "metadata": {},
   "outputs": [
    {
     "name": "stderr",
     "output_type": "stream",
     "text": [
      "| |                                #               | 3000 Elapsed Time: 0:05:39\n"
     ]
    },
    {
     "name": "stdout",
     "output_type": "stream",
     "text": [
      "Epoch: 1/200\n",
      "training classification loss: 0.5823\n",
      "train_auroc: 0.5161\n",
      "val_auroc: 0.5474\n",
      "Model saved.\n"
     ]
    },
    {
     "name": "stderr",
     "output_type": "stream",
     "text": [
      "| |                                        #       | 3000 Elapsed Time: 0:05:40\n"
     ]
    },
    {
     "name": "stdout",
     "output_type": "stream",
     "text": [
      "Epoch: 2/200\n",
      "training classification loss: 0.5814\n",
      "train_auroc: 0.5235\n",
      "val_auroc: 0.5545\n",
      "Model saved.\n"
     ]
    },
    {
     "name": "stderr",
     "output_type": "stream",
     "text": [
      "| |                                 #              | 3000 Elapsed Time: 0:05:39\n"
     ]
    },
    {
     "name": "stdout",
     "output_type": "stream",
     "text": [
      "Epoch: 3/200\n",
      "training classification loss: 0.5804\n",
      "train_auroc: 0.5260\n",
      "val_auroc: 0.5550\n",
      "Model saved.\n"
     ]
    },
    {
     "name": "stderr",
     "output_type": "stream",
     "text": [
      "| |                                             #  | 3000 Elapsed Time: 0:05:41\n"
     ]
    },
    {
     "name": "stdout",
     "output_type": "stream",
     "text": [
      "Epoch: 4/200\n",
      "training classification loss: 0.5803\n",
      "train_auroc: 0.5275\n",
      "val_auroc: 0.5593\n",
      "Model saved.\n"
     ]
    },
    {
     "name": "stderr",
     "output_type": "stream",
     "text": [
      "| |                                           #    | 3000 Elapsed Time: 0:05:40\n"
     ]
    },
    {
     "name": "stdout",
     "output_type": "stream",
     "text": [
      "Epoch: 5/200\n",
      "training classification loss: 0.5795\n",
      "train_auroc: 0.5300\n",
      "val_auroc: 0.5638\n",
      "Model saved.\n"
     ]
    },
    {
     "name": "stderr",
     "output_type": "stream",
     "text": [
      "| |                                          #     | 3000 Elapsed Time: 0:05:40\n"
     ]
    },
    {
     "name": "stdout",
     "output_type": "stream",
     "text": [
      "Epoch: 6/200\n",
      "training classification loss: 0.5793\n",
      "train_auroc: 0.5317\n",
      "val_auroc: 0.5738\n",
      "Model saved.\n"
     ]
    },
    {
     "name": "stderr",
     "output_type": "stream",
     "text": [
      "| |                                             #  | 3000 Elapsed Time: 0:05:40\n"
     ]
    },
    {
     "name": "stdout",
     "output_type": "stream",
     "text": [
      "Epoch: 7/200\n",
      "training classification loss: 0.5784\n",
      "train_auroc: 0.5372\n",
      "val_auroc: 0.5719\n"
     ]
    },
    {
     "name": "stderr",
     "output_type": "stream",
     "text": [
      "| |                                         #      | 3000 Elapsed Time: 0:05:40\n"
     ]
    },
    {
     "name": "stdout",
     "output_type": "stream",
     "text": [
      "Epoch: 8/200\n",
      "training classification loss: 0.5773\n",
      "train_auroc: 0.5430\n",
      "val_auroc: 0.5875\n",
      "Model saved.\n"
     ]
    },
    {
     "name": "stderr",
     "output_type": "stream",
     "text": [
      "| |                                            #   | 3000 Elapsed Time: 0:05:41\n"
     ]
    },
    {
     "name": "stdout",
     "output_type": "stream",
     "text": [
      "Epoch: 9/200\n",
      "training classification loss: 0.5720\n",
      "train_auroc: 0.5674\n",
      "val_auroc: 0.6328\n",
      "Model saved.\n"
     ]
    },
    {
     "name": "stderr",
     "output_type": "stream",
     "text": [
      "| |                                       #        | 3000 Elapsed Time: 0:05:41\n"
     ]
    },
    {
     "name": "stdout",
     "output_type": "stream",
     "text": [
      "Epoch: 10/200\n",
      "training classification loss: 0.5664\n",
      "train_auroc: 0.5957\n",
      "val_auroc: 0.6507\n",
      "Model saved.\n"
     ]
    },
    {
     "name": "stderr",
     "output_type": "stream",
     "text": [
      "| |                                       #        | 3000 Elapsed Time: 0:05:41\n"
     ]
    },
    {
     "name": "stdout",
     "output_type": "stream",
     "text": [
      "Epoch: 11/200\n",
      "training classification loss: 0.5621\n",
      "train_auroc: 0.6112\n",
      "val_auroc: 0.6618\n",
      "Model saved.\n"
     ]
    },
    {
     "name": "stderr",
     "output_type": "stream",
     "text": [
      "| |                                              # | 3000 Elapsed Time: 0:05:40\n"
     ]
    },
    {
     "name": "stdout",
     "output_type": "stream",
     "text": [
      "Epoch: 12/200\n",
      "training classification loss: 0.5580\n",
      "train_auroc: 0.6213\n",
      "val_auroc: 0.6751\n",
      "Model saved.\n"
     ]
    },
    {
     "name": "stderr",
     "output_type": "stream",
     "text": [
      "| |                                         #      | 3000 Elapsed Time: 0:05:41\n"
     ]
    },
    {
     "name": "stdout",
     "output_type": "stream",
     "text": [
      "Epoch: 13/200\n",
      "training classification loss: 0.5561\n",
      "train_auroc: 0.6287\n",
      "val_auroc: 0.6821\n",
      "Model saved.\n"
     ]
    },
    {
     "name": "stderr",
     "output_type": "stream",
     "text": [
      "| |                                          #     | 3000 Elapsed Time: 0:05:41\n"
     ]
    },
    {
     "name": "stdout",
     "output_type": "stream",
     "text": [
      "Epoch: 14/200\n",
      "training classification loss: 0.5519\n",
      "train_auroc: 0.6388\n",
      "val_auroc: 0.6972\n",
      "Model saved.\n"
     ]
    },
    {
     "name": "stderr",
     "output_type": "stream",
     "text": [
      "| |                                       #        | 3000 Elapsed Time: 0:05:41\n"
     ]
    },
    {
     "name": "stdout",
     "output_type": "stream",
     "text": [
      "Epoch: 15/200\n",
      "training classification loss: 0.5470\n",
      "train_auroc: 0.6483\n",
      "val_auroc: 0.6915\n"
     ]
    },
    {
     "name": "stderr",
     "output_type": "stream",
     "text": [
      "| |                                        #       | 3000 Elapsed Time: 0:05:41\n"
     ]
    },
    {
     "name": "stdout",
     "output_type": "stream",
     "text": [
      "Epoch: 16/200\n",
      "training classification loss: 0.5472\n",
      "train_auroc: 0.6503\n",
      "val_auroc: 0.7111\n",
      "Model saved.\n"
     ]
    },
    {
     "name": "stderr",
     "output_type": "stream",
     "text": [
      "| |                                          #     | 3000 Elapsed Time: 0:05:41\n"
     ]
    },
    {
     "name": "stdout",
     "output_type": "stream",
     "text": [
      "Epoch: 17/200\n",
      "training classification loss: 0.5438\n",
      "train_auroc: 0.6569\n",
      "val_auroc: 0.7177\n",
      "Model saved.\n"
     ]
    },
    {
     "name": "stderr",
     "output_type": "stream",
     "text": [
      "| |                                         #      | 3000 Elapsed Time: 0:05:41\n"
     ]
    },
    {
     "name": "stdout",
     "output_type": "stream",
     "text": [
      "Epoch: 18/200\n",
      "training classification loss: 0.5403\n",
      "train_auroc: 0.6652\n",
      "val_auroc: 0.7131\n"
     ]
    },
    {
     "name": "stderr",
     "output_type": "stream",
     "text": [
      "| |                                              # | 3000 Elapsed Time: 0:05:40\n"
     ]
    },
    {
     "name": "stdout",
     "output_type": "stream",
     "text": [
      "Epoch: 19/200\n",
      "training classification loss: 0.5372\n",
      "train_auroc: 0.6685\n",
      "val_auroc: 0.7298\n",
      "Model saved.\n"
     ]
    },
    {
     "name": "stderr",
     "output_type": "stream",
     "text": [
      "| |                                        #       | 3000 Elapsed Time: 0:05:41\n"
     ]
    },
    {
     "name": "stdout",
     "output_type": "stream",
     "text": [
      "Epoch: 20/200\n",
      "training classification loss: 0.5345\n",
      "train_auroc: 0.6753\n",
      "val_auroc: 0.7285\n"
     ]
    },
    {
     "name": "stderr",
     "output_type": "stream",
     "text": [
      "| |                                             #  | 3000 Elapsed Time: 0:05:41\n"
     ]
    },
    {
     "name": "stdout",
     "output_type": "stream",
     "text": [
      "Epoch: 21/200\n",
      "training classification loss: 0.5323\n",
      "train_auroc: 0.6775\n",
      "val_auroc: 0.7301\n",
      "Model saved.\n"
     ]
    },
    {
     "name": "stderr",
     "output_type": "stream",
     "text": [
      "| |                                             #  | 3000 Elapsed Time: 0:05:41\n"
     ]
    },
    {
     "name": "stdout",
     "output_type": "stream",
     "text": [
      "Epoch: 22/200\n",
      "training classification loss: 0.5299\n",
      "train_auroc: 0.6833\n",
      "val_auroc: 0.7191\n"
     ]
    },
    {
     "name": "stderr",
     "output_type": "stream",
     "text": [
      "| |                                       #        | 3000 Elapsed Time: 0:05:41\n"
     ]
    },
    {
     "name": "stdout",
     "output_type": "stream",
     "text": [
      "Epoch: 23/200\n",
      "training classification loss: 0.5261\n",
      "train_auroc: 0.6872\n",
      "val_auroc: 0.7267\n"
     ]
    },
    {
     "name": "stderr",
     "output_type": "stream",
     "text": [
      "| |                          #                     | 3000 Elapsed Time: 0:05:42\n"
     ]
    },
    {
     "name": "stdout",
     "output_type": "stream",
     "text": [
      "Epoch: 24/200\n",
      "training classification loss: 0.5242\n",
      "train_auroc: 0.6919\n",
      "val_auroc: 0.7343\n",
      "Model saved.\n"
     ]
    },
    {
     "name": "stderr",
     "output_type": "stream",
     "text": [
      "| |                                              # | 3000 Elapsed Time: 0:05:40\n"
     ]
    },
    {
     "name": "stdout",
     "output_type": "stream",
     "text": [
      "Epoch: 25/200\n",
      "training classification loss: 0.5232\n",
      "train_auroc: 0.6930\n",
      "val_auroc: 0.7387\n",
      "Model saved.\n"
     ]
    },
    {
     "name": "stderr",
     "output_type": "stream",
     "text": [
      "| |                                       #        | 3000 Elapsed Time: 0:05:41\n"
     ]
    },
    {
     "name": "stdout",
     "output_type": "stream",
     "text": [
      "Epoch: 26/200\n",
      "training classification loss: 0.5212\n",
      "train_auroc: 0.6974\n",
      "val_auroc: 0.7438\n",
      "Model saved.\n"
     ]
    },
    {
     "name": "stderr",
     "output_type": "stream",
     "text": [
      "| |                                          #     | 3000 Elapsed Time: 0:05:41\n"
     ]
    },
    {
     "name": "stdout",
     "output_type": "stream",
     "text": [
      "Epoch: 27/200\n",
      "training classification loss: 0.5204\n",
      "train_auroc: 0.6985\n",
      "val_auroc: 0.7378\n"
     ]
    },
    {
     "name": "stderr",
     "output_type": "stream",
     "text": [
      "| |                                          #     | 3000 Elapsed Time: 0:05:41\n"
     ]
    },
    {
     "name": "stdout",
     "output_type": "stream",
     "text": [
      "Epoch: 28/200\n",
      "training classification loss: 0.5163\n",
      "train_auroc: 0.7047\n",
      "val_auroc: 0.7431\n"
     ]
    },
    {
     "name": "stderr",
     "output_type": "stream",
     "text": [
      "| |                                            #   | 3000 Elapsed Time: 0:05:41\n"
     ]
    },
    {
     "name": "stdout",
     "output_type": "stream",
     "text": [
      "Epoch: 29/200\n",
      "training classification loss: 0.5152\n",
      "train_auroc: 0.7052\n",
      "val_auroc: 0.7352\n"
     ]
    },
    {
     "name": "stderr",
     "output_type": "stream",
     "text": [
      "| |                                           #    | 3000 Elapsed Time: 0:05:41\n"
     ]
    },
    {
     "name": "stdout",
     "output_type": "stream",
     "text": [
      "Epoch: 30/200\n",
      "training classification loss: 0.5147\n",
      "train_auroc: 0.7067\n",
      "val_auroc: 0.7496\n",
      "Model saved.\n"
     ]
    },
    {
     "name": "stderr",
     "output_type": "stream",
     "text": [
      "| |                                        #       | 3000 Elapsed Time: 0:05:41\n"
     ]
    },
    {
     "name": "stdout",
     "output_type": "stream",
     "text": [
      "Epoch: 31/200\n",
      "training classification loss: 0.5126\n",
      "train_auroc: 0.7092\n",
      "val_auroc: 0.7422\n"
     ]
    },
    {
     "name": "stderr",
     "output_type": "stream",
     "text": [
      "| |                                 #              | 3000 Elapsed Time: 0:05:42\n"
     ]
    },
    {
     "name": "stdout",
     "output_type": "stream",
     "text": [
      "Epoch: 32/200\n",
      "training classification loss: 0.5101\n",
      "train_auroc: 0.7140\n",
      "val_auroc: 0.7481\n"
     ]
    },
    {
     "name": "stderr",
     "output_type": "stream",
     "text": [
      "| |                                            #   | 3000 Elapsed Time: 0:05:41\n"
     ]
    },
    {
     "name": "stdout",
     "output_type": "stream",
     "text": [
      "Epoch: 33/200\n",
      "training classification loss: 0.5108\n",
      "train_auroc: 0.7140\n",
      "val_auroc: 0.7584\n",
      "Model saved.\n"
     ]
    },
    {
     "name": "stderr",
     "output_type": "stream",
     "text": [
      "| |                                    #           | 3000 Elapsed Time: 0:05:41\n"
     ]
    },
    {
     "name": "stdout",
     "output_type": "stream",
     "text": [
      "Epoch: 34/200\n",
      "training classification loss: 0.5083\n",
      "train_auroc: 0.7137\n",
      "val_auroc: 0.7459\n"
     ]
    },
    {
     "name": "stderr",
     "output_type": "stream",
     "text": [
      "| |                               #                | 3000 Elapsed Time: 0:05:42\n"
     ]
    },
    {
     "name": "stdout",
     "output_type": "stream",
     "text": [
      "Epoch: 35/200\n",
      "training classification loss: 0.5067\n",
      "train_auroc: 0.7183\n",
      "val_auroc: 0.7474\n"
     ]
    },
    {
     "name": "stderr",
     "output_type": "stream",
     "text": [
      "| |                                #               | 3000 Elapsed Time: 0:05:42\n"
     ]
    },
    {
     "name": "stdout",
     "output_type": "stream",
     "text": [
      "Epoch: 36/200\n",
      "training classification loss: 0.5048\n",
      "train_auroc: 0.7200\n",
      "val_auroc: 0.7397\n"
     ]
    },
    {
     "name": "stderr",
     "output_type": "stream",
     "text": [
      "| |                                     #          | 3000 Elapsed Time: 0:05:41\n"
     ]
    },
    {
     "name": "stdout",
     "output_type": "stream",
     "text": [
      "Epoch: 37/200\n",
      "training classification loss: 0.5031\n",
      "train_auroc: 0.7224\n",
      "val_auroc: 0.7518\n"
     ]
    },
    {
     "name": "stderr",
     "output_type": "stream",
     "text": [
      "| |                                     #          | 3000 Elapsed Time: 0:05:41\n"
     ]
    },
    {
     "name": "stdout",
     "output_type": "stream",
     "text": [
      "Epoch: 38/200\n",
      "training classification loss: 0.5023\n",
      "train_auroc: 0.7241\n",
      "val_auroc: 0.7547\n"
     ]
    },
    {
     "name": "stderr",
     "output_type": "stream",
     "text": [
      "| |                                     #          | 3000 Elapsed Time: 0:05:41\n"
     ]
    },
    {
     "name": "stdout",
     "output_type": "stream",
     "text": [
      "Epoch: 39/200\n",
      "training classification loss: 0.5009\n",
      "train_auroc: 0.7252\n",
      "val_auroc: 0.7547\n"
     ]
    },
    {
     "name": "stderr",
     "output_type": "stream",
     "text": [
      "| |                                  #             | 3000 Elapsed Time: 0:05:49\n"
     ]
    },
    {
     "name": "stdout",
     "output_type": "stream",
     "text": [
      "Epoch: 40/200\n",
      "training classification loss: 0.4985\n",
      "train_auroc: 0.7290\n",
      "val_auroc: 0.7530\n"
     ]
    },
    {
     "name": "stderr",
     "output_type": "stream",
     "text": [
      "| |                                            #   | 3000 Elapsed Time: 0:05:50\n"
     ]
    },
    {
     "name": "stdout",
     "output_type": "stream",
     "text": [
      "Epoch: 41/200\n",
      "training classification loss: 0.4976\n",
      "train_auroc: 0.7300\n",
      "val_auroc: 0.7412\n"
     ]
    },
    {
     "name": "stderr",
     "output_type": "stream",
     "text": [
      "| |                                          #     | 3000 Elapsed Time: 0:05:50\n"
     ]
    },
    {
     "name": "stdout",
     "output_type": "stream",
     "text": [
      "Epoch: 42/200\n",
      "training classification loss: 0.4975\n",
      "train_auroc: 0.7295\n",
      "val_auroc: 0.7568\n"
     ]
    },
    {
     "name": "stderr",
     "output_type": "stream",
     "text": [
      "| |                             #                  | 3000 Elapsed Time: 0:05:38\n"
     ]
    },
    {
     "name": "stdout",
     "output_type": "stream",
     "text": [
      "Epoch: 43/200\n",
      "training classification loss: 0.4971\n",
      "train_auroc: 0.7298\n",
      "val_auroc: 0.7551\n"
     ]
    },
    {
     "name": "stderr",
     "output_type": "stream",
     "text": [
      "| |                                               #| 3000 Elapsed Time: 0:05:40\n"
     ]
    },
    {
     "name": "stdout",
     "output_type": "stream",
     "text": [
      "Epoch: 44/200\n",
      "training classification loss: 0.4938\n",
      "train_auroc: 0.7339\n",
      "val_auroc: 0.7628\n",
      "Model saved.\n"
     ]
    },
    {
     "name": "stderr",
     "output_type": "stream",
     "text": [
      "| |                                          #     | 3000 Elapsed Time: 0:05:40\n"
     ]
    },
    {
     "name": "stdout",
     "output_type": "stream",
     "text": [
      "Epoch: 45/200\n",
      "training classification loss: 0.4929\n",
      "train_auroc: 0.7356\n",
      "val_auroc: 0.7538\n"
     ]
    },
    {
     "name": "stderr",
     "output_type": "stream",
     "text": [
      "| |                                       #        | 3000 Elapsed Time: 0:05:39\n"
     ]
    },
    {
     "name": "stdout",
     "output_type": "stream",
     "text": [
      "Epoch: 46/200\n",
      "training classification loss: 0.4929\n",
      "train_auroc: 0.7360\n",
      "val_auroc: 0.7544\n"
     ]
    },
    {
     "name": "stderr",
     "output_type": "stream",
     "text": [
      "| |                                            #   | 3000 Elapsed Time: 0:05:41\n"
     ]
    },
    {
     "name": "stdout",
     "output_type": "stream",
     "text": [
      "Epoch: 47/200\n",
      "training classification loss: 0.4907\n",
      "train_auroc: 0.7366\n",
      "val_auroc: 0.7616\n"
     ]
    },
    {
     "name": "stderr",
     "output_type": "stream",
     "text": [
      "| |                                      #         | 3000 Elapsed Time: 0:05:39\n"
     ]
    },
    {
     "name": "stdout",
     "output_type": "stream",
     "text": [
      "Epoch: 48/200\n",
      "training classification loss: 0.4912\n",
      "train_auroc: 0.7365\n",
      "val_auroc: 0.7629\n",
      "Model saved.\n"
     ]
    },
    {
     "name": "stderr",
     "output_type": "stream",
     "text": [
      "| |                                               #| 3000 Elapsed Time: 0:05:40\n"
     ]
    },
    {
     "name": "stdout",
     "output_type": "stream",
     "text": [
      "Epoch: 49/200\n",
      "training classification loss: 0.4902\n",
      "train_auroc: 0.7375\n",
      "val_auroc: 0.7619\n"
     ]
    },
    {
     "name": "stderr",
     "output_type": "stream",
     "text": [
      "| |                                          #     | 3000 Elapsed Time: 0:05:40\n"
     ]
    },
    {
     "name": "stdout",
     "output_type": "stream",
     "text": [
      "Epoch: 50/200\n",
      "training classification loss: 0.4885\n",
      "train_auroc: 0.7398\n",
      "val_auroc: 0.7611\n"
     ]
    },
    {
     "name": "stderr",
     "output_type": "stream",
     "text": [
      "| |                            #                   | 3000 Elapsed Time: 0:05:42\n"
     ]
    },
    {
     "name": "stdout",
     "output_type": "stream",
     "text": [
      "Epoch: 51/200\n",
      "training classification loss: 0.4885\n",
      "train_auroc: 0.7390\n",
      "val_auroc: 0.7569\n"
     ]
    },
    {
     "name": "stderr",
     "output_type": "stream",
     "text": [
      "| |                                           #    | 3000 Elapsed Time: 0:05:41\n"
     ]
    },
    {
     "name": "stdout",
     "output_type": "stream",
     "text": [
      "Epoch: 52/200\n",
      "training classification loss: 0.4860\n",
      "train_auroc: 0.7413\n",
      "val_auroc: 0.7624\n"
     ]
    },
    {
     "name": "stderr",
     "output_type": "stream",
     "text": [
      "| |                                      #         | 3000 Elapsed Time: 0:05:41\n"
     ]
    },
    {
     "name": "stdout",
     "output_type": "stream",
     "text": [
      "Epoch: 53/200\n",
      "training classification loss: 0.4856\n",
      "train_auroc: 0.7429\n",
      "val_auroc: 0.7579\n"
     ]
    },
    {
     "name": "stderr",
     "output_type": "stream",
     "text": [
      "| |                                         #      | 3000 Elapsed Time: 0:05:41\n"
     ]
    },
    {
     "name": "stdout",
     "output_type": "stream",
     "text": [
      "Epoch: 54/200\n",
      "training classification loss: 0.4865\n",
      "train_auroc: 0.7415\n",
      "val_auroc: 0.7587\n"
     ]
    },
    {
     "name": "stderr",
     "output_type": "stream",
     "text": [
      "| |                                             #  | 3000 Elapsed Time: 0:05:41\n"
     ]
    },
    {
     "name": "stdout",
     "output_type": "stream",
     "text": [
      "Epoch: 55/200\n",
      "training classification loss: 0.4848\n",
      "train_auroc: 0.7433\n",
      "val_auroc: 0.7586\n"
     ]
    },
    {
     "name": "stderr",
     "output_type": "stream",
     "text": [
      "| |                                         #      | 3000 Elapsed Time: 0:05:41\n"
     ]
    },
    {
     "name": "stdout",
     "output_type": "stream",
     "text": [
      "Epoch: 56/200\n",
      "training classification loss: 0.4837\n",
      "train_auroc: 0.7463\n",
      "val_auroc: 0.7641\n",
      "Model saved.\n"
     ]
    },
    {
     "name": "stderr",
     "output_type": "stream",
     "text": [
      "| |                                              # | 3000 Elapsed Time: 0:05:40\n"
     ]
    },
    {
     "name": "stdout",
     "output_type": "stream",
     "text": [
      "Epoch: 57/200\n",
      "training classification loss: 0.4812\n",
      "train_auroc: 0.7500\n",
      "val_auroc: 0.7660\n",
      "Model saved.\n"
     ]
    },
    {
     "name": "stderr",
     "output_type": "stream",
     "text": [
      "| |                                 #              | 3000 Elapsed Time: 0:05:42\n"
     ]
    },
    {
     "name": "stdout",
     "output_type": "stream",
     "text": [
      "Epoch: 58/200\n",
      "training classification loss: 0.4811\n",
      "train_auroc: 0.7487\n",
      "val_auroc: 0.7592\n"
     ]
    },
    {
     "name": "stderr",
     "output_type": "stream",
     "text": [
      "| |                                      #         | 3000 Elapsed Time: 0:05:41\n"
     ]
    },
    {
     "name": "stdout",
     "output_type": "stream",
     "text": [
      "Epoch: 59/200\n",
      "training classification loss: 0.4800\n",
      "train_auroc: 0.7508\n",
      "val_auroc: 0.7642\n"
     ]
    },
    {
     "name": "stderr",
     "output_type": "stream",
     "text": [
      "| |                         #                      | 3000 Elapsed Time: 0:05:43\n"
     ]
    },
    {
     "name": "stdout",
     "output_type": "stream",
     "text": [
      "Epoch: 60/200\n",
      "training classification loss: 0.4795\n",
      "train_auroc: 0.7508\n",
      "val_auroc: 0.7661\n",
      "Model saved.\n"
     ]
    },
    {
     "name": "stderr",
     "output_type": "stream",
     "text": [
      "| |                                       #        | 3000 Elapsed Time: 0:05:41\n"
     ]
    },
    {
     "name": "stdout",
     "output_type": "stream",
     "text": [
      "Epoch: 61/200\n",
      "training classification loss: 0.4785\n",
      "train_auroc: 0.7519\n",
      "val_auroc: 0.7703\n",
      "Model saved.\n"
     ]
    },
    {
     "name": "stderr",
     "output_type": "stream",
     "text": [
      "| |                                       #        | 3000 Elapsed Time: 0:05:41\n"
     ]
    },
    {
     "name": "stdout",
     "output_type": "stream",
     "text": [
      "Epoch: 62/200\n",
      "training classification loss: 0.4785\n",
      "train_auroc: 0.7535\n",
      "val_auroc: 0.7661\n"
     ]
    },
    {
     "name": "stderr",
     "output_type": "stream",
     "text": [
      "| |                                     #          | 3000 Elapsed Time: 0:05:41\n"
     ]
    },
    {
     "name": "stdout",
     "output_type": "stream",
     "text": [
      "Epoch: 63/200\n",
      "training classification loss: 0.4782\n",
      "train_auroc: 0.7528\n",
      "val_auroc: 0.7656\n"
     ]
    },
    {
     "name": "stderr",
     "output_type": "stream",
     "text": [
      "| |                                         #      | 3000 Elapsed Time: 0:05:41\n"
     ]
    },
    {
     "name": "stdout",
     "output_type": "stream",
     "text": [
      "Epoch: 64/200\n",
      "training classification loss: 0.4764\n",
      "train_auroc: 0.7549\n",
      "val_auroc: 0.7665\n"
     ]
    },
    {
     "name": "stderr",
     "output_type": "stream",
     "text": [
      "| |                                       #        | 3000 Elapsed Time: 0:05:41\n"
     ]
    },
    {
     "name": "stdout",
     "output_type": "stream",
     "text": [
      "Epoch: 65/200\n",
      "training classification loss: 0.4751\n",
      "train_auroc: 0.7560\n",
      "val_auroc: 0.7710\n",
      "Model saved.\n"
     ]
    },
    {
     "name": "stderr",
     "output_type": "stream",
     "text": [
      "| |                                    #           | 3000 Elapsed Time: 0:05:41\n"
     ]
    },
    {
     "name": "stdout",
     "output_type": "stream",
     "text": [
      "Epoch: 66/200\n",
      "training classification loss: 0.4757\n",
      "train_auroc: 0.7570\n",
      "val_auroc: 0.7656\n"
     ]
    },
    {
     "name": "stderr",
     "output_type": "stream",
     "text": [
      "| |                               #                | 3000 Elapsed Time: 0:05:42\n"
     ]
    },
    {
     "name": "stdout",
     "output_type": "stream",
     "text": [
      "Epoch: 67/200\n",
      "training classification loss: 0.4749\n",
      "train_auroc: 0.7563\n",
      "val_auroc: 0.7730\n",
      "Model saved.\n"
     ]
    },
    {
     "name": "stderr",
     "output_type": "stream",
     "text": [
      "| |                                 #              | 3000 Elapsed Time: 0:05:42\n"
     ]
    },
    {
     "name": "stdout",
     "output_type": "stream",
     "text": [
      "Epoch: 68/200\n",
      "training classification loss: 0.4755\n",
      "train_auroc: 0.7561\n",
      "val_auroc: 0.7781\n",
      "Model saved.\n"
     ]
    },
    {
     "name": "stderr",
     "output_type": "stream",
     "text": [
      "| |                                          #     | 3000 Elapsed Time: 0:05:41\n"
     ]
    },
    {
     "name": "stdout",
     "output_type": "stream",
     "text": [
      "Epoch: 69/200\n",
      "training classification loss: 0.4723\n",
      "train_auroc: 0.7595\n",
      "val_auroc: 0.7757\n"
     ]
    },
    {
     "name": "stderr",
     "output_type": "stream",
     "text": [
      "| |                                       #        | 3000 Elapsed Time: 0:05:41\n"
     ]
    },
    {
     "name": "stdout",
     "output_type": "stream",
     "text": [
      "Epoch: 70/200\n",
      "training classification loss: 0.4718\n",
      "train_auroc: 0.7606\n",
      "val_auroc: 0.7656\n"
     ]
    },
    {
     "name": "stderr",
     "output_type": "stream",
     "text": [
      "| |                           #                    | 3000 Elapsed Time: 0:05:42\n"
     ]
    },
    {
     "name": "stdout",
     "output_type": "stream",
     "text": [
      "Epoch: 71/200\n",
      "training classification loss: 0.4716\n",
      "train_auroc: 0.7604\n",
      "val_auroc: 0.7685\n"
     ]
    },
    {
     "name": "stderr",
     "output_type": "stream",
     "text": [
      "| |                                  #             | 3000 Elapsed Time: 0:05:42\n"
     ]
    },
    {
     "name": "stdout",
     "output_type": "stream",
     "text": [
      "Epoch: 72/200\n",
      "training classification loss: 0.4705\n",
      "train_auroc: 0.7608\n",
      "val_auroc: 0.7799\n",
      "Model saved.\n"
     ]
    },
    {
     "name": "stderr",
     "output_type": "stream",
     "text": [
      "| |                                  #             | 3000 Elapsed Time: 0:05:42\n"
     ]
    },
    {
     "name": "stdout",
     "output_type": "stream",
     "text": [
      "Epoch: 73/200\n",
      "training classification loss: 0.4704\n",
      "train_auroc: 0.7610\n",
      "val_auroc: 0.7753\n"
     ]
    },
    {
     "name": "stderr",
     "output_type": "stream",
     "text": [
      "| |                                    #           | 3000 Elapsed Time: 0:05:41\n"
     ]
    },
    {
     "name": "stdout",
     "output_type": "stream",
     "text": [
      "Epoch: 74/200\n",
      "training classification loss: 0.4705\n",
      "train_auroc: 0.7610\n",
      "val_auroc: 0.7775\n"
     ]
    },
    {
     "name": "stderr",
     "output_type": "stream",
     "text": [
      "| |                                #               | 3000 Elapsed Time: 0:05:42\n"
     ]
    },
    {
     "name": "stdout",
     "output_type": "stream",
     "text": [
      "Epoch: 75/200\n",
      "training classification loss: 0.4692\n",
      "train_auroc: 0.7644\n",
      "val_auroc: 0.7701\n"
     ]
    },
    {
     "name": "stderr",
     "output_type": "stream",
     "text": [
      "| |                                            #   | 3000 Elapsed Time: 0:05:41\n"
     ]
    },
    {
     "name": "stdout",
     "output_type": "stream",
     "text": [
      "Epoch: 76/200\n",
      "training classification loss: 0.4684\n",
      "train_auroc: 0.7642\n",
      "val_auroc: 0.7769\n"
     ]
    },
    {
     "name": "stderr",
     "output_type": "stream",
     "text": [
      "| |                                           #    | 3000 Elapsed Time: 0:05:41\n"
     ]
    },
    {
     "name": "stdout",
     "output_type": "stream",
     "text": [
      "Epoch: 77/200\n",
      "training classification loss: 0.4680\n",
      "train_auroc: 0.7648\n",
      "val_auroc: 0.7753\n"
     ]
    },
    {
     "name": "stderr",
     "output_type": "stream",
     "text": [
      "| |                                             #  | 3000 Elapsed Time: 0:05:41\n"
     ]
    },
    {
     "name": "stdout",
     "output_type": "stream",
     "text": [
      "Epoch: 78/200\n",
      "training classification loss: 0.4669\n",
      "train_auroc: 0.7662\n",
      "val_auroc: 0.7793\n"
     ]
    },
    {
     "name": "stderr",
     "output_type": "stream",
     "text": [
      "| |                                  #             | 3000 Elapsed Time: 0:05:42\n"
     ]
    },
    {
     "name": "stdout",
     "output_type": "stream",
     "text": [
      "Epoch: 79/200\n",
      "training classification loss: 0.4660\n",
      "train_auroc: 0.7664\n",
      "val_auroc: 0.7794\n"
     ]
    },
    {
     "name": "stderr",
     "output_type": "stream",
     "text": [
      "| |                                    #           | 3000 Elapsed Time: 0:05:41\n"
     ]
    },
    {
     "name": "stdout",
     "output_type": "stream",
     "text": [
      "Epoch: 80/200\n",
      "training classification loss: 0.4661\n",
      "train_auroc: 0.7660\n",
      "val_auroc: 0.7784\n"
     ]
    },
    {
     "name": "stderr",
     "output_type": "stream",
     "text": [
      "| |                                            #   | 3000 Elapsed Time: 0:05:41\n"
     ]
    },
    {
     "name": "stdout",
     "output_type": "stream",
     "text": [
      "Epoch: 81/200\n",
      "training classification loss: 0.4639\n",
      "train_auroc: 0.7692\n",
      "val_auroc: 0.7761\n"
     ]
    },
    {
     "name": "stderr",
     "output_type": "stream",
     "text": [
      "| |                                             #  | 3000 Elapsed Time: 0:05:41\n"
     ]
    },
    {
     "name": "stdout",
     "output_type": "stream",
     "text": [
      "Epoch: 82/200\n",
      "training classification loss: 0.4623\n",
      "train_auroc: 0.7709\n",
      "val_auroc: 0.7696\n"
     ]
    },
    {
     "name": "stderr",
     "output_type": "stream",
     "text": [
      "| |                           #                    | 3000 Elapsed Time: 0:05:42\n"
     ]
    },
    {
     "name": "stdout",
     "output_type": "stream",
     "text": [
      "Epoch: 83/200\n",
      "training classification loss: 0.4624\n",
      "train_auroc: 0.7706\n",
      "val_auroc: 0.7765\n"
     ]
    },
    {
     "name": "stderr",
     "output_type": "stream",
     "text": [
      "| |                                     #          | 3000 Elapsed Time: 0:05:41\n"
     ]
    },
    {
     "name": "stdout",
     "output_type": "stream",
     "text": [
      "Epoch: 84/200\n",
      "training classification loss: 0.4623\n",
      "train_auroc: 0.7712\n",
      "val_auroc: 0.7711\n"
     ]
    },
    {
     "name": "stderr",
     "output_type": "stream",
     "text": [
      "| |              #                                 | 1176 Elapsed Time: 0:02:12"
     ]
    }
   ],
   "source": [
    "# Define metric objects \n",
    "metric_objects = {'train_auroc' : SimpleAUC(),\n",
    "                  'val_auroc' : SimpleAUC()}\n",
    "best_val_metric = 0.0 if checkpoint is None else checkpoint['best_val_metric']\n",
    "i = 0 if checkpoint is None else checkpoint['epoch']\n",
    "while i < num_epochs:\n",
    "    # Reset training state variables\n",
    "    training_loss = defaultdict(lambda: 0.0)\n",
    "    num_samples = 0\n",
    "    iterators = {k : iter(v) for k, v in loader.items()}\n",
    "    for v in metric_objects.values():\n",
    "        v.reset_state()\n",
    "\n",
    "    # Training phase \n",
    "    cls.train() # Set model to training mode\n",
    "    with progressbar.ProgressBar(steps_per_epoch) as pbar:\n",
    "        for j in range(1, steps_per_epoch+1):\n",
    "            # Initialze loader's iterater\n",
    "            for k, v in loader.items():\n",
    "                if j % len(v) == 0:\n",
    "                    iterators[k] = iter(v)\n",
    "\n",
    "            # Load a batch of data\n",
    "            batch = next(iterators['train'])\n",
    "            fundus = batch['fundus'].to(device)\n",
    "\n",
    "            y_true = batch[\"level\"].to(device)\n",
    "\n",
    "            # Forward pass\n",
    "            y_pred = cls(fundus)\n",
    "            loss = loss_fn['ce'](y_pred, y_true)\n",
    "\n",
    "            # Backward pass \n",
    "            optimizer.zero_grad()\n",
    "            loss.backward()\n",
    "            optimizer.step()\n",
    "\n",
    "            # Update training metrics\n",
    "            training_loss['cls_loss'] += loss.item() * y_true.size(0)\n",
    "            num_samples += y_true.size(0)\n",
    "            metric_objects['train_auroc'].update_state(y_pred[:, 1], y_true)\n",
    "\n",
    "            pbar.update(j)\n",
    "\n",
    "        for k, v in training_loss.items():\n",
    "            training_loss[k] = v / float(num_samples)\n",
    "        lr_scheduler.step()\n",
    "\n",
    "    \n",
    "    cls.eval() # Set model to evaluation mode.\n",
    "    for batch in loader['valid']:\n",
    "        fundus = batch['fundus'].to(device)\n",
    "        y_true = batch[\"level\"]\n",
    "\n",
    "        # Forward pass\n",
    "        with torch.no_grad():\n",
    "            y_pred = cls(fundus)\n",
    "            metric_objects['val_auroc'].update_state(y_pred[:, 1], y_true)\n",
    "\n",
    "    # Display results after an epoch\n",
    "    i += 1\n",
    "    print('Epoch: {:d}/{:d}'.format(i, num_epochs))\n",
    "    print('training classification loss: {:.4f}'.format(training_loss['cls_loss']))\n",
    "    for k, v in metric_objects.items():\n",
    "        print('{}: {:.4f}'.format(k, v.result()))\n",
    "    \n",
    "    # Save model when reached the highest validation accuracy \n",
    "    curr_val_metric = metric_objects['val_auroc'].result()\n",
    "    if curr_val_metric > best_val_metric:\n",
    "        best_val_metric = curr_val_metric\n",
    "        checkpoint = {'cls_state_dict' : cls.state_dict(),\n",
    "                      'optimizer_state_dict' : optimizer.state_dict(),\n",
    "                      'lr_scheduler_state_dict' : lr_scheduler.state_dict(),\n",
    "                      'best_val_metric' : best_val_metric,\n",
    "                      'epoch' : i,\n",
    "                      'cnn_name' : cnn_name}\n",
    "        torch.save(checkpoint, checkpoint_path)\n",
    "        print('Model saved.')"
   ]
  },
  {
   "cell_type": "code",
   "execution_count": null,
   "metadata": {},
   "outputs": [],
   "source": [
    "if os.path.exists(checkpoint_path):\n",
    "    checkpoint = torch.load(checkpoint_path)\n",
    "    print('Load model trained for {} epochs.'.format(checkpoint['epoch']))\n",
    "else:\n",
    "    checkpoint = None"
   ]
  },
  {
   "cell_type": "code",
   "execution_count": null,
   "metadata": {},
   "outputs": [],
   "source": [
    "print(checkpoint[\"best_val_metric\"])"
   ]
  }
 ],
 "metadata": {
  "kernelspec": {
   "display_name": "torch",
   "language": "python",
   "name": "torch"
  },
  "language_info": {
   "codemirror_mode": {
    "name": "ipython",
    "version": 3
   },
   "file_extension": ".py",
   "mimetype": "text/x-python",
   "name": "python",
   "nbconvert_exporter": "python",
   "pygments_lexer": "ipython3",
   "version": "3.7.5"
  }
 },
 "nbformat": 4,
 "nbformat_minor": 2
}
