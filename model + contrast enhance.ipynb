{
 "cells": [
  {
   "cell_type": "code",
   "execution_count": 10,
   "metadata": {},
   "outputs": [],
   "source": [
    "# Built-in modules\n",
    "import sys, os, argparse\n",
    "from collections import OrderedDict, defaultdict\n",
    "# Public modules\n",
    "import numpy as np\n",
    "import matplotlib.pyplot as plt\n",
    "import torch, torchvision\n",
    "import torch.nn as nn\n",
    "import torch.optim as optim\n",
    "from torch.utils.data import DataLoader\n",
    "import progressbar\n",
    "\n",
    "from torchvision.datasets import ImageFolder\n",
    "from torchvision.transforms import CenterCrop, ColorJitter, Compose, \\\n",
    "        Normalize, Resize, RandomCrop, RandomHorizontalFlip, \\\n",
    "        RandomRotation, ToTensor\n",
    "from torch.utils.data import DataLoader, Dataset\n",
    "import pandas as pd\n",
    "from PIL import Image\n",
    "from utils import SimpleAUC\n",
    "\n",
    "os.environ[\"CUDA_VISIBLE_DEVICES\"]=\"3\""
   ]
  },
  {
   "cell_type": "markdown",
   "metadata": {},
   "source": [
    "# Setting parameters"
   ]
  },
  {
   "cell_type": "code",
   "execution_count": 11,
   "metadata": {},
   "outputs": [],
   "source": [
    "device = 'cuda' if torch.cuda.is_available() else 'cpu'\n",
    "init_lr = 1e-4\n",
    "batch_size = 32\n",
    "num_epochs = 200\n",
    "steps_per_epoch = 2000\n",
    "weight_decay = 1e-5\n",
    "\n",
    "cnn_name = \"model_contrast_enhance\"\n",
    "\n",
    "tag = \"model_contrast_enhance\""
   ]
  },
  {
   "cell_type": "code",
   "execution_count": 12,
   "metadata": {},
   "outputs": [],
   "source": [
    "checkpoint_dir = './train_logs/' + cnn_name"
   ]
  },
  {
   "cell_type": "code",
   "execution_count": 13,
   "metadata": {},
   "outputs": [],
   "source": [
    "os.makedirs(checkpoint_dir, exist_ok=True)\n",
    "checkpoint_path = os.path.join(checkpoint_dir, '{}.pt'.format(tag))\n",
    "if os.path.exists(checkpoint_path):\n",
    "    checkpoint = torch.load(checkpoint_path)\n",
    "    print('Load model trained for {} epochs.'.format(checkpoint['epoch']))\n",
    "else:\n",
    "    checkpoint = None"
   ]
  },
  {
   "cell_type": "markdown",
   "metadata": {},
   "source": [
    "# Build dataset"
   ]
  },
  {
   "cell_type": "code",
   "execution_count": 14,
   "metadata": {},
   "outputs": [],
   "source": [
    "IMAGENET_MEAN = [0.485, 0.456, 0.406]\n",
    "IMAGENET_STD = [0.229, 0.224, 0.225]\n",
    "\n",
    "class RetinaDataset(Dataset):\n",
    "    \"\"\" Custom dataset for Retina image dataset \"\"\"\n",
    "    def __init__(self,\n",
    "                 csv_df,\n",
    "                 img_dir,\n",
    "                 transform=None,\n",
    "                 standardize=False):\n",
    "        \"\"\"\n",
    "        Args:\n",
    "            csv_path (str): A path to the csv file.\n",
    "            img_dir (str): A path to the fundus image dir.\n",
    "            transform (callable, optional): Tranform function\n",
    "                to be applied fundus images.\n",
    "            standardize (bool): Whether to apply standardize to numeric data.\n",
    "        \"\"\"\n",
    "        super().__init__()\n",
    "        self.df = csv_df\n",
    "        self.img_dir = img_dir\n",
    "        self.transform = transform\n",
    "        self.standardize = standardize\n",
    "\n",
    "    def __len__(self):\n",
    "        return len(self.df)\n",
    "\n",
    "    def __getitem__(self, i):\n",
    "        \"\"\" read left and right retina image \"\"\"\n",
    "        path = os.path.join(self.img_dir, self.df['image'].values[i]+\".jpeg\")\n",
    "\n",
    "        sample = {}\n",
    "        sample['fundus'] = Image.open(path)\n",
    "        sample[\"level\"] = 1 if self.df[\"level\"].values[i] > 0 else 0\n",
    "\n",
    "        if self.transform is not None:\n",
    "            sample['fundus'] = self.transform(sample['fundus'])\n",
    "        return sample\n",
    "    \n",
    "def build_dataset():\n",
    "    \"\"\" Build dataset \"\"\"\n",
    "    transform_train = Compose([Resize([256, 256]),\n",
    "                               RandomCrop([224, 224]),\n",
    "                               ColorJitter(brightness=0.2,\n",
    "                                           saturation=1),\n",
    "                               RandomHorizontalFlip(),\n",
    "                               RandomRotation(degrees=30),\n",
    "                               ToTensor(),\n",
    "                               Normalize(IMAGENET_MEAN, IMAGENET_STD)])\n",
    "    transform_eval = Compose([Resize([256, 256]),\n",
    "                              CenterCrop([224, 224]),\n",
    "                              ToTensor(),\n",
    "                              Normalize(IMAGENET_MEAN, IMAGENET_STD)])\n",
    "\n",
    "    \n",
    "    \n",
    "    df = pd.read_csv(\"../kaggle_data/trainLabels.csv\")\n",
    "    n_samples = len(df)\n",
    "    train_df = df[0:int(n_samples*0.8)]\n",
    "    val_df = df[int(n_samples*0.8):]\n",
    "    \n",
    "    IMG_DIR = \"../kaggle_data/train_resize_contrast\"\n",
    "    \n",
    "    dataset = {'train': RetinaDataset(csv_df=train_df,\n",
    "                                   img_dir=IMG_DIR,\n",
    "                                   transform=transform_train),\n",
    "               'valid' : RetinaDataset(csv_df=val_df,\n",
    "                                   img_dir=IMG_DIR,\n",
    "                                  transform=transform_eval)}\n",
    "\n",
    "        \n",
    "\n",
    "    return dataset"
   ]
  },
  {
   "cell_type": "code",
   "execution_count": 15,
   "metadata": {},
   "outputs": [],
   "source": [
    "dataset = build_dataset()\n",
    "loader = {}\n",
    "for key in ['train', 'valid']:\n",
    "    shuffle = (key != 'valid')\n",
    "    loader[key] = DataLoader(dataset[key], batch_size=batch_size, shuffle=shuffle,\n",
    "                             pin_memory=True, num_workers=4)"
   ]
  },
  {
   "cell_type": "markdown",
   "metadata": {},
   "source": [
    "# Define Model"
   ]
  },
  {
   "cell_type": "code",
   "execution_count": 16,
   "metadata": {},
   "outputs": [],
   "source": [
    "_model_dict = {\n",
    "            'resnet18' : torchvision.models.resnet18,\n",
    "            'resnet34' : torchvision.models.resnet34,\n",
    "            'resnet50' : torchvision.models.resnet50,\n",
    "            'resnet101' : torchvision.models.resnet101,\n",
    "        }\n",
    "\n",
    "class Classifier(nn.Module):\n",
    "    \"\"\" Pre-trained model to which new layers are attached. \"\"\"\n",
    "    def __init__(self,\n",
    "                 cnn_name,\n",
    "                 num_classes,\n",
    "                 pretrained=False):\n",
    "        \"\"\" Initialize module\n",
    "        Args:\n",
    "            cnn_name (str): The name of a pretrained CNN model.\n",
    "            num_classes (int): The number of output classes.\n",
    "        \"\"\"\n",
    "        super().__init__()\n",
    "        if cnn_name not in _model_dict.keys():\n",
    "            raise NotImplementedError('{} is not supported.'.format(cnn_name))\n",
    "\n",
    "        self.num_classes = num_classes\n",
    "        self.model = _model_dict[cnn_name](pretrained=pretrained)\n",
    "        self.model.fc = nn.Linear(512, num_classes)\n",
    "\n",
    "    def forward(self, fundus):\n",
    "        \"\"\" forward pass \"\"\"\n",
    "        h = self.model(fundus)\n",
    "        return h\n"
   ]
  },
  {
   "cell_type": "code",
   "execution_count": 17,
   "metadata": {},
   "outputs": [
    {
     "data": {
      "text/plain": [
       "Classifier(\n",
       "  (model): ResNet(\n",
       "    (conv1): Conv2d(3, 64, kernel_size=(7, 7), stride=(2, 2), padding=(3, 3), bias=False)\n",
       "    (bn1): BatchNorm2d(64, eps=1e-05, momentum=0.1, affine=True, track_running_stats=True)\n",
       "    (relu): ReLU(inplace=True)\n",
       "    (maxpool): MaxPool2d(kernel_size=3, stride=2, padding=1, dilation=1, ceil_mode=False)\n",
       "    (layer1): Sequential(\n",
       "      (0): BasicBlock(\n",
       "        (conv1): Conv2d(64, 64, kernel_size=(3, 3), stride=(1, 1), padding=(1, 1), bias=False)\n",
       "        (bn1): BatchNorm2d(64, eps=1e-05, momentum=0.1, affine=True, track_running_stats=True)\n",
       "        (relu): ReLU(inplace=True)\n",
       "        (conv2): Conv2d(64, 64, kernel_size=(3, 3), stride=(1, 1), padding=(1, 1), bias=False)\n",
       "        (bn2): BatchNorm2d(64, eps=1e-05, momentum=0.1, affine=True, track_running_stats=True)\n",
       "      )\n",
       "      (1): BasicBlock(\n",
       "        (conv1): Conv2d(64, 64, kernel_size=(3, 3), stride=(1, 1), padding=(1, 1), bias=False)\n",
       "        (bn1): BatchNorm2d(64, eps=1e-05, momentum=0.1, affine=True, track_running_stats=True)\n",
       "        (relu): ReLU(inplace=True)\n",
       "        (conv2): Conv2d(64, 64, kernel_size=(3, 3), stride=(1, 1), padding=(1, 1), bias=False)\n",
       "        (bn2): BatchNorm2d(64, eps=1e-05, momentum=0.1, affine=True, track_running_stats=True)\n",
       "      )\n",
       "    )\n",
       "    (layer2): Sequential(\n",
       "      (0): BasicBlock(\n",
       "        (conv1): Conv2d(64, 128, kernel_size=(3, 3), stride=(2, 2), padding=(1, 1), bias=False)\n",
       "        (bn1): BatchNorm2d(128, eps=1e-05, momentum=0.1, affine=True, track_running_stats=True)\n",
       "        (relu): ReLU(inplace=True)\n",
       "        (conv2): Conv2d(128, 128, kernel_size=(3, 3), stride=(1, 1), padding=(1, 1), bias=False)\n",
       "        (bn2): BatchNorm2d(128, eps=1e-05, momentum=0.1, affine=True, track_running_stats=True)\n",
       "        (downsample): Sequential(\n",
       "          (0): Conv2d(64, 128, kernel_size=(1, 1), stride=(2, 2), bias=False)\n",
       "          (1): BatchNorm2d(128, eps=1e-05, momentum=0.1, affine=True, track_running_stats=True)\n",
       "        )\n",
       "      )\n",
       "      (1): BasicBlock(\n",
       "        (conv1): Conv2d(128, 128, kernel_size=(3, 3), stride=(1, 1), padding=(1, 1), bias=False)\n",
       "        (bn1): BatchNorm2d(128, eps=1e-05, momentum=0.1, affine=True, track_running_stats=True)\n",
       "        (relu): ReLU(inplace=True)\n",
       "        (conv2): Conv2d(128, 128, kernel_size=(3, 3), stride=(1, 1), padding=(1, 1), bias=False)\n",
       "        (bn2): BatchNorm2d(128, eps=1e-05, momentum=0.1, affine=True, track_running_stats=True)\n",
       "      )\n",
       "    )\n",
       "    (layer3): Sequential(\n",
       "      (0): BasicBlock(\n",
       "        (conv1): Conv2d(128, 256, kernel_size=(3, 3), stride=(2, 2), padding=(1, 1), bias=False)\n",
       "        (bn1): BatchNorm2d(256, eps=1e-05, momentum=0.1, affine=True, track_running_stats=True)\n",
       "        (relu): ReLU(inplace=True)\n",
       "        (conv2): Conv2d(256, 256, kernel_size=(3, 3), stride=(1, 1), padding=(1, 1), bias=False)\n",
       "        (bn2): BatchNorm2d(256, eps=1e-05, momentum=0.1, affine=True, track_running_stats=True)\n",
       "        (downsample): Sequential(\n",
       "          (0): Conv2d(128, 256, kernel_size=(1, 1), stride=(2, 2), bias=False)\n",
       "          (1): BatchNorm2d(256, eps=1e-05, momentum=0.1, affine=True, track_running_stats=True)\n",
       "        )\n",
       "      )\n",
       "      (1): BasicBlock(\n",
       "        (conv1): Conv2d(256, 256, kernel_size=(3, 3), stride=(1, 1), padding=(1, 1), bias=False)\n",
       "        (bn1): BatchNorm2d(256, eps=1e-05, momentum=0.1, affine=True, track_running_stats=True)\n",
       "        (relu): ReLU(inplace=True)\n",
       "        (conv2): Conv2d(256, 256, kernel_size=(3, 3), stride=(1, 1), padding=(1, 1), bias=False)\n",
       "        (bn2): BatchNorm2d(256, eps=1e-05, momentum=0.1, affine=True, track_running_stats=True)\n",
       "      )\n",
       "    )\n",
       "    (layer4): Sequential(\n",
       "      (0): BasicBlock(\n",
       "        (conv1): Conv2d(256, 512, kernel_size=(3, 3), stride=(2, 2), padding=(1, 1), bias=False)\n",
       "        (bn1): BatchNorm2d(512, eps=1e-05, momentum=0.1, affine=True, track_running_stats=True)\n",
       "        (relu): ReLU(inplace=True)\n",
       "        (conv2): Conv2d(512, 512, kernel_size=(3, 3), stride=(1, 1), padding=(1, 1), bias=False)\n",
       "        (bn2): BatchNorm2d(512, eps=1e-05, momentum=0.1, affine=True, track_running_stats=True)\n",
       "        (downsample): Sequential(\n",
       "          (0): Conv2d(256, 512, kernel_size=(1, 1), stride=(2, 2), bias=False)\n",
       "          (1): BatchNorm2d(512, eps=1e-05, momentum=0.1, affine=True, track_running_stats=True)\n",
       "        )\n",
       "      )\n",
       "      (1): BasicBlock(\n",
       "        (conv1): Conv2d(512, 512, kernel_size=(3, 3), stride=(1, 1), padding=(1, 1), bias=False)\n",
       "        (bn1): BatchNorm2d(512, eps=1e-05, momentum=0.1, affine=True, track_running_stats=True)\n",
       "        (relu): ReLU(inplace=True)\n",
       "        (conv2): Conv2d(512, 512, kernel_size=(3, 3), stride=(1, 1), padding=(1, 1), bias=False)\n",
       "        (bn2): BatchNorm2d(512, eps=1e-05, momentum=0.1, affine=True, track_running_stats=True)\n",
       "      )\n",
       "    )\n",
       "    (avgpool): AdaptiveAvgPool2d(output_size=(1, 1))\n",
       "    (fc): Linear(in_features=512, out_features=2, bias=True)\n",
       "  )\n",
       ")"
      ]
     },
     "execution_count": 17,
     "metadata": {},
     "output_type": "execute_result"
    }
   ],
   "source": [
    "if checkpoint is None:\n",
    "    cls = Classifier('resnet18', num_classes=2, pretrained=False)\n",
    "else:\n",
    "    cls = Classifier(\"resnet18\", num_classes=2,\n",
    "            pretrained=False)\n",
    "    cls.load_state_dict(checkpoint['cls_state_dict'])\n",
    "cls.to(device)"
   ]
  },
  {
   "cell_type": "markdown",
   "metadata": {},
   "source": [
    "# Define Loss function and optimizer"
   ]
  },
  {
   "cell_type": "code",
   "execution_count": 18,
   "metadata": {},
   "outputs": [],
   "source": [
    "# Define loss function\n",
    "loss_fn = {'ce' : nn.CrossEntropyLoss()}\n",
    "\n",
    "# Build optimizer\n",
    "\n",
    "optimizer = optim.SGD(cls.parameters(),\n",
    "                      lr=init_lr,\n",
    "                      momentum=0.9,\n",
    "                      weight_decay=weight_decay,\n",
    "                      nesterov=True)\n",
    "\n",
    "if checkpoint is not None:\n",
    "    optimizer.load_state_dict(checkpoint['optimizer_state_dict'])\n",
    "\n",
    "decay_factor = 0.99\n",
    "lr_scheduler = optim.lr_scheduler.LambdaLR(optimizer,lambda epoch: decay_factor ** epoch)\n",
    "if checkpoint is not None:\n",
    "    lr_scheduler.load_state_dict(checkpoint['lr_scheduler_state_dict'])"
   ]
  },
  {
   "cell_type": "markdown",
   "metadata": {},
   "source": [
    "# Train"
   ]
  },
  {
   "cell_type": "code",
   "execution_count": null,
   "metadata": {},
   "outputs": [
    {
     "name": "stderr",
     "output_type": "stream",
     "text": [
      "| |                                          #     | 2000 Elapsed Time: 0:02:57\n"
     ]
    },
    {
     "name": "stdout",
     "output_type": "stream",
     "text": [
      "Epoch: 1/200\n",
      "training classification loss: 0.5816\n",
      "train_auroc: 0.5198\n",
      "val_auroc: 0.5380\n",
      "Model saved.\n"
     ]
    },
    {
     "name": "stderr",
     "output_type": "stream",
     "text": [
      "| |                     #                          | 2000 Elapsed Time: 0:03:00\n"
     ]
    },
    {
     "name": "stdout",
     "output_type": "stream",
     "text": [
      "Epoch: 2/200\n",
      "training classification loss: 0.5799\n",
      "train_auroc: 0.5235\n",
      "val_auroc: 0.5489\n",
      "Model saved.\n"
     ]
    },
    {
     "name": "stderr",
     "output_type": "stream",
     "text": [
      "| |                            #                   | 2000 Elapsed Time: 0:02:59\n"
     ]
    },
    {
     "name": "stdout",
     "output_type": "stream",
     "text": [
      "Epoch: 3/200\n",
      "training classification loss: 0.5791\n",
      "train_auroc: 0.5297\n",
      "val_auroc: 0.5682\n",
      "Model saved.\n"
     ]
    },
    {
     "name": "stderr",
     "output_type": "stream",
     "text": [
      "| |                      #                         | 2000 Elapsed Time: 0:03:00\n"
     ]
    },
    {
     "name": "stdout",
     "output_type": "stream",
     "text": [
      "Epoch: 4/200\n",
      "training classification loss: 0.5779\n",
      "train_auroc: 0.5425\n",
      "val_auroc: 0.5840\n",
      "Model saved.\n"
     ]
    },
    {
     "name": "stderr",
     "output_type": "stream",
     "text": [
      "| |   #                                            | 2000 Elapsed Time: 0:03:02\n"
     ]
    },
    {
     "name": "stdout",
     "output_type": "stream",
     "text": [
      "Epoch: 5/200\n",
      "training classification loss: 0.5757\n",
      "train_auroc: 0.5577\n",
      "val_auroc: 0.5981\n",
      "Model saved.\n"
     ]
    },
    {
     "name": "stderr",
     "output_type": "stream",
     "text": [
      "| |               #                                | 2000 Elapsed Time: 0:03:00\n"
     ]
    },
    {
     "name": "stdout",
     "output_type": "stream",
     "text": [
      "Epoch: 6/200\n",
      "training classification loss: 0.5712\n",
      "train_auroc: 0.5774\n",
      "val_auroc: 0.6418\n",
      "Model saved.\n"
     ]
    },
    {
     "name": "stderr",
     "output_type": "stream",
     "text": [
      "| |                       #                        | 2000 Elapsed Time: 0:03:04\n"
     ]
    },
    {
     "name": "stdout",
     "output_type": "stream",
     "text": [
      "Epoch: 7/200\n",
      "training classification loss: 0.5649\n",
      "train_auroc: 0.6064\n",
      "val_auroc: 0.6616\n",
      "Model saved.\n"
     ]
    },
    {
     "name": "stderr",
     "output_type": "stream",
     "text": [
      "| |         #                                      | 2000 Elapsed Time: 0:03:01\n"
     ]
    },
    {
     "name": "stdout",
     "output_type": "stream",
     "text": [
      "Epoch: 8/200\n",
      "training classification loss: 0.5620\n",
      "train_auroc: 0.6190\n",
      "val_auroc: 0.6704\n",
      "Model saved.\n"
     ]
    },
    {
     "name": "stderr",
     "output_type": "stream",
     "text": [
      "| |        #                                       | 2000 Elapsed Time: 0:03:01\n"
     ]
    },
    {
     "name": "stdout",
     "output_type": "stream",
     "text": [
      "Epoch: 9/200\n",
      "training classification loss: 0.5570\n",
      "train_auroc: 0.6298\n",
      "val_auroc: 0.6734\n",
      "Model saved.\n"
     ]
    },
    {
     "name": "stderr",
     "output_type": "stream",
     "text": [
      "| |                #                               | 2000 Elapsed Time: 0:03:00\n"
     ]
    },
    {
     "name": "stdout",
     "output_type": "stream",
     "text": [
      "Epoch: 10/200\n",
      "training classification loss: 0.5548\n",
      "train_auroc: 0.6366\n",
      "val_auroc: 0.6900\n",
      "Model saved.\n"
     ]
    },
    {
     "name": "stderr",
     "output_type": "stream",
     "text": [
      "| |                                #               | 2000 Elapsed Time: 0:02:59\n"
     ]
    },
    {
     "name": "stdout",
     "output_type": "stream",
     "text": [
      "Epoch: 11/200\n",
      "training classification loss: 0.5529\n",
      "train_auroc: 0.6427\n",
      "val_auroc: 0.6950\n",
      "Model saved.\n"
     ]
    },
    {
     "name": "stderr",
     "output_type": "stream",
     "text": [
      "| |           #                                    | 2000 Elapsed Time: 0:03:03\n"
     ]
    },
    {
     "name": "stdout",
     "output_type": "stream",
     "text": [
      "Epoch: 12/200\n",
      "training classification loss: 0.5504\n",
      "train_auroc: 0.6493\n",
      "val_auroc: 0.6898\n"
     ]
    },
    {
     "name": "stderr",
     "output_type": "stream",
     "text": [
      "| |       #                                        | 2000 Elapsed Time: 0:03:01\n"
     ]
    },
    {
     "name": "stdout",
     "output_type": "stream",
     "text": [
      "Epoch: 13/200\n",
      "training classification loss: 0.5471\n",
      "train_auroc: 0.6545\n",
      "val_auroc: 0.7034\n",
      "Model saved.\n"
     ]
    },
    {
     "name": "stderr",
     "output_type": "stream",
     "text": [
      "| |   #                                            | 2000 Elapsed Time: 0:03:02\n"
     ]
    },
    {
     "name": "stdout",
     "output_type": "stream",
     "text": [
      "Epoch: 14/200\n",
      "training classification loss: 0.5463\n",
      "train_auroc: 0.6582\n",
      "val_auroc: 0.7085\n",
      "Model saved.\n"
     ]
    },
    {
     "name": "stderr",
     "output_type": "stream",
     "text": [
      "| |                          #                     | 2000 Elapsed Time: 0:02:59\n"
     ]
    },
    {
     "name": "stdout",
     "output_type": "stream",
     "text": [
      "Epoch: 15/200\n",
      "training classification loss: 0.5448\n",
      "train_auroc: 0.6603\n",
      "val_auroc: 0.7018\n"
     ]
    },
    {
     "name": "stderr",
     "output_type": "stream",
     "text": [
      "| |                             #                  | 2000 Elapsed Time: 0:02:59\n"
     ]
    },
    {
     "name": "stdout",
     "output_type": "stream",
     "text": [
      "Epoch: 16/200\n",
      "training classification loss: 0.5413\n",
      "train_auroc: 0.6674\n",
      "val_auroc: 0.7193\n",
      "Model saved.\n"
     ]
    },
    {
     "name": "stderr",
     "output_type": "stream",
     "text": [
      "| |                   #                            | 2000 Elapsed Time: 0:03:04\n"
     ]
    },
    {
     "name": "stdout",
     "output_type": "stream",
     "text": [
      "Epoch: 17/200\n",
      "training classification loss: 0.5400\n",
      "train_auroc: 0.6710\n",
      "val_auroc: 0.7168\n"
     ]
    },
    {
     "name": "stderr",
     "output_type": "stream",
     "text": [
      "| |   #                                            | 2000 Elapsed Time: 0:03:02\n"
     ]
    },
    {
     "name": "stdout",
     "output_type": "stream",
     "text": [
      "Epoch: 18/200\n",
      "training classification loss: 0.5375\n",
      "train_auroc: 0.6723\n",
      "val_auroc: 0.7070\n"
     ]
    },
    {
     "name": "stderr",
     "output_type": "stream",
     "text": [
      "| |                #                               | 2000 Elapsed Time: 0:03:00\n"
     ]
    },
    {
     "name": "stdout",
     "output_type": "stream",
     "text": [
      "Epoch: 19/200\n",
      "training classification loss: 0.5375\n",
      "train_auroc: 0.6738\n",
      "val_auroc: 0.7255\n",
      "Model saved.\n"
     ]
    },
    {
     "name": "stderr",
     "output_type": "stream",
     "text": [
      "| |          #                                     | 2000 Elapsed Time: 0:03:01\n"
     ]
    },
    {
     "name": "stdout",
     "output_type": "stream",
     "text": [
      "Epoch: 20/200\n",
      "training classification loss: 0.5356\n",
      "train_auroc: 0.6790\n",
      "val_auroc: 0.7030\n"
     ]
    },
    {
     "name": "stderr",
     "output_type": "stream",
     "text": [
      "| |    #                                           | 2000 Elapsed Time: 0:03:02\n"
     ]
    },
    {
     "name": "stdout",
     "output_type": "stream",
     "text": [
      "Epoch: 21/200\n",
      "training classification loss: 0.5328\n",
      "train_auroc: 0.6836\n",
      "val_auroc: 0.7171\n"
     ]
    },
    {
     "name": "stderr",
     "output_type": "stream",
     "text": [
      "| |    #                                           | 2000 Elapsed Time: 0:03:01\n"
     ]
    },
    {
     "name": "stdout",
     "output_type": "stream",
     "text": [
      "Epoch: 22/200\n",
      "training classification loss: 0.5316\n",
      "train_auroc: 0.6869\n",
      "val_auroc: 0.7280\n",
      "Model saved.\n"
     ]
    },
    {
     "name": "stderr",
     "output_type": "stream",
     "text": [
      "| |           #                                    | 2000 Elapsed Time: 0:03:03\n"
     ]
    },
    {
     "name": "stdout",
     "output_type": "stream",
     "text": [
      "Epoch: 23/200\n",
      "training classification loss: 0.5303\n",
      "train_auroc: 0.6876\n",
      "val_auroc: 0.7266\n"
     ]
    },
    {
     "name": "stderr",
     "output_type": "stream",
     "text": [
      "| |   #                                            | 2000 Elapsed Time: 0:03:02\n"
     ]
    },
    {
     "name": "stdout",
     "output_type": "stream",
     "text": [
      "Epoch: 24/200\n",
      "training classification loss: 0.5296\n",
      "train_auroc: 0.6888\n",
      "val_auroc: 0.7275\n"
     ]
    },
    {
     "name": "stderr",
     "output_type": "stream",
     "text": [
      "| |              #                                 | 2000 Elapsed Time: 0:03:03\n"
     ]
    },
    {
     "name": "stdout",
     "output_type": "stream",
     "text": [
      "Epoch: 25/200\n",
      "training classification loss: 0.5274\n",
      "train_auroc: 0.6920\n",
      "val_auroc: 0.7351\n",
      "Model saved.\n"
     ]
    },
    {
     "name": "stderr",
     "output_type": "stream",
     "text": [
      "| |  #                                             | 2000 Elapsed Time: 0:03:02\n"
     ]
    },
    {
     "name": "stdout",
     "output_type": "stream",
     "text": [
      "Epoch: 26/200\n",
      "training classification loss: 0.5253\n",
      "train_auroc: 0.6957\n",
      "val_auroc: 0.7402\n",
      "Model saved.\n"
     ]
    },
    {
     "name": "stderr",
     "output_type": "stream",
     "text": [
      "| |                         #                      | 2000 Elapsed Time: 0:02:59\n"
     ]
    },
    {
     "name": "stdout",
     "output_type": "stream",
     "text": [
      "Epoch: 27/200\n",
      "training classification loss: 0.5256\n",
      "train_auroc: 0.6973\n",
      "val_auroc: 0.7393\n"
     ]
    },
    {
     "name": "stderr",
     "output_type": "stream",
     "text": [
      "| |      #                                         | 2000 Elapsed Time: 0:03:03\n"
     ]
    },
    {
     "name": "stdout",
     "output_type": "stream",
     "text": [
      "Epoch: 28/200\n",
      "training classification loss: 0.5235\n",
      "train_auroc: 0.6967\n",
      "val_auroc: 0.7403\n",
      "Model saved.\n"
     ]
    },
    {
     "name": "stderr",
     "output_type": "stream",
     "text": [
      "| |                #                               | 2000 Elapsed Time: 0:03:04\n"
     ]
    },
    {
     "name": "stdout",
     "output_type": "stream",
     "text": [
      "Epoch: 29/200\n",
      "training classification loss: 0.5237\n",
      "train_auroc: 0.6973\n",
      "val_auroc: 0.7432\n",
      "Model saved.\n"
     ]
    },
    {
     "name": "stderr",
     "output_type": "stream",
     "text": [
      "| |  #                                             | 2000 Elapsed Time: 0:03:02\n"
     ]
    },
    {
     "name": "stdout",
     "output_type": "stream",
     "text": [
      "Epoch: 30/200\n",
      "training classification loss: 0.5226\n",
      "train_auroc: 0.7011\n",
      "val_auroc: 0.7400\n"
     ]
    },
    {
     "name": "stderr",
     "output_type": "stream",
     "text": [
      "| |                                          #     | 2000 Elapsed Time: 0:02:58\n"
     ]
    },
    {
     "name": "stdout",
     "output_type": "stream",
     "text": [
      "Epoch: 31/200\n",
      "training classification loss: 0.5209\n",
      "train_auroc: 0.7035\n",
      "val_auroc: 0.7396\n"
     ]
    },
    {
     "name": "stderr",
     "output_type": "stream",
     "text": [
      "| |                      #                         | 2000 Elapsed Time: 0:03:00\n"
     ]
    },
    {
     "name": "stdout",
     "output_type": "stream",
     "text": [
      "Epoch: 32/200\n",
      "training classification loss: 0.5187\n",
      "train_auroc: 0.7061\n",
      "val_auroc: 0.7429\n"
     ]
    },
    {
     "name": "stderr",
     "output_type": "stream",
     "text": [
      "| |#                                               | 2000 Elapsed Time: 0:03:02\n"
     ]
    },
    {
     "name": "stdout",
     "output_type": "stream",
     "text": [
      "Epoch: 33/200\n",
      "training classification loss: 0.5192\n",
      "train_auroc: 0.7020\n",
      "val_auroc: 0.7372\n"
     ]
    },
    {
     "name": "stderr",
     "output_type": "stream",
     "text": [
      "| |                                #               | 2000 Elapsed Time: 0:02:59\n"
     ]
    },
    {
     "name": "stdout",
     "output_type": "stream",
     "text": [
      "Epoch: 34/200\n",
      "training classification loss: 0.5189\n",
      "train_auroc: 0.7043\n",
      "val_auroc: 0.7464\n",
      "Model saved.\n"
     ]
    },
    {
     "name": "stderr",
     "output_type": "stream",
     "text": [
      "| |   #                                            | 2000 Elapsed Time: 0:03:02\n"
     ]
    },
    {
     "name": "stdout",
     "output_type": "stream",
     "text": [
      "Epoch: 35/200\n",
      "training classification loss: 0.5163\n",
      "train_auroc: 0.7085\n",
      "val_auroc: 0.7482\n",
      "Model saved.\n"
     ]
    },
    {
     "name": "stderr",
     "output_type": "stream",
     "text": [
      "| |             #                                  | 2000 Elapsed Time: 0:03:03\n"
     ]
    },
    {
     "name": "stdout",
     "output_type": "stream",
     "text": [
      "Epoch: 36/200\n",
      "training classification loss: 0.5172\n",
      "train_auroc: 0.7096\n",
      "val_auroc: 0.7488\n",
      "Model saved.\n"
     ]
    },
    {
     "name": "stderr",
     "output_type": "stream",
     "text": [
      "| |         #                                      | 2000 Elapsed Time: 0:03:01\n"
     ]
    },
    {
     "name": "stdout",
     "output_type": "stream",
     "text": [
      "Epoch: 37/200\n",
      "training classification loss: 0.5158\n",
      "train_auroc: 0.7114\n",
      "val_auroc: 0.7384\n"
     ]
    },
    {
     "name": "stderr",
     "output_type": "stream",
     "text": [
      "| |   #                                            | 2000 Elapsed Time: 0:03:02\n"
     ]
    },
    {
     "name": "stdout",
     "output_type": "stream",
     "text": [
      "Epoch: 38/200\n",
      "training classification loss: 0.5143\n",
      "train_auroc: 0.7115\n",
      "val_auroc: 0.7435\n"
     ]
    },
    {
     "name": "stderr",
     "output_type": "stream",
     "text": [
      "| |        #                                       | 2000 Elapsed Time: 0:03:03\n"
     ]
    },
    {
     "name": "stdout",
     "output_type": "stream",
     "text": [
      "Epoch: 39/200\n",
      "training classification loss: 0.5147\n",
      "train_auroc: 0.7123\n",
      "val_auroc: 0.7476\n"
     ]
    },
    {
     "name": "stderr",
     "output_type": "stream",
     "text": [
      "| |         #                                      | 2000 Elapsed Time: 0:03:01\n"
     ]
    },
    {
     "name": "stdout",
     "output_type": "stream",
     "text": [
      "Epoch: 40/200\n",
      "training classification loss: 0.5128\n",
      "train_auroc: 0.7166\n",
      "val_auroc: 0.7537\n",
      "Model saved.\n"
     ]
    },
    {
     "name": "stderr",
     "output_type": "stream",
     "text": [
      "| |                    #                           | 2000 Elapsed Time: 0:03:00\n"
     ]
    },
    {
     "name": "stdout",
     "output_type": "stream",
     "text": [
      "Epoch: 41/200\n",
      "training classification loss: 0.5112\n",
      "train_auroc: 0.7163\n",
      "val_auroc: 0.7512\n"
     ]
    },
    {
     "name": "stderr",
     "output_type": "stream",
     "text": [
      "| |               #                                | 2000 Elapsed Time: 0:03:03\n"
     ]
    },
    {
     "name": "stdout",
     "output_type": "stream",
     "text": [
      "Epoch: 42/200\n",
      "training classification loss: 0.5109\n",
      "train_auroc: 0.7188\n",
      "val_auroc: 0.7533\n"
     ]
    },
    {
     "name": "stderr",
     "output_type": "stream",
     "text": [
      "| |  #                                             | 2000 Elapsed Time: 0:03:02\n"
     ]
    },
    {
     "name": "stdout",
     "output_type": "stream",
     "text": [
      "Epoch: 43/200\n",
      "training classification loss: 0.5100\n",
      "train_auroc: 0.7199\n",
      "val_auroc: 0.7484\n"
     ]
    },
    {
     "name": "stderr",
     "output_type": "stream",
     "text": [
      "| |#                                               | 2000 Elapsed Time: 0:03:02\n"
     ]
    },
    {
     "name": "stdout",
     "output_type": "stream",
     "text": [
      "Epoch: 44/200\n",
      "training classification loss: 0.5104\n",
      "train_auroc: 0.7181\n",
      "val_auroc: 0.7561\n",
      "Model saved.\n"
     ]
    },
    {
     "name": "stderr",
     "output_type": "stream",
     "text": [
      "| |  #                                             | 2000 Elapsed Time: 0:03:02\n"
     ]
    },
    {
     "name": "stdout",
     "output_type": "stream",
     "text": [
      "Epoch: 45/200\n",
      "training classification loss: 0.5087\n",
      "train_auroc: 0.7211\n",
      "val_auroc: 0.7533\n"
     ]
    },
    {
     "name": "stderr",
     "output_type": "stream",
     "text": [
      "| |   #                                            | 2000 Elapsed Time: 0:03:02\n"
     ]
    },
    {
     "name": "stdout",
     "output_type": "stream",
     "text": [
      "Epoch: 46/200\n",
      "training classification loss: 0.5088\n",
      "train_auroc: 0.7214\n",
      "val_auroc: 0.7532\n"
     ]
    },
    {
     "name": "stderr",
     "output_type": "stream",
     "text": [
      "| |   #                                            | 2000 Elapsed Time: 0:03:02\n"
     ]
    },
    {
     "name": "stdout",
     "output_type": "stream",
     "text": [
      "Epoch: 47/200\n",
      "training classification loss: 0.5084\n",
      "train_auroc: 0.7213\n",
      "val_auroc: 0.7564\n",
      "Model saved.\n"
     ]
    },
    {
     "name": "stderr",
     "output_type": "stream",
     "text": [
      "| |                                       #        | 2000 Elapsed Time: 0:02:58\n"
     ]
    },
    {
     "name": "stdout",
     "output_type": "stream",
     "text": [
      "Epoch: 48/200\n",
      "training classification loss: 0.5075\n",
      "train_auroc: 0.7222\n",
      "val_auroc: 0.7560\n"
     ]
    },
    {
     "name": "stderr",
     "output_type": "stream",
     "text": [
      "| |                   #                            | 2000 Elapsed Time: 0:03:04\n"
     ]
    },
    {
     "name": "stdout",
     "output_type": "stream",
     "text": [
      "Epoch: 49/200\n",
      "training classification loss: 0.5056\n",
      "train_auroc: 0.7245\n",
      "val_auroc: 0.7483\n"
     ]
    },
    {
     "name": "stderr",
     "output_type": "stream",
     "text": [
      "| |                           #                    | 2000 Elapsed Time: 0:02:59\n"
     ]
    },
    {
     "name": "stdout",
     "output_type": "stream",
     "text": [
      "Epoch: 50/200\n",
      "training classification loss: 0.5046\n",
      "train_auroc: 0.7276\n",
      "val_auroc: 0.7597\n",
      "Model saved.\n"
     ]
    },
    {
     "name": "stderr",
     "output_type": "stream",
     "text": [
      "| |           #                                    | 2000 Elapsed Time: 0:03:01\n"
     ]
    },
    {
     "name": "stdout",
     "output_type": "stream",
     "text": [
      "Epoch: 51/200\n",
      "training classification loss: 0.5051\n",
      "train_auroc: 0.7270\n",
      "val_auroc: 0.7571\n"
     ]
    },
    {
     "name": "stderr",
     "output_type": "stream",
     "text": [
      "| | #                                              | 2000 Elapsed Time: 0:03:02\n"
     ]
    },
    {
     "name": "stdout",
     "output_type": "stream",
     "text": [
      "Epoch: 52/200\n",
      "training classification loss: 0.5060\n",
      "train_auroc: 0.7247\n",
      "val_auroc: 0.7605\n",
      "Model saved.\n"
     ]
    },
    {
     "name": "stderr",
     "output_type": "stream",
     "text": [
      "| |  #                                             | 2000 Elapsed Time: 0:03:02\n"
     ]
    },
    {
     "name": "stdout",
     "output_type": "stream",
     "text": [
      "Epoch: 53/200\n",
      "training classification loss: 0.5040\n",
      "train_auroc: 0.7252\n",
      "val_auroc: 0.7562\n"
     ]
    },
    {
     "name": "stderr",
     "output_type": "stream",
     "text": [
      "| |                                 #              | 2000 Elapsed Time: 0:02:59\n"
     ]
    },
    {
     "name": "stdout",
     "output_type": "stream",
     "text": [
      "Epoch: 54/200\n",
      "training classification loss: 0.5029\n",
      "train_auroc: 0.7289\n",
      "val_auroc: 0.7602\n"
     ]
    },
    {
     "name": "stderr",
     "output_type": "stream",
     "text": [
      "| |     #                                          | 2000 Elapsed Time: 0:03:02\n"
     ]
    },
    {
     "name": "stdout",
     "output_type": "stream",
     "text": [
      "Epoch: 55/200\n",
      "training classification loss: 0.5032\n",
      "train_auroc: 0.7272\n",
      "val_auroc: 0.7567\n"
     ]
    },
    {
     "name": "stderr",
     "output_type": "stream",
     "text": [
      "| |    #                                           | 2000 Elapsed Time: 0:03:01\n"
     ]
    },
    {
     "name": "stdout",
     "output_type": "stream",
     "text": [
      "Epoch: 56/200\n",
      "training classification loss: 0.5027\n",
      "train_auroc: 0.7295\n",
      "val_auroc: 0.7614\n",
      "Model saved.\n"
     ]
    },
    {
     "name": "stderr",
     "output_type": "stream",
     "text": [
      "| |           #                                    | 2000 Elapsed Time: 0:03:01\n"
     ]
    },
    {
     "name": "stdout",
     "output_type": "stream",
     "text": [
      "Epoch: 57/200\n",
      "training classification loss: 0.5028\n",
      "train_auroc: 0.7291\n",
      "val_auroc: 0.7623\n",
      "Model saved.\n"
     ]
    },
    {
     "name": "stderr",
     "output_type": "stream",
     "text": [
      "| |                   #                            | 2000 Elapsed Time: 0:03:00\n"
     ]
    },
    {
     "name": "stdout",
     "output_type": "stream",
     "text": [
      "Epoch: 58/200\n",
      "training classification loss: 0.5010\n",
      "train_auroc: 0.7337\n",
      "val_auroc: 0.7618\n"
     ]
    },
    {
     "name": "stderr",
     "output_type": "stream",
     "text": [
      "| |                  #                             | 2000 Elapsed Time: 0:03:00\n"
     ]
    },
    {
     "name": "stdout",
     "output_type": "stream",
     "text": [
      "Epoch: 59/200\n",
      "training classification loss: 0.5011\n",
      "train_auroc: 0.7303\n",
      "val_auroc: 0.7546\n"
     ]
    },
    {
     "name": "stderr",
     "output_type": "stream",
     "text": [
      "| |                  #                             | 2000 Elapsed Time: 0:03:04\n"
     ]
    },
    {
     "name": "stdout",
     "output_type": "stream",
     "text": [
      "Epoch: 60/200\n",
      "training classification loss: 0.5001\n",
      "train_auroc: 0.7325\n",
      "val_auroc: 0.7577\n"
     ]
    },
    {
     "name": "stderr",
     "output_type": "stream",
     "text": [
      "| |             #                                  | 2000 Elapsed Time: 0:03:01\n"
     ]
    },
    {
     "name": "stdout",
     "output_type": "stream",
     "text": [
      "Epoch: 61/200\n",
      "training classification loss: 0.4979\n",
      "train_auroc: 0.7338\n",
      "val_auroc: 0.7617\n"
     ]
    },
    {
     "name": "stderr",
     "output_type": "stream",
     "text": [
      "| |                     #                          | 2000 Elapsed Time: 0:03:00\n"
     ]
    },
    {
     "name": "stdout",
     "output_type": "stream",
     "text": [
      "Epoch: 62/200\n",
      "training classification loss: 0.4983\n",
      "train_auroc: 0.7343\n",
      "val_auroc: 0.7614\n"
     ]
    },
    {
     "name": "stderr",
     "output_type": "stream",
     "text": [
      "| |          #                                     | 2000 Elapsed Time: 0:03:01\n"
     ]
    },
    {
     "name": "stdout",
     "output_type": "stream",
     "text": [
      "Epoch: 63/200\n",
      "training classification loss: 0.4986\n",
      "train_auroc: 0.7343\n",
      "val_auroc: 0.7638\n",
      "Model saved.\n"
     ]
    },
    {
     "name": "stderr",
     "output_type": "stream",
     "text": [
      "| |     #                                          | 2000 Elapsed Time: 0:03:02\n"
     ]
    },
    {
     "name": "stdout",
     "output_type": "stream",
     "text": [
      "Epoch: 64/200\n",
      "training classification loss: 0.4967\n",
      "train_auroc: 0.7371\n",
      "val_auroc: 0.7627\n"
     ]
    },
    {
     "name": "stderr",
     "output_type": "stream",
     "text": [
      "| |         #                                      | 2000 Elapsed Time: 0:03:03\n"
     ]
    },
    {
     "name": "stdout",
     "output_type": "stream",
     "text": [
      "Epoch: 65/200\n",
      "training classification loss: 0.4965\n",
      "train_auroc: 0.7369\n",
      "val_auroc: 0.7594\n"
     ]
    },
    {
     "name": "stderr",
     "output_type": "stream",
     "text": [
      "| |           #                                    | 2000 Elapsed Time: 0:03:03\n"
     ]
    },
    {
     "name": "stdout",
     "output_type": "stream",
     "text": [
      "Epoch: 66/200\n",
      "training classification loss: 0.4966\n",
      "train_auroc: 0.7371\n",
      "val_auroc: 0.7655\n",
      "Model saved.\n"
     ]
    },
    {
     "name": "stderr",
     "output_type": "stream",
     "text": [
      "| |    #                                           | 2000 Elapsed Time: 0:03:01\n"
     ]
    },
    {
     "name": "stdout",
     "output_type": "stream",
     "text": [
      "Epoch: 67/200\n",
      "training classification loss: 0.4961\n",
      "train_auroc: 0.7368\n",
      "val_auroc: 0.7633\n"
     ]
    },
    {
     "name": "stderr",
     "output_type": "stream",
     "text": [
      "| |    #                                           | 2000 Elapsed Time: 0:03:01\n"
     ]
    },
    {
     "name": "stdout",
     "output_type": "stream",
     "text": [
      "Epoch: 68/200\n",
      "training classification loss: 0.4965\n",
      "train_auroc: 0.7366\n",
      "val_auroc: 0.7645\n"
     ]
    },
    {
     "name": "stderr",
     "output_type": "stream",
     "text": [
      "| | #                                              | 2000 Elapsed Time: 0:03:02\n"
     ]
    },
    {
     "name": "stdout",
     "output_type": "stream",
     "text": [
      "Epoch: 69/200\n",
      "training classification loss: 0.4951\n",
      "train_auroc: 0.7397\n",
      "val_auroc: 0.7676\n",
      "Model saved.\n"
     ]
    },
    {
     "name": "stderr",
     "output_type": "stream",
     "text": [
      "| |        #                                       | 2000 Elapsed Time: 0:03:03\n"
     ]
    },
    {
     "name": "stdout",
     "output_type": "stream",
     "text": [
      "Epoch: 70/200\n",
      "training classification loss: 0.4970\n",
      "train_auroc: 0.7357\n",
      "val_auroc: 0.7667\n"
     ]
    },
    {
     "name": "stderr",
     "output_type": "stream",
     "text": [
      "| |                   #                            | 2000 Elapsed Time: 0:03:00\n"
     ]
    },
    {
     "name": "stdout",
     "output_type": "stream",
     "text": [
      "Epoch: 71/200\n",
      "training classification loss: 0.4966\n",
      "train_auroc: 0.7352\n",
      "val_auroc: 0.7684\n",
      "Model saved.\n"
     ]
    },
    {
     "name": "stderr",
     "output_type": "stream",
     "text": [
      "| |       #                                        | 2000 Elapsed Time: 0:03:11\n"
     ]
    },
    {
     "name": "stdout",
     "output_type": "stream",
     "text": [
      "Epoch: 72/200\n",
      "training classification loss: 0.4930\n",
      "train_auroc: 0.7402\n",
      "val_auroc: 0.7651\n"
     ]
    },
    {
     "name": "stderr",
     "output_type": "stream",
     "text": [
      "| |                             #                  | 2000 Elapsed Time: 0:03:09\n"
     ]
    },
    {
     "name": "stdout",
     "output_type": "stream",
     "text": [
      "Epoch: 73/200\n",
      "training classification loss: 0.4919\n",
      "train_auroc: 0.7423\n",
      "val_auroc: 0.7645\n"
     ]
    },
    {
     "name": "stderr",
     "output_type": "stream",
     "text": [
      "| |                               #                | 2000 Elapsed Time: 0:03:05\n"
     ]
    },
    {
     "name": "stdout",
     "output_type": "stream",
     "text": [
      "Epoch: 74/200\n",
      "training classification loss: 0.4933\n",
      "train_auroc: 0.7407\n",
      "val_auroc: 0.7669\n"
     ]
    },
    {
     "name": "stderr",
     "output_type": "stream",
     "text": [
      "| |      #                                         | 2000 Elapsed Time: 0:03:01\n"
     ]
    },
    {
     "name": "stdout",
     "output_type": "stream",
     "text": [
      "Epoch: 75/200\n",
      "training classification loss: 0.4907\n",
      "train_auroc: 0.7437\n",
      "val_auroc: 0.7708\n",
      "Model saved.\n"
     ]
    },
    {
     "name": "stderr",
     "output_type": "stream",
     "text": [
      "| |  #                                             | 2000 Elapsed Time: 0:03:11\n"
     ]
    },
    {
     "name": "stdout",
     "output_type": "stream",
     "text": [
      "Epoch: 76/200\n",
      "training classification loss: 0.4916\n",
      "train_auroc: 0.7412\n",
      "val_auroc: 0.7667\n"
     ]
    },
    {
     "name": "stderr",
     "output_type": "stream",
     "text": [
      "| |                    #                           | 2000 Elapsed Time: 0:03:04\n"
     ]
    },
    {
     "name": "stdout",
     "output_type": "stream",
     "text": [
      "Epoch: 77/200\n",
      "training classification loss: 0.4930\n",
      "train_auroc: 0.7399\n",
      "val_auroc: 0.7655\n"
     ]
    },
    {
     "name": "stderr",
     "output_type": "stream",
     "text": [
      "| |    #                                           | 2000 Elapsed Time: 0:03:02\n"
     ]
    },
    {
     "name": "stdout",
     "output_type": "stream",
     "text": [
      "Epoch: 78/200\n",
      "training classification loss: 0.4922\n",
      "train_auroc: 0.7420\n",
      "val_auroc: 0.7676\n"
     ]
    },
    {
     "name": "stderr",
     "output_type": "stream",
     "text": [
      "| |       #                                        | 2000 Elapsed Time: 0:03:01\n"
     ]
    },
    {
     "name": "stdout",
     "output_type": "stream",
     "text": [
      "Epoch: 79/200\n",
      "training classification loss: 0.4899\n",
      "train_auroc: 0.7446\n",
      "val_auroc: 0.7689\n"
     ]
    },
    {
     "name": "stderr",
     "output_type": "stream",
     "text": [
      "| |#                                               | 2000 Elapsed Time: 0:03:02\n"
     ]
    },
    {
     "name": "stdout",
     "output_type": "stream",
     "text": [
      "Epoch: 80/200\n",
      "training classification loss: 0.4912\n",
      "train_auroc: 0.7444\n",
      "val_auroc: 0.7681\n"
     ]
    },
    {
     "name": "stderr",
     "output_type": "stream",
     "text": [
      "| |                          #                     | 2000 Elapsed Time: 0:02:59\n"
     ]
    },
    {
     "name": "stdout",
     "output_type": "stream",
     "text": [
      "Epoch: 81/200\n",
      "training classification loss: 0.4903\n",
      "train_auroc: 0.7436\n",
      "val_auroc: 0.7669\n"
     ]
    },
    {
     "name": "stderr",
     "output_type": "stream",
     "text": [
      "| |     #                                          | 2000 Elapsed Time: 0:03:02\n"
     ]
    },
    {
     "name": "stdout",
     "output_type": "stream",
     "text": [
      "Epoch: 82/200\n",
      "training classification loss: 0.4893\n",
      "train_auroc: 0.7472\n",
      "val_auroc: 0.7620\n"
     ]
    },
    {
     "name": "stderr",
     "output_type": "stream",
     "text": [
      "| |                  #                             | 2000 Elapsed Time: 0:03:00\n"
     ]
    },
    {
     "name": "stdout",
     "output_type": "stream",
     "text": [
      "Epoch: 83/200\n",
      "training classification loss: 0.4882\n",
      "train_auroc: 0.7473\n",
      "val_auroc: 0.7711\n",
      "Model saved.\n"
     ]
    },
    {
     "name": "stderr",
     "output_type": "stream",
     "text": [
      "| |    #                                           | 2000 Elapsed Time: 0:03:01\n"
     ]
    },
    {
     "name": "stdout",
     "output_type": "stream",
     "text": [
      "Epoch: 84/200\n",
      "training classification loss: 0.4893\n",
      "train_auroc: 0.7453\n",
      "val_auroc: 0.7660\n"
     ]
    },
    {
     "name": "stderr",
     "output_type": "stream",
     "text": [
      "| |      #                                         | 2000 Elapsed Time: 0:03:03\n"
     ]
    },
    {
     "name": "stdout",
     "output_type": "stream",
     "text": [
      "Epoch: 85/200\n",
      "training classification loss: 0.4892\n",
      "train_auroc: 0.7457\n",
      "val_auroc: 0.7707\n"
     ]
    },
    {
     "name": "stderr",
     "output_type": "stream",
     "text": [
      "| |                #                               | 2000 Elapsed Time: 0:03:00\n"
     ]
    },
    {
     "name": "stdout",
     "output_type": "stream",
     "text": [
      "Epoch: 86/200\n",
      "training classification loss: 0.4896\n",
      "train_auroc: 0.7462\n",
      "val_auroc: 0.7672\n"
     ]
    },
    {
     "name": "stderr",
     "output_type": "stream",
     "text": [
      "| |   #                                            | 2000 Elapsed Time: 0:03:02\n"
     ]
    },
    {
     "name": "stdout",
     "output_type": "stream",
     "text": [
      "Epoch: 87/200\n",
      "training classification loss: 0.4882\n",
      "train_auroc: 0.7460\n",
      "val_auroc: 0.7709\n"
     ]
    },
    {
     "name": "stderr",
     "output_type": "stream",
     "text": [
      "| |     #                                          | 2000 Elapsed Time: 0:03:01\n"
     ]
    },
    {
     "name": "stdout",
     "output_type": "stream",
     "text": [
      "Epoch: 88/200\n",
      "training classification loss: 0.4864\n",
      "train_auroc: 0.7491\n",
      "val_auroc: 0.7675\n"
     ]
    },
    {
     "name": "stderr",
     "output_type": "stream",
     "text": [
      "| |                                #               | 2000 Elapsed Time: 0:02:59\n"
     ]
    },
    {
     "name": "stdout",
     "output_type": "stream",
     "text": [
      "Epoch: 89/200\n",
      "training classification loss: 0.4858\n",
      "train_auroc: 0.7497\n",
      "val_auroc: 0.7725\n",
      "Model saved.\n"
     ]
    },
    {
     "name": "stderr",
     "output_type": "stream",
     "text": [
      "| |            #                                   | 2000 Elapsed Time: 0:03:01\n"
     ]
    },
    {
     "name": "stdout",
     "output_type": "stream",
     "text": [
      "Epoch: 90/200\n",
      "training classification loss: 0.4861\n",
      "train_auroc: 0.7507\n",
      "val_auroc: 0.7713\n"
     ]
    },
    {
     "name": "stderr",
     "output_type": "stream",
     "text": [
      "| |#                                               | 2000 Elapsed Time: 0:03:02\n"
     ]
    },
    {
     "name": "stdout",
     "output_type": "stream",
     "text": [
      "Epoch: 91/200\n",
      "training classification loss: 0.4876\n",
      "train_auroc: 0.7470\n",
      "val_auroc: 0.7724\n"
     ]
    },
    {
     "name": "stderr",
     "output_type": "stream",
     "text": [
      "| |                                     #          | 2000 Elapsed Time: 0:02:56\n"
     ]
    },
    {
     "name": "stdout",
     "output_type": "stream",
     "text": [
      "Epoch: 92/200\n",
      "training classification loss: 0.4866\n",
      "train_auroc: 0.7480\n",
      "val_auroc: 0.7737\n",
      "Model saved.\n"
     ]
    },
    {
     "name": "stderr",
     "output_type": "stream",
     "text": [
      "| |               #                                | 2000 Elapsed Time: 0:03:00\n"
     ]
    },
    {
     "name": "stdout",
     "output_type": "stream",
     "text": [
      "Epoch: 93/200\n",
      "training classification loss: 0.4856\n",
      "train_auroc: 0.7492\n",
      "val_auroc: 0.7696\n"
     ]
    },
    {
     "name": "stderr",
     "output_type": "stream",
     "text": [
      "| |          #                                     | 2000 Elapsed Time: 0:03:01\n"
     ]
    },
    {
     "name": "stdout",
     "output_type": "stream",
     "text": [
      "Epoch: 94/200\n",
      "training classification loss: 0.4842\n",
      "train_auroc: 0.7511\n",
      "val_auroc: 0.7759\n",
      "Model saved.\n"
     ]
    },
    {
     "name": "stderr",
     "output_type": "stream",
     "text": [
      "| |  #                                             | 2000 Elapsed Time: 0:03:02\n"
     ]
    },
    {
     "name": "stdout",
     "output_type": "stream",
     "text": [
      "Epoch: 95/200\n",
      "training classification loss: 0.4837\n",
      "train_auroc: 0.7512\n",
      "val_auroc: 0.7732\n"
     ]
    },
    {
     "name": "stderr",
     "output_type": "stream",
     "text": [
      "| |   #                                            | 2000 Elapsed Time: 0:03:02\n"
     ]
    },
    {
     "name": "stdout",
     "output_type": "stream",
     "text": [
      "Epoch: 96/200\n",
      "training classification loss: 0.4850\n",
      "train_auroc: 0.7515\n",
      "val_auroc: 0.7732\n"
     ]
    },
    {
     "name": "stderr",
     "output_type": "stream",
     "text": [
      "| |             #                                  | 2000 Elapsed Time: 0:03:01\n"
     ]
    },
    {
     "name": "stdout",
     "output_type": "stream",
     "text": [
      "Epoch: 97/200\n",
      "training classification loss: 0.4837\n",
      "train_auroc: 0.7514\n",
      "val_auroc: 0.7745\n"
     ]
    },
    {
     "name": "stderr",
     "output_type": "stream",
     "text": [
      "| |                             #                  | 2000 Elapsed Time: 0:02:59\n"
     ]
    },
    {
     "name": "stdout",
     "output_type": "stream",
     "text": [
      "Epoch: 98/200\n",
      "training classification loss: 0.4835\n",
      "train_auroc: 0.7536\n",
      "val_auroc: 0.7720\n"
     ]
    },
    {
     "name": "stderr",
     "output_type": "stream",
     "text": [
      "| |                      #                         | 2000 Elapsed Time: 0:03:04\n"
     ]
    },
    {
     "name": "stdout",
     "output_type": "stream",
     "text": [
      "Epoch: 99/200\n",
      "training classification loss: 0.4845\n",
      "train_auroc: 0.7527\n",
      "val_auroc: 0.7747\n"
     ]
    },
    {
     "name": "stderr",
     "output_type": "stream",
     "text": [
      "| |              #                                 | 2000 Elapsed Time: 0:03:00\n"
     ]
    },
    {
     "name": "stdout",
     "output_type": "stream",
     "text": [
      "Epoch: 100/200\n",
      "training classification loss: 0.4829\n",
      "train_auroc: 0.7521\n",
      "val_auroc: 0.7733\n"
     ]
    },
    {
     "name": "stderr",
     "output_type": "stream",
     "text": [
      "| |                                 #              | 2000 Elapsed Time: 0:02:59\n"
     ]
    },
    {
     "name": "stdout",
     "output_type": "stream",
     "text": [
      "Epoch: 101/200\n",
      "training classification loss: 0.4826\n",
      "train_auroc: 0.7524\n",
      "val_auroc: 0.7766\n",
      "Model saved.\n"
     ]
    },
    {
     "name": "stderr",
     "output_type": "stream",
     "text": [
      "| |                #                               | 2000 Elapsed Time: 0:03:00\n"
     ]
    },
    {
     "name": "stdout",
     "output_type": "stream",
     "text": [
      "Epoch: 102/200\n",
      "training classification loss: 0.4837\n",
      "train_auroc: 0.7515\n",
      "val_auroc: 0.7777\n",
      "Model saved.\n"
     ]
    },
    {
     "name": "stderr",
     "output_type": "stream",
     "text": [
      "| |   #                                            | 2000 Elapsed Time: 0:03:02\n"
     ]
    },
    {
     "name": "stdout",
     "output_type": "stream",
     "text": [
      "Epoch: 103/200\n",
      "training classification loss: 0.4851\n",
      "train_auroc: 0.7503\n",
      "val_auroc: 0.7777\n",
      "Model saved.\n"
     ]
    },
    {
     "name": "stderr",
     "output_type": "stream",
     "text": [
      "| |                      #                         | 2000 Elapsed Time: 0:03:00\n"
     ]
    },
    {
     "name": "stdout",
     "output_type": "stream",
     "text": [
      "Epoch: 104/200\n",
      "training classification loss: 0.4819\n",
      "train_auroc: 0.7536\n",
      "val_auroc: 0.7789\n",
      "Model saved.\n"
     ]
    },
    {
     "name": "stderr",
     "output_type": "stream",
     "text": [
      "| |                         #                      | 2000 Elapsed Time: 0:02:59\n"
     ]
    },
    {
     "name": "stdout",
     "output_type": "stream",
     "text": [
      "Epoch: 105/200\n",
      "training classification loss: 0.4815\n",
      "train_auroc: 0.7540\n",
      "val_auroc: 0.7758\n"
     ]
    },
    {
     "name": "stderr",
     "output_type": "stream",
     "text": [
      "| |            #                                   | 2000 Elapsed Time: 0:03:03\n"
     ]
    },
    {
     "name": "stdout",
     "output_type": "stream",
     "text": [
      "Epoch: 106/200\n",
      "training classification loss: 0.4815\n",
      "train_auroc: 0.7538\n",
      "val_auroc: 0.7714\n"
     ]
    },
    {
     "name": "stderr",
     "output_type": "stream",
     "text": [
      "| |                                 #              | 2000 Elapsed Time: 0:02:59\n"
     ]
    },
    {
     "name": "stdout",
     "output_type": "stream",
     "text": [
      "Epoch: 107/200\n",
      "training classification loss: 0.4825\n",
      "train_auroc: 0.7526\n",
      "val_auroc: 0.7757\n"
     ]
    },
    {
     "name": "stderr",
     "output_type": "stream",
     "text": [
      "| |                        #                       | 2000 Elapsed Time: 0:02:59\n"
     ]
    },
    {
     "name": "stdout",
     "output_type": "stream",
     "text": [
      "Epoch: 108/200\n",
      "training classification loss: 0.4810\n",
      "train_auroc: 0.7555\n",
      "val_auroc: 0.7762\n"
     ]
    },
    {
     "name": "stderr",
     "output_type": "stream",
     "text": [
      "| |                               #                | 2000 Elapsed Time: 0:02:59\n"
     ]
    },
    {
     "name": "stdout",
     "output_type": "stream",
     "text": [
      "Epoch: 109/200\n",
      "training classification loss: 0.4792\n",
      "train_auroc: 0.7569\n",
      "val_auroc: 0.7768\n"
     ]
    },
    {
     "name": "stderr",
     "output_type": "stream",
     "text": [
      "| |         #                                      | 2000 Elapsed Time: 0:03:01\n"
     ]
    },
    {
     "name": "stdout",
     "output_type": "stream",
     "text": [
      "Epoch: 110/200\n",
      "training classification loss: 0.4777\n",
      "train_auroc: 0.7605\n",
      "val_auroc: 0.7756\n"
     ]
    },
    {
     "name": "stderr",
     "output_type": "stream",
     "text": [
      "| |#                                               | 2000 Elapsed Time: 0:03:02\n"
     ]
    },
    {
     "name": "stdout",
     "output_type": "stream",
     "text": [
      "Epoch: 111/200\n",
      "training classification loss: 0.4817\n",
      "train_auroc: 0.7545\n",
      "val_auroc: 0.7776\n"
     ]
    },
    {
     "name": "stderr",
     "output_type": "stream",
     "text": [
      "| |       #                                        | 2000 Elapsed Time: 0:03:03\n"
     ]
    },
    {
     "name": "stdout",
     "output_type": "stream",
     "text": [
      "Epoch: 112/200\n",
      "training classification loss: 0.4813\n",
      "train_auroc: 0.7546\n",
      "val_auroc: 0.7789\n",
      "Model saved.\n"
     ]
    },
    {
     "name": "stderr",
     "output_type": "stream",
     "text": [
      "| |   #                                            | 2000 Elapsed Time: 0:03:02\n"
     ]
    },
    {
     "name": "stdout",
     "output_type": "stream",
     "text": [
      "Epoch: 113/200\n",
      "training classification loss: 0.4770\n",
      "train_auroc: 0.7598\n",
      "val_auroc: 0.7756\n"
     ]
    },
    {
     "name": "stderr",
     "output_type": "stream",
     "text": [
      "| |                               #                | 2000 Elapsed Time: 0:02:59\n"
     ]
    },
    {
     "name": "stdout",
     "output_type": "stream",
     "text": [
      "Epoch: 114/200\n",
      "training classification loss: 0.4787\n",
      "train_auroc: 0.7572\n",
      "val_auroc: 0.7773\n"
     ]
    },
    {
     "name": "stderr",
     "output_type": "stream",
     "text": [
      "| |                   #                            | 2000 Elapsed Time: 0:03:00\n"
     ]
    },
    {
     "name": "stdout",
     "output_type": "stream",
     "text": [
      "Epoch: 115/200\n",
      "training classification loss: 0.4787\n",
      "train_auroc: 0.7570\n",
      "val_auroc: 0.7762\n"
     ]
    },
    {
     "name": "stderr",
     "output_type": "stream",
     "text": [
      "| |    #                                           | 2000 Elapsed Time: 0:03:02\n"
     ]
    },
    {
     "name": "stdout",
     "output_type": "stream",
     "text": [
      "Epoch: 116/200\n",
      "training classification loss: 0.4794\n",
      "train_auroc: 0.7564\n",
      "val_auroc: 0.7751\n"
     ]
    },
    {
     "name": "stderr",
     "output_type": "stream",
     "text": [
      "| |  #                                             | 2000 Elapsed Time: 0:03:02\n"
     ]
    },
    {
     "name": "stdout",
     "output_type": "stream",
     "text": [
      "Epoch: 117/200\n",
      "training classification loss: 0.4770\n",
      "train_auroc: 0.7598\n",
      "val_auroc: 0.7792\n",
      "Model saved.\n"
     ]
    },
    {
     "name": "stderr",
     "output_type": "stream",
     "text": [
      "| |        #                                       | 2000 Elapsed Time: 0:03:03\n"
     ]
    },
    {
     "name": "stdout",
     "output_type": "stream",
     "text": [
      "Epoch: 118/200\n",
      "training classification loss: 0.4787\n",
      "train_auroc: 0.7563\n",
      "val_auroc: 0.7792\n",
      "Model saved.\n"
     ]
    },
    {
     "name": "stderr",
     "output_type": "stream",
     "text": [
      "| |                    #                           | 2000 Elapsed Time: 0:03:00\n"
     ]
    },
    {
     "name": "stdout",
     "output_type": "stream",
     "text": [
      "Epoch: 119/200\n",
      "training classification loss: 0.4783\n",
      "train_auroc: 0.7575\n",
      "val_auroc: 0.7815\n",
      "Model saved.\n"
     ]
    },
    {
     "name": "stderr",
     "output_type": "stream",
     "text": [
      "| |      #                                         | 2000 Elapsed Time: 0:03:01\n"
     ]
    },
    {
     "name": "stdout",
     "output_type": "stream",
     "text": [
      "Epoch: 120/200\n",
      "training classification loss: 0.4781\n",
      "train_auroc: 0.7597\n",
      "val_auroc: 0.7804\n"
     ]
    },
    {
     "name": "stderr",
     "output_type": "stream",
     "text": [
      "| |                       #                        | 2000 Elapsed Time: 0:03:00\n"
     ]
    },
    {
     "name": "stdout",
     "output_type": "stream",
     "text": [
      "Epoch: 121/200\n",
      "training classification loss: 0.4784\n",
      "train_auroc: 0.7585\n",
      "val_auroc: 0.7817\n",
      "Model saved.\n"
     ]
    },
    {
     "name": "stderr",
     "output_type": "stream",
     "text": [
      "| | #                                              | 2000 Elapsed Time: 0:03:02\n"
     ]
    },
    {
     "name": "stdout",
     "output_type": "stream",
     "text": [
      "Epoch: 122/200\n",
      "training classification loss: 0.4774\n",
      "train_auroc: 0.7589\n",
      "val_auroc: 0.7760\n"
     ]
    },
    {
     "name": "stderr",
     "output_type": "stream",
     "text": [
      "| |     #                                          | 2000 Elapsed Time: 0:03:01\n"
     ]
    },
    {
     "name": "stdout",
     "output_type": "stream",
     "text": [
      "Epoch: 123/200\n",
      "training classification loss: 0.4757\n",
      "train_auroc: 0.7605\n",
      "val_auroc: 0.7801\n"
     ]
    },
    {
     "name": "stderr",
     "output_type": "stream",
     "text": [
      "| |                                          #     | 2000 Elapsed Time: 0:02:58\n"
     ]
    },
    {
     "name": "stdout",
     "output_type": "stream",
     "text": [
      "Epoch: 124/200\n",
      "training classification loss: 0.4757\n",
      "train_auroc: 0.7605\n",
      "val_auroc: 0.7816\n"
     ]
    },
    {
     "name": "stderr",
     "output_type": "stream",
     "text": [
      "| |                #                               | 2000 Elapsed Time: 0:03:00\n"
     ]
    },
    {
     "name": "stdout",
     "output_type": "stream",
     "text": [
      "Epoch: 125/200\n",
      "training classification loss: 0.4754\n",
      "train_auroc: 0.7610\n",
      "val_auroc: 0.7763\n"
     ]
    },
    {
     "name": "stderr",
     "output_type": "stream",
     "text": [
      "| |           #                                    | 2000 Elapsed Time: 0:03:01\n"
     ]
    },
    {
     "name": "stdout",
     "output_type": "stream",
     "text": [
      "Epoch: 126/200\n",
      "training classification loss: 0.4765\n",
      "train_auroc: 0.7593\n",
      "val_auroc: 0.7781\n"
     ]
    },
    {
     "name": "stderr",
     "output_type": "stream",
     "text": [
      "| |                #                               | 2000 Elapsed Time: 0:03:00\n"
     ]
    },
    {
     "name": "stdout",
     "output_type": "stream",
     "text": [
      "Epoch: 127/200\n",
      "training classification loss: 0.4748\n",
      "train_auroc: 0.7617\n",
      "val_auroc: 0.7800\n"
     ]
    },
    {
     "name": "stderr",
     "output_type": "stream",
     "text": [
      "| |                    #                           | 2000 Elapsed Time: 0:03:04\n"
     ]
    },
    {
     "name": "stdout",
     "output_type": "stream",
     "text": [
      "Epoch: 128/200\n",
      "training classification loss: 0.4755\n",
      "train_auroc: 0.7611\n",
      "val_auroc: 0.7774\n"
     ]
    },
    {
     "name": "stderr",
     "output_type": "stream",
     "text": [
      "| |         #                                      | 2000 Elapsed Time: 0:03:03\n"
     ]
    },
    {
     "name": "stdout",
     "output_type": "stream",
     "text": [
      "Epoch: 129/200\n",
      "training classification loss: 0.4743\n",
      "train_auroc: 0.7626\n",
      "val_auroc: 0.7818\n",
      "Model saved.\n"
     ]
    },
    {
     "name": "stderr",
     "output_type": "stream",
     "text": [
      "| |  #                                             | 2000 Elapsed Time: 0:03:02\n"
     ]
    },
    {
     "name": "stdout",
     "output_type": "stream",
     "text": [
      "Epoch: 130/200\n",
      "training classification loss: 0.4744\n",
      "train_auroc: 0.7630\n",
      "val_auroc: 0.7834\n",
      "Model saved.\n"
     ]
    },
    {
     "name": "stderr",
     "output_type": "stream",
     "text": [
      "| |          #                                     | 2000 Elapsed Time: 0:03:01\n"
     ]
    },
    {
     "name": "stdout",
     "output_type": "stream",
     "text": [
      "Epoch: 131/200\n",
      "training classification loss: 0.4753\n",
      "train_auroc: 0.7611\n",
      "val_auroc: 0.7812\n"
     ]
    },
    {
     "name": "stderr",
     "output_type": "stream",
     "text": [
      "| |                                        #       | 2000 Elapsed Time: 0:02:58\n"
     ]
    },
    {
     "name": "stdout",
     "output_type": "stream",
     "text": [
      "Epoch: 132/200\n",
      "training classification loss: 0.4753\n",
      "train_auroc: 0.7605\n",
      "val_auroc: 0.7795\n"
     ]
    },
    {
     "name": "stderr",
     "output_type": "stream",
     "text": [
      "| | #                                              | 2000 Elapsed Time: 0:03:02\n"
     ]
    },
    {
     "name": "stdout",
     "output_type": "stream",
     "text": [
      "Epoch: 133/200\n",
      "training classification loss: 0.4742\n",
      "train_auroc: 0.7619\n",
      "val_auroc: 0.7826\n"
     ]
    },
    {
     "name": "stderr",
     "output_type": "stream",
     "text": [
      "| |#                                               | 2000 Elapsed Time: 0:03:02\n"
     ]
    },
    {
     "name": "stdout",
     "output_type": "stream",
     "text": [
      "Epoch: 134/200\n",
      "training classification loss: 0.4752\n",
      "train_auroc: 0.7607\n",
      "val_auroc: 0.7828\n"
     ]
    },
    {
     "name": "stderr",
     "output_type": "stream",
     "text": [
      "| |  #                                             | 2000 Elapsed Time: 0:03:02\n"
     ]
    },
    {
     "name": "stdout",
     "output_type": "stream",
     "text": [
      "Epoch: 135/200\n",
      "training classification loss: 0.4741\n",
      "train_auroc: 0.7619\n",
      "val_auroc: 0.7807\n"
     ]
    },
    {
     "name": "stderr",
     "output_type": "stream",
     "text": [
      "| |  #                                             | 2000 Elapsed Time: 0:03:02\n"
     ]
    },
    {
     "name": "stdout",
     "output_type": "stream",
     "text": [
      "Epoch: 136/200\n",
      "training classification loss: 0.4741\n",
      "train_auroc: 0.7621\n",
      "val_auroc: 0.7781\n"
     ]
    },
    {
     "name": "stderr",
     "output_type": "stream",
     "text": [
      "| |                #                               | 2000 Elapsed Time: 0:03:04\n"
     ]
    },
    {
     "name": "stdout",
     "output_type": "stream",
     "text": [
      "Epoch: 137/200\n",
      "training classification loss: 0.4720\n",
      "train_auroc: 0.7634\n",
      "val_auroc: 0.7789\n"
     ]
    },
    {
     "name": "stderr",
     "output_type": "stream",
     "text": [
      "| |                   #                            | 2000 Elapsed Time: 0:03:00\n"
     ]
    },
    {
     "name": "stdout",
     "output_type": "stream",
     "text": [
      "Epoch: 138/200\n",
      "training classification loss: 0.4735\n",
      "train_auroc: 0.7627\n",
      "val_auroc: 0.7831\n"
     ]
    },
    {
     "name": "stderr",
     "output_type": "stream",
     "text": [
      "| |      #                                         | 2000 Elapsed Time: 0:03:03\n"
     ]
    },
    {
     "name": "stdout",
     "output_type": "stream",
     "text": [
      "Epoch: 139/200\n",
      "training classification loss: 0.4744\n",
      "train_auroc: 0.7626\n",
      "val_auroc: 0.7821\n"
     ]
    },
    {
     "name": "stderr",
     "output_type": "stream",
     "text": [
      "| |       #                                        | 2000 Elapsed Time: 0:03:03\n"
     ]
    },
    {
     "name": "stdout",
     "output_type": "stream",
     "text": [
      "Epoch: 140/200\n",
      "training classification loss: 0.4727\n",
      "train_auroc: 0.7642\n",
      "val_auroc: 0.7801\n"
     ]
    },
    {
     "name": "stderr",
     "output_type": "stream",
     "text": [
      "| |                      #                         | 2000 Elapsed Time: 0:03:00\n"
     ]
    },
    {
     "name": "stdout",
     "output_type": "stream",
     "text": [
      "Epoch: 141/200\n",
      "training classification loss: 0.4758\n",
      "train_auroc: 0.7617\n",
      "val_auroc: 0.7832\n"
     ]
    },
    {
     "name": "stderr",
     "output_type": "stream",
     "text": [
      "| |            #                                   | 2000 Elapsed Time: 0:03:01\n"
     ]
    },
    {
     "name": "stdout",
     "output_type": "stream",
     "text": [
      "Epoch: 142/200\n",
      "training classification loss: 0.4714\n",
      "train_auroc: 0.7644\n",
      "val_auroc: 0.7802\n"
     ]
    },
    {
     "name": "stderr",
     "output_type": "stream",
     "text": [
      "| |                 #                              | 2000 Elapsed Time: 0:03:04\n"
     ]
    },
    {
     "name": "stdout",
     "output_type": "stream",
     "text": [
      "Epoch: 143/200\n",
      "training classification loss: 0.4724\n",
      "train_auroc: 0.7630\n",
      "val_auroc: 0.7831\n"
     ]
    },
    {
     "name": "stderr",
     "output_type": "stream",
     "text": [
      "| | #                                              | 2000 Elapsed Time: 0:03:02\n"
     ]
    },
    {
     "name": "stdout",
     "output_type": "stream",
     "text": [
      "Epoch: 144/200\n",
      "training classification loss: 0.4720\n",
      "train_auroc: 0.7666\n",
      "val_auroc: 0.7826\n"
     ]
    },
    {
     "name": "stderr",
     "output_type": "stream",
     "text": [
      "| |                    #                           | 2000 Elapsed Time: 0:03:00\n"
     ]
    },
    {
     "name": "stdout",
     "output_type": "stream",
     "text": [
      "Epoch: 145/200\n",
      "training classification loss: 0.4711\n",
      "train_auroc: 0.7649\n",
      "val_auroc: 0.7841\n",
      "Model saved.\n"
     ]
    },
    {
     "name": "stderr",
     "output_type": "stream",
     "text": [
      "| |#                                               | 2000 Elapsed Time: 0:03:02\n"
     ]
    },
    {
     "name": "stdout",
     "output_type": "stream",
     "text": [
      "Epoch: 146/200\n",
      "training classification loss: 0.4707\n",
      "train_auroc: 0.7671\n",
      "val_auroc: 0.7842\n",
      "Model saved.\n"
     ]
    },
    {
     "name": "stderr",
     "output_type": "stream",
     "text": [
      "| |        #                                       | 2000 Elapsed Time: 0:03:03\n"
     ]
    },
    {
     "name": "stdout",
     "output_type": "stream",
     "text": [
      "Epoch: 147/200\n",
      "training classification loss: 0.4704\n",
      "train_auroc: 0.7680\n",
      "val_auroc: 0.7847\n",
      "Model saved.\n"
     ]
    },
    {
     "name": "stderr",
     "output_type": "stream",
     "text": [
      "| |       #                                        | 2000 Elapsed Time: 0:03:01\n"
     ]
    },
    {
     "name": "stdout",
     "output_type": "stream",
     "text": [
      "Epoch: 148/200\n",
      "training classification loss: 0.4711\n",
      "train_auroc: 0.7647\n",
      "val_auroc: 0.7843\n"
     ]
    },
    {
     "name": "stderr",
     "output_type": "stream",
     "text": [
      "| |          #                                     | 2000 Elapsed Time: 0:03:01\n"
     ]
    },
    {
     "name": "stdout",
     "output_type": "stream",
     "text": [
      "Epoch: 149/200\n",
      "training classification loss: 0.4716\n",
      "train_auroc: 0.7654\n",
      "val_auroc: 0.7821\n"
     ]
    },
    {
     "name": "stderr",
     "output_type": "stream",
     "text": [
      "| |                                     #          | 2000 Elapsed Time: 0:02:58\n"
     ]
    },
    {
     "name": "stdout",
     "output_type": "stream",
     "text": [
      "Epoch: 150/200\n",
      "training classification loss: 0.4704\n",
      "train_auroc: 0.7660\n",
      "val_auroc: 0.7856\n",
      "Model saved.\n"
     ]
    },
    {
     "name": "stderr",
     "output_type": "stream",
     "text": [
      "| |          #                                     | 2000 Elapsed Time: 0:03:01\n"
     ]
    },
    {
     "name": "stdout",
     "output_type": "stream",
     "text": [
      "Epoch: 151/200\n",
      "training classification loss: 0.4712\n",
      "train_auroc: 0.7650\n",
      "val_auroc: 0.7829\n"
     ]
    },
    {
     "name": "stderr",
     "output_type": "stream",
     "text": [
      "| |                 #                              | 2000 Elapsed Time: 0:03:00\n"
     ]
    },
    {
     "name": "stdout",
     "output_type": "stream",
     "text": [
      "Epoch: 152/200\n",
      "training classification loss: 0.4686\n",
      "train_auroc: 0.7677\n",
      "val_auroc: 0.7872\n",
      "Model saved.\n"
     ]
    },
    {
     "name": "stderr",
     "output_type": "stream",
     "text": [
      "\\ |                                               #  | 55 Elapsed Time: 0:00:04"
     ]
    }
   ],
   "source": [
    "# Define metric objects \n",
    "metric_objects = {'train_auroc' : SimpleAUC(),\n",
    "                  'val_auroc' : SimpleAUC()}\n",
    "best_val_metric = 0.0 if checkpoint is None else checkpoint['best_val_metric']\n",
    "i = 0 if checkpoint is None else checkpoint['epoch']\n",
    "while i < num_epochs:\n",
    "    # Reset training state variables\n",
    "    training_loss = defaultdict(lambda: 0.0)\n",
    "    num_samples = 0\n",
    "    iterators = {k : iter(v) for k, v in loader.items()}\n",
    "    for v in metric_objects.values():\n",
    "        v.reset_state()\n",
    "\n",
    "    # Training phase \n",
    "    cls.train() # Set model to training mode\n",
    "    with progressbar.ProgressBar(steps_per_epoch) as pbar:\n",
    "        for j in range(1, steps_per_epoch+1):\n",
    "            # Initialze loader's iterater\n",
    "            for k, v in loader.items():\n",
    "                if j % len(v) == 0:\n",
    "                    iterators[k] = iter(v)\n",
    "\n",
    "            # Load a batch of data\n",
    "            batch = next(iterators['train'])\n",
    "            fundus = batch['fundus'].to(device)\n",
    "\n",
    "            y_true = batch[\"level\"].to(device)\n",
    "\n",
    "            # Forward pass\n",
    "            y_pred = cls(fundus)\n",
    "            loss = loss_fn['ce'](y_pred, y_true)\n",
    "\n",
    "            # Backward pass \n",
    "            optimizer.zero_grad()\n",
    "            loss.backward()\n",
    "            optimizer.step()\n",
    "\n",
    "            # Update training metrics\n",
    "            training_loss['cls_loss'] += loss.item() * y_true.size(0)\n",
    "            num_samples += y_true.size(0)\n",
    "            metric_objects['train_auroc'].update_state(y_pred[:, 1], y_true)\n",
    "\n",
    "            pbar.update(j)\n",
    "\n",
    "        for k, v in training_loss.items():\n",
    "            training_loss[k] = v / float(num_samples)\n",
    "        lr_scheduler.step()\n",
    "\n",
    "    \n",
    "    cls.eval() # Set model to evaluation mode.\n",
    "    for batch in loader['valid']:\n",
    "        fundus = batch['fundus'].to(device)\n",
    "        y_true = batch[\"level\"]\n",
    "\n",
    "        # Forward pass\n",
    "        with torch.no_grad():\n",
    "            y_pred = cls(fundus)\n",
    "            metric_objects['val_auroc'].update_state(y_pred[:, 1], y_true)\n",
    "\n",
    "    # Display results after an epoch\n",
    "    i += 1\n",
    "    print('Epoch: {:d}/{:d}'.format(i, num_epochs))\n",
    "    print('training classification loss: {:.4f}'.format(training_loss['cls_loss']))\n",
    "    for k, v in metric_objects.items():\n",
    "        print('{}: {:.4f}'.format(k, v.result()))\n",
    "    \n",
    "    # Save model when reached the highest validation accuracy \n",
    "    curr_val_metric = metric_objects['val_auroc'].result()\n",
    "    if curr_val_metric > best_val_metric:\n",
    "        best_val_metric = curr_val_metric\n",
    "        checkpoint = {'cls_state_dict' : cls.state_dict(),\n",
    "                      'optimizer_state_dict' : optimizer.state_dict(),\n",
    "                      'lr_scheduler_state_dict' : lr_scheduler.state_dict(),\n",
    "                      'best_val_metric' : best_val_metric,\n",
    "                      'epoch' : i,\n",
    "                      'cnn_name' : cnn_name}\n",
    "        torch.save(checkpoint, checkpoint_path)\n",
    "        print('Model saved.')"
   ]
  },
  {
   "cell_type": "code",
   "execution_count": null,
   "metadata": {},
   "outputs": [],
   "source": [
    "if os.path.exists(checkpoint_path):\n",
    "    checkpoint = torch.load(checkpoint_path)\n",
    "    print('Load model trained for {} epochs.'.format(checkpoint['epoch']))\n",
    "else:\n",
    "    checkpoint = None"
   ]
  },
  {
   "cell_type": "code",
   "execution_count": null,
   "metadata": {},
   "outputs": [],
   "source": [
    "print(checkpoint[\"best_val_metric\"])"
   ]
  }
 ],
 "metadata": {
  "kernelspec": {
   "display_name": "torch",
   "language": "python",
   "name": "torch"
  },
  "language_info": {
   "codemirror_mode": {
    "name": "ipython",
    "version": 3
   },
   "file_extension": ".py",
   "mimetype": "text/x-python",
   "name": "python",
   "nbconvert_exporter": "python",
   "pygments_lexer": "ipython3",
   "version": "3.7.5"
  }
 },
 "nbformat": 4,
 "nbformat_minor": 2
}
