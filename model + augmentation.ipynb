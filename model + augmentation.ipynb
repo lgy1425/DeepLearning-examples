{
 "cells": [
  {
   "cell_type": "code",
   "execution_count": 1,
   "metadata": {},
   "outputs": [],
   "source": [
    "# Built-in modules\n",
    "import sys, os, argparse\n",
    "from collections import OrderedDict, defaultdict\n",
    "# Public modules\n",
    "import numpy as np\n",
    "import matplotlib.pyplot as plt\n",
    "import torch, torchvision\n",
    "import torch.nn as nn\n",
    "import torch.optim as optim\n",
    "from torch.utils.data import DataLoader\n",
    "import progressbar\n",
    "\n",
    "from torchvision.datasets import ImageFolder\n",
    "from torchvision.transforms import CenterCrop, ColorJitter, Compose, \\\n",
    "        Normalize, Resize, RandomCrop, RandomHorizontalFlip, \\\n",
    "        RandomRotation, ToTensor\n",
    "from torch.utils.data import DataLoader, Dataset\n",
    "import pandas as pd\n",
    "from PIL import Image\n",
    "from utils import SimpleAUC\n",
    "\n",
    "os.environ[\"CUDA_VISIBLE_DEVICES\"]=\"1\""
   ]
  },
  {
   "cell_type": "markdown",
   "metadata": {},
   "source": [
    "# Setting parameters"
   ]
  },
  {
   "cell_type": "code",
   "execution_count": 2,
   "metadata": {},
   "outputs": [],
   "source": [
    "device = 'cuda' if torch.cuda.is_available() else 'cpu'\n",
    "init_lr = 1e-4\n",
    "batch_size = 32\n",
    "num_epochs = 200\n",
    "steps_per_epoch = 2000\n",
    "weight_decay = 1e-5\n",
    "\n",
    "cnn_name = \"model_augmentation\"\n",
    "\n",
    "tag = \"model_augmentation\""
   ]
  },
  {
   "cell_type": "code",
   "execution_count": 3,
   "metadata": {},
   "outputs": [],
   "source": [
    "checkpoint_dir = './train_logs/' + cnn_name"
   ]
  },
  {
   "cell_type": "code",
   "execution_count": 4,
   "metadata": {},
   "outputs": [],
   "source": [
    "os.makedirs(checkpoint_dir, exist_ok=True)\n",
    "checkpoint_path = os.path.join(checkpoint_dir, '{}.pt'.format(tag))\n",
    "if os.path.exists(checkpoint_path):\n",
    "    checkpoint = torch.load(checkpoint_path)\n",
    "    print('Load model trained for {} epochs.'.format(checkpoint['epoch']))\n",
    "else:\n",
    "    checkpoint = None"
   ]
  },
  {
   "cell_type": "markdown",
   "metadata": {},
   "source": [
    "# Build dataset"
   ]
  },
  {
   "cell_type": "code",
   "execution_count": 5,
   "metadata": {},
   "outputs": [],
   "source": [
    "IMAGENET_MEAN = [0.485, 0.456, 0.406]\n",
    "IMAGENET_STD = [0.229, 0.224, 0.225]\n",
    "\n",
    "class RetinaDataset(Dataset):\n",
    "    \"\"\" Custom dataset for Retina image dataset \"\"\"\n",
    "    def __init__(self,\n",
    "                 csv_df,\n",
    "                 img_dir,\n",
    "                 transform=None,\n",
    "                 standardize=False):\n",
    "        \"\"\"\n",
    "        Args:\n",
    "            csv_path (str): A path to the csv file.\n",
    "            img_dir (str): A path to the fundus image dir.\n",
    "            transform (callable, optional): Tranform function\n",
    "                to be applied fundus images.\n",
    "            standardize (bool): Whether to apply standardize to numeric data.\n",
    "        \"\"\"\n",
    "        super().__init__()\n",
    "        self.df = csv_df\n",
    "        self.img_dir = img_dir\n",
    "        self.transform = transform\n",
    "        self.standardize = standardize\n",
    "\n",
    "    def __len__(self):\n",
    "        return len(self.df)\n",
    "\n",
    "    def __getitem__(self, i):\n",
    "        \"\"\" read left and right retina image \"\"\"\n",
    "        path = os.path.join(self.img_dir, self.df['image'].values[i]+\".jpeg\")\n",
    "\n",
    "        sample = {}\n",
    "        sample['fundus'] = Image.open(path)\n",
    "        sample[\"level\"] = 1 if self.df[\"level\"].values[i] > 0 else 0\n",
    "\n",
    "        if self.transform is not None:\n",
    "            sample['fundus'] = self.transform(sample['fundus'])\n",
    "        return sample\n",
    "    \n",
    "def build_dataset():\n",
    "    \"\"\" Build dataset \"\"\"\n",
    "    transform_train = Compose([Resize([256, 256]),\n",
    "                               RandomCrop([224, 224]),\n",
    "                               ColorJitter(brightness=0.2,\n",
    "                                           saturation=1),\n",
    "                               RandomHorizontalFlip(),\n",
    "                               RandomRotation(degrees=30),\n",
    "                               ToTensor(),\n",
    "                               Normalize(IMAGENET_MEAN, IMAGENET_STD)])\n",
    "    transform_eval = Compose([Resize([256, 256]),\n",
    "                              CenterCrop([224, 224]),\n",
    "                              ToTensor(),\n",
    "                              Normalize(IMAGENET_MEAN, IMAGENET_STD)])\n",
    "\n",
    "    \n",
    "    \n",
    "    df = pd.read_csv(\"../kaggle_data/trainLabels.csv\")\n",
    "    n_samples = len(df)\n",
    "    train_df = df[0:int(n_samples*0.8)]\n",
    "    val_df = df[int(n_samples*0.8):]\n",
    "    \n",
    "    IMG_DIR = \"../kaggle_data/train_resize\"\n",
    "    \n",
    "    dataset = {'train': RetinaDataset(csv_df=train_df,\n",
    "                                   img_dir=IMG_DIR,\n",
    "                                   transform=transform_train),\n",
    "               'valid' : RetinaDataset(csv_df=val_df,\n",
    "                                   img_dir=IMG_DIR,\n",
    "                                  transform=transform_eval)}\n",
    "\n",
    "        \n",
    "\n",
    "    return dataset"
   ]
  },
  {
   "cell_type": "code",
   "execution_count": 6,
   "metadata": {},
   "outputs": [],
   "source": [
    "dataset = build_dataset()\n",
    "loader = {}\n",
    "for key in ['train', 'valid']:\n",
    "    shuffle = (key != 'valid')\n",
    "    loader[key] = DataLoader(dataset[key], batch_size=batch_size, shuffle=shuffle,\n",
    "                             pin_memory=True, num_workers=4)"
   ]
  },
  {
   "cell_type": "markdown",
   "metadata": {},
   "source": [
    "# Define Model"
   ]
  },
  {
   "cell_type": "code",
   "execution_count": 7,
   "metadata": {},
   "outputs": [],
   "source": [
    "_model_dict = {\n",
    "            'resnet18' : torchvision.models.resnet18,\n",
    "            'resnet34' : torchvision.models.resnet34,\n",
    "            'resnet50' : torchvision.models.resnet50,\n",
    "            'resnet101' : torchvision.models.resnet101,\n",
    "        }\n",
    "\n",
    "class Classifier(nn.Module):\n",
    "    \"\"\" Pre-trained model to which new layers are attached. \"\"\"\n",
    "    def __init__(self,\n",
    "                 cnn_name,\n",
    "                 num_classes,\n",
    "                 pretrained=False):\n",
    "        \"\"\" Initialize module\n",
    "        Args:\n",
    "            cnn_name (str): The name of a pretrained CNN model.\n",
    "            num_classes (int): The number of output classes.\n",
    "        \"\"\"\n",
    "        super().__init__()\n",
    "        if cnn_name not in _model_dict.keys():\n",
    "            raise NotImplementedError('{} is not supported.'.format(cnn_name))\n",
    "\n",
    "        self.num_classes = num_classes\n",
    "        self.model = _model_dict[cnn_name](pretrained=pretrained)\n",
    "        self.model.fc = nn.Linear(512, num_classes)\n",
    "\n",
    "    def forward(self, fundus):\n",
    "        \"\"\" forward pass \"\"\"\n",
    "        h = self.model(fundus)\n",
    "        return h\n"
   ]
  },
  {
   "cell_type": "code",
   "execution_count": 8,
   "metadata": {},
   "outputs": [
    {
     "data": {
      "text/plain": [
       "Classifier(\n",
       "  (model): ResNet(\n",
       "    (conv1): Conv2d(3, 64, kernel_size=(7, 7), stride=(2, 2), padding=(3, 3), bias=False)\n",
       "    (bn1): BatchNorm2d(64, eps=1e-05, momentum=0.1, affine=True, track_running_stats=True)\n",
       "    (relu): ReLU(inplace=True)\n",
       "    (maxpool): MaxPool2d(kernel_size=3, stride=2, padding=1, dilation=1, ceil_mode=False)\n",
       "    (layer1): Sequential(\n",
       "      (0): BasicBlock(\n",
       "        (conv1): Conv2d(64, 64, kernel_size=(3, 3), stride=(1, 1), padding=(1, 1), bias=False)\n",
       "        (bn1): BatchNorm2d(64, eps=1e-05, momentum=0.1, affine=True, track_running_stats=True)\n",
       "        (relu): ReLU(inplace=True)\n",
       "        (conv2): Conv2d(64, 64, kernel_size=(3, 3), stride=(1, 1), padding=(1, 1), bias=False)\n",
       "        (bn2): BatchNorm2d(64, eps=1e-05, momentum=0.1, affine=True, track_running_stats=True)\n",
       "      )\n",
       "      (1): BasicBlock(\n",
       "        (conv1): Conv2d(64, 64, kernel_size=(3, 3), stride=(1, 1), padding=(1, 1), bias=False)\n",
       "        (bn1): BatchNorm2d(64, eps=1e-05, momentum=0.1, affine=True, track_running_stats=True)\n",
       "        (relu): ReLU(inplace=True)\n",
       "        (conv2): Conv2d(64, 64, kernel_size=(3, 3), stride=(1, 1), padding=(1, 1), bias=False)\n",
       "        (bn2): BatchNorm2d(64, eps=1e-05, momentum=0.1, affine=True, track_running_stats=True)\n",
       "      )\n",
       "    )\n",
       "    (layer2): Sequential(\n",
       "      (0): BasicBlock(\n",
       "        (conv1): Conv2d(64, 128, kernel_size=(3, 3), stride=(2, 2), padding=(1, 1), bias=False)\n",
       "        (bn1): BatchNorm2d(128, eps=1e-05, momentum=0.1, affine=True, track_running_stats=True)\n",
       "        (relu): ReLU(inplace=True)\n",
       "        (conv2): Conv2d(128, 128, kernel_size=(3, 3), stride=(1, 1), padding=(1, 1), bias=False)\n",
       "        (bn2): BatchNorm2d(128, eps=1e-05, momentum=0.1, affine=True, track_running_stats=True)\n",
       "        (downsample): Sequential(\n",
       "          (0): Conv2d(64, 128, kernel_size=(1, 1), stride=(2, 2), bias=False)\n",
       "          (1): BatchNorm2d(128, eps=1e-05, momentum=0.1, affine=True, track_running_stats=True)\n",
       "        )\n",
       "      )\n",
       "      (1): BasicBlock(\n",
       "        (conv1): Conv2d(128, 128, kernel_size=(3, 3), stride=(1, 1), padding=(1, 1), bias=False)\n",
       "        (bn1): BatchNorm2d(128, eps=1e-05, momentum=0.1, affine=True, track_running_stats=True)\n",
       "        (relu): ReLU(inplace=True)\n",
       "        (conv2): Conv2d(128, 128, kernel_size=(3, 3), stride=(1, 1), padding=(1, 1), bias=False)\n",
       "        (bn2): BatchNorm2d(128, eps=1e-05, momentum=0.1, affine=True, track_running_stats=True)\n",
       "      )\n",
       "    )\n",
       "    (layer3): Sequential(\n",
       "      (0): BasicBlock(\n",
       "        (conv1): Conv2d(128, 256, kernel_size=(3, 3), stride=(2, 2), padding=(1, 1), bias=False)\n",
       "        (bn1): BatchNorm2d(256, eps=1e-05, momentum=0.1, affine=True, track_running_stats=True)\n",
       "        (relu): ReLU(inplace=True)\n",
       "        (conv2): Conv2d(256, 256, kernel_size=(3, 3), stride=(1, 1), padding=(1, 1), bias=False)\n",
       "        (bn2): BatchNorm2d(256, eps=1e-05, momentum=0.1, affine=True, track_running_stats=True)\n",
       "        (downsample): Sequential(\n",
       "          (0): Conv2d(128, 256, kernel_size=(1, 1), stride=(2, 2), bias=False)\n",
       "          (1): BatchNorm2d(256, eps=1e-05, momentum=0.1, affine=True, track_running_stats=True)\n",
       "        )\n",
       "      )\n",
       "      (1): BasicBlock(\n",
       "        (conv1): Conv2d(256, 256, kernel_size=(3, 3), stride=(1, 1), padding=(1, 1), bias=False)\n",
       "        (bn1): BatchNorm2d(256, eps=1e-05, momentum=0.1, affine=True, track_running_stats=True)\n",
       "        (relu): ReLU(inplace=True)\n",
       "        (conv2): Conv2d(256, 256, kernel_size=(3, 3), stride=(1, 1), padding=(1, 1), bias=False)\n",
       "        (bn2): BatchNorm2d(256, eps=1e-05, momentum=0.1, affine=True, track_running_stats=True)\n",
       "      )\n",
       "    )\n",
       "    (layer4): Sequential(\n",
       "      (0): BasicBlock(\n",
       "        (conv1): Conv2d(256, 512, kernel_size=(3, 3), stride=(2, 2), padding=(1, 1), bias=False)\n",
       "        (bn1): BatchNorm2d(512, eps=1e-05, momentum=0.1, affine=True, track_running_stats=True)\n",
       "        (relu): ReLU(inplace=True)\n",
       "        (conv2): Conv2d(512, 512, kernel_size=(3, 3), stride=(1, 1), padding=(1, 1), bias=False)\n",
       "        (bn2): BatchNorm2d(512, eps=1e-05, momentum=0.1, affine=True, track_running_stats=True)\n",
       "        (downsample): Sequential(\n",
       "          (0): Conv2d(256, 512, kernel_size=(1, 1), stride=(2, 2), bias=False)\n",
       "          (1): BatchNorm2d(512, eps=1e-05, momentum=0.1, affine=True, track_running_stats=True)\n",
       "        )\n",
       "      )\n",
       "      (1): BasicBlock(\n",
       "        (conv1): Conv2d(512, 512, kernel_size=(3, 3), stride=(1, 1), padding=(1, 1), bias=False)\n",
       "        (bn1): BatchNorm2d(512, eps=1e-05, momentum=0.1, affine=True, track_running_stats=True)\n",
       "        (relu): ReLU(inplace=True)\n",
       "        (conv2): Conv2d(512, 512, kernel_size=(3, 3), stride=(1, 1), padding=(1, 1), bias=False)\n",
       "        (bn2): BatchNorm2d(512, eps=1e-05, momentum=0.1, affine=True, track_running_stats=True)\n",
       "      )\n",
       "    )\n",
       "    (avgpool): AdaptiveAvgPool2d(output_size=(1, 1))\n",
       "    (fc): Linear(in_features=512, out_features=2, bias=True)\n",
       "  )\n",
       ")"
      ]
     },
     "execution_count": 8,
     "metadata": {},
     "output_type": "execute_result"
    }
   ],
   "source": [
    "if checkpoint is None:\n",
    "    cls = Classifier('resnet18', num_classes=2, pretrained=False)\n",
    "else:\n",
    "    cls = Classifier(checkpoint['cnn_name'], num_classes=2,\n",
    "            pretrained=False)\n",
    "    cls.load_state_dict(checkpoint['cls_state_dict'])\n",
    "cls.to(device)"
   ]
  },
  {
   "cell_type": "markdown",
   "metadata": {},
   "source": [
    "# Define Loss function and optimizer"
   ]
  },
  {
   "cell_type": "code",
   "execution_count": 9,
   "metadata": {},
   "outputs": [],
   "source": [
    "# Define loss function\n",
    "loss_fn = {'ce' : nn.CrossEntropyLoss()}\n",
    "\n",
    "# Build optimizer\n",
    "\n",
    "optimizer = optim.SGD(cls.parameters(),\n",
    "                      lr=init_lr,\n",
    "                      momentum=0.9,\n",
    "                      weight_decay=weight_decay,\n",
    "                      nesterov=True)\n",
    "\n",
    "if checkpoint is not None:\n",
    "    optimizer.load_state_dict(checkpoint['optimizer_state_dict'])\n",
    "\n",
    "decay_factor = 0.99\n",
    "lr_scheduler = optim.lr_scheduler.LambdaLR(optimizer,lambda epoch: decay_factor ** epoch)\n",
    "if checkpoint is not None:\n",
    "    lr_scheduler.load_state_dict(checkpoint['lr_scheduler_state_dict'])"
   ]
  },
  {
   "cell_type": "markdown",
   "metadata": {},
   "source": [
    "# Train"
   ]
  },
  {
   "cell_type": "code",
   "execution_count": 10,
   "metadata": {},
   "outputs": [
    {
     "name": "stderr",
     "output_type": "stream",
     "text": [
      "| |    #                                           | 2000 Elapsed Time: 0:02:53\n"
     ]
    },
    {
     "name": "stdout",
     "output_type": "stream",
     "text": [
      "Epoch: 1/200\n",
      "training classification loss: 0.5792\n",
      "train_auroc: 0.5269\n",
      "val_auroc: 0.5500\n",
      "Model saved.\n"
     ]
    },
    {
     "name": "stderr",
     "output_type": "stream",
     "text": [
      "| |       #                                        | 2000 Elapsed Time: 0:02:53\n"
     ]
    },
    {
     "name": "stdout",
     "output_type": "stream",
     "text": [
      "Epoch: 2/200\n",
      "training classification loss: 0.5763\n",
      "train_auroc: 0.5425\n",
      "val_auroc: 0.5635\n",
      "Model saved.\n"
     ]
    },
    {
     "name": "stderr",
     "output_type": "stream",
     "text": [
      "| |                                #               | 2000 Elapsed Time: 0:02:56\n"
     ]
    },
    {
     "name": "stdout",
     "output_type": "stream",
     "text": [
      "Epoch: 3/200\n",
      "training classification loss: 0.5753\n",
      "train_auroc: 0.5514\n",
      "val_auroc: 0.5698\n",
      "Model saved.\n"
     ]
    },
    {
     "name": "stderr",
     "output_type": "stream",
     "text": [
      "| |                #                               | 2000 Elapsed Time: 0:02:54\n"
     ]
    },
    {
     "name": "stdout",
     "output_type": "stream",
     "text": [
      "Epoch: 4/200\n",
      "training classification loss: 0.5747\n",
      "train_auroc: 0.5556\n",
      "val_auroc: 0.5785\n",
      "Model saved.\n"
     ]
    },
    {
     "name": "stderr",
     "output_type": "stream",
     "text": [
      "| |                  #                             | 2000 Elapsed Time: 0:02:54\n"
     ]
    },
    {
     "name": "stdout",
     "output_type": "stream",
     "text": [
      "Epoch: 5/200\n",
      "training classification loss: 0.5751\n",
      "train_auroc: 0.5596\n",
      "val_auroc: 0.5736\n"
     ]
    },
    {
     "name": "stderr",
     "output_type": "stream",
     "text": [
      "| |                        #                       | 2000 Elapsed Time: 0:02:55\n"
     ]
    },
    {
     "name": "stdout",
     "output_type": "stream",
     "text": [
      "Epoch: 6/200\n",
      "training classification loss: 0.5755\n",
      "train_auroc: 0.5599\n",
      "val_auroc: 0.5741\n"
     ]
    },
    {
     "name": "stderr",
     "output_type": "stream",
     "text": [
      "| |                       #                        | 2000 Elapsed Time: 0:02:55\n"
     ]
    },
    {
     "name": "stdout",
     "output_type": "stream",
     "text": [
      "Epoch: 7/200\n",
      "training classification loss: 0.5732\n",
      "train_auroc: 0.5612\n",
      "val_auroc: 0.5682\n"
     ]
    },
    {
     "name": "stderr",
     "output_type": "stream",
     "text": [
      "| |    #                                           | 2000 Elapsed Time: 0:02:53\n"
     ]
    },
    {
     "name": "stdout",
     "output_type": "stream",
     "text": [
      "Epoch: 8/200\n",
      "training classification loss: 0.5733\n",
      "train_auroc: 0.5606\n",
      "val_auroc: 0.5884\n",
      "Model saved.\n"
     ]
    },
    {
     "name": "stderr",
     "output_type": "stream",
     "text": [
      "| | #                                              | 2000 Elapsed Time: 0:02:52\n"
     ]
    },
    {
     "name": "stdout",
     "output_type": "stream",
     "text": [
      "Epoch: 9/200\n",
      "training classification loss: 0.5723\n",
      "train_auroc: 0.5622\n",
      "val_auroc: 0.5788\n"
     ]
    },
    {
     "name": "stderr",
     "output_type": "stream",
     "text": [
      "| |            #                                   | 2000 Elapsed Time: 0:02:54\n"
     ]
    },
    {
     "name": "stdout",
     "output_type": "stream",
     "text": [
      "Epoch: 10/200\n",
      "training classification loss: 0.5727\n",
      "train_auroc: 0.5626\n",
      "val_auroc: 0.5746\n"
     ]
    },
    {
     "name": "stderr",
     "output_type": "stream",
     "text": [
      "| |                   #                            | 2000 Elapsed Time: 0:02:54\n"
     ]
    },
    {
     "name": "stdout",
     "output_type": "stream",
     "text": [
      "Epoch: 11/200\n",
      "training classification loss: 0.5726\n",
      "train_auroc: 0.5640\n",
      "val_auroc: 0.5722\n"
     ]
    },
    {
     "name": "stderr",
     "output_type": "stream",
     "text": [
      "| |                         #                      | 2000 Elapsed Time: 0:02:55\n"
     ]
    },
    {
     "name": "stdout",
     "output_type": "stream",
     "text": [
      "Epoch: 12/200\n",
      "training classification loss: 0.5732\n",
      "train_auroc: 0.5634\n",
      "val_auroc: 0.5734\n"
     ]
    },
    {
     "name": "stderr",
     "output_type": "stream",
     "text": [
      "| |        #                                       | 2000 Elapsed Time: 0:02:51\n"
     ]
    },
    {
     "name": "stdout",
     "output_type": "stream",
     "text": [
      "Epoch: 13/200\n",
      "training classification loss: 0.5717\n",
      "train_auroc: 0.5680\n",
      "val_auroc: 0.5825\n"
     ]
    },
    {
     "name": "stderr",
     "output_type": "stream",
     "text": [
      "| |      #                                         | 2000 Elapsed Time: 0:02:53\n"
     ]
    },
    {
     "name": "stdout",
     "output_type": "stream",
     "text": [
      "Epoch: 14/200\n",
      "training classification loss: 0.5726\n",
      "train_auroc: 0.5701\n",
      "val_auroc: 0.5853\n"
     ]
    },
    {
     "name": "stderr",
     "output_type": "stream",
     "text": [
      "| |                      #                         | 2000 Elapsed Time: 0:02:55\n"
     ]
    },
    {
     "name": "stdout",
     "output_type": "stream",
     "text": [
      "Epoch: 15/200\n",
      "training classification loss: 0.5721\n",
      "train_auroc: 0.5696\n",
      "val_auroc: 0.5820\n"
     ]
    },
    {
     "name": "stderr",
     "output_type": "stream",
     "text": [
      "| |                                        #       | 2000 Elapsed Time: 0:02:56\n"
     ]
    },
    {
     "name": "stdout",
     "output_type": "stream",
     "text": [
      "Epoch: 16/200\n",
      "training classification loss: 0.5722\n",
      "train_auroc: 0.5720\n",
      "val_auroc: 0.5891\n",
      "Model saved.\n"
     ]
    },
    {
     "name": "stderr",
     "output_type": "stream",
     "text": [
      "| |                 #                              | 2000 Elapsed Time: 0:02:54\n"
     ]
    },
    {
     "name": "stdout",
     "output_type": "stream",
     "text": [
      "Epoch: 17/200\n",
      "training classification loss: 0.5721\n",
      "train_auroc: 0.5730\n",
      "val_auroc: 0.5925\n",
      "Model saved.\n"
     ]
    },
    {
     "name": "stderr",
     "output_type": "stream",
     "text": [
      "| |                              #                 | 2000 Elapsed Time: 0:02:55\n"
     ]
    },
    {
     "name": "stdout",
     "output_type": "stream",
     "text": [
      "Epoch: 18/200\n",
      "training classification loss: 0.5720\n",
      "train_auroc: 0.5741\n",
      "val_auroc: 0.5940\n",
      "Model saved.\n"
     ]
    },
    {
     "name": "stderr",
     "output_type": "stream",
     "text": [
      "| |               #                                | 2000 Elapsed Time: 0:02:54\n"
     ]
    },
    {
     "name": "stdout",
     "output_type": "stream",
     "text": [
      "Epoch: 19/200\n",
      "training classification loss: 0.5702\n",
      "train_auroc: 0.5760\n",
      "val_auroc: 0.5903\n"
     ]
    },
    {
     "name": "stderr",
     "output_type": "stream",
     "text": [
      "| |                      #                         | 2000 Elapsed Time: 0:02:55\n"
     ]
    },
    {
     "name": "stdout",
     "output_type": "stream",
     "text": [
      "Epoch: 20/200\n",
      "training classification loss: 0.5706\n",
      "train_auroc: 0.5778\n",
      "val_auroc: 0.5887\n"
     ]
    },
    {
     "name": "stderr",
     "output_type": "stream",
     "text": [
      "| |                                          #     | 2000 Elapsed Time: 0:02:57\n"
     ]
    },
    {
     "name": "stdout",
     "output_type": "stream",
     "text": [
      "Epoch: 21/200\n",
      "training classification loss: 0.5710\n",
      "train_auroc: 0.5736\n",
      "val_auroc: 0.5904\n"
     ]
    },
    {
     "name": "stderr",
     "output_type": "stream",
     "text": [
      "| |  #                                             | 2000 Elapsed Time: 0:02:53\n"
     ]
    },
    {
     "name": "stdout",
     "output_type": "stream",
     "text": [
      "Epoch: 22/200\n",
      "training classification loss: 0.5713\n",
      "train_auroc: 0.5762\n",
      "val_auroc: 0.5893\n"
     ]
    },
    {
     "name": "stderr",
     "output_type": "stream",
     "text": [
      "| |                #                               | 2000 Elapsed Time: 0:02:54\n"
     ]
    },
    {
     "name": "stdout",
     "output_type": "stream",
     "text": [
      "Epoch: 23/200\n",
      "training classification loss: 0.5707\n",
      "train_auroc: 0.5797\n",
      "val_auroc: 0.5841\n"
     ]
    },
    {
     "name": "stderr",
     "output_type": "stream",
     "text": [
      "| | #                                              | 2000 Elapsed Time: 0:02:52\n"
     ]
    },
    {
     "name": "stdout",
     "output_type": "stream",
     "text": [
      "Epoch: 24/200\n",
      "training classification loss: 0.5690\n",
      "train_auroc: 0.5804\n",
      "val_auroc: 0.5987\n",
      "Model saved.\n"
     ]
    },
    {
     "name": "stderr",
     "output_type": "stream",
     "text": [
      "| |        #                                       | 2000 Elapsed Time: 0:02:53\n"
     ]
    },
    {
     "name": "stdout",
     "output_type": "stream",
     "text": [
      "Epoch: 25/200\n",
      "training classification loss: 0.5696\n",
      "train_auroc: 0.5828\n",
      "val_auroc: 0.5949\n"
     ]
    },
    {
     "name": "stderr",
     "output_type": "stream",
     "text": [
      "| |     #                                          | 2000 Elapsed Time: 0:02:53\n"
     ]
    },
    {
     "name": "stdout",
     "output_type": "stream",
     "text": [
      "Epoch: 26/200\n",
      "training classification loss: 0.5696\n",
      "train_auroc: 0.5837\n",
      "val_auroc: 0.6010\n",
      "Model saved.\n"
     ]
    },
    {
     "name": "stderr",
     "output_type": "stream",
     "text": [
      "| |                    #                           | 2000 Elapsed Time: 0:02:54\n"
     ]
    },
    {
     "name": "stdout",
     "output_type": "stream",
     "text": [
      "Epoch: 27/200\n",
      "training classification loss: 0.5688\n",
      "train_auroc: 0.5820\n",
      "val_auroc: 0.5970\n"
     ]
    },
    {
     "name": "stderr",
     "output_type": "stream",
     "text": [
      "| |                #                               | 2000 Elapsed Time: 0:02:54\n"
     ]
    },
    {
     "name": "stdout",
     "output_type": "stream",
     "text": [
      "Epoch: 28/200\n",
      "training classification loss: 0.5688\n",
      "train_auroc: 0.5808\n",
      "val_auroc: 0.5992\n"
     ]
    },
    {
     "name": "stderr",
     "output_type": "stream",
     "text": [
      "| |                            #                   | 2000 Elapsed Time: 0:02:55\n"
     ]
    },
    {
     "name": "stdout",
     "output_type": "stream",
     "text": [
      "Epoch: 29/200\n",
      "training classification loss: 0.5689\n",
      "train_auroc: 0.5873\n",
      "val_auroc: 0.6002\n"
     ]
    },
    {
     "name": "stderr",
     "output_type": "stream",
     "text": [
      "| |                         #                      | 2000 Elapsed Time: 0:02:55\n"
     ]
    },
    {
     "name": "stdout",
     "output_type": "stream",
     "text": [
      "Epoch: 30/200\n",
      "training classification loss: 0.5692\n",
      "train_auroc: 0.5850\n",
      "val_auroc: 0.5941\n"
     ]
    },
    {
     "name": "stderr",
     "output_type": "stream",
     "text": [
      "| |                               #                | 2000 Elapsed Time: 0:02:55\n"
     ]
    },
    {
     "name": "stdout",
     "output_type": "stream",
     "text": [
      "Epoch: 31/200\n",
      "training classification loss: 0.5688\n",
      "train_auroc: 0.5852\n",
      "val_auroc: 0.6008\n"
     ]
    },
    {
     "name": "stderr",
     "output_type": "stream",
     "text": [
      "| |       #                                        | 2000 Elapsed Time: 0:02:53\n"
     ]
    },
    {
     "name": "stdout",
     "output_type": "stream",
     "text": [
      "Epoch: 32/200\n",
      "training classification loss: 0.5694\n",
      "train_auroc: 0.5849\n",
      "val_auroc: 0.5965\n"
     ]
    },
    {
     "name": "stderr",
     "output_type": "stream",
     "text": [
      "| |                                    #           | 2000 Elapsed Time: 0:02:56\n"
     ]
    },
    {
     "name": "stdout",
     "output_type": "stream",
     "text": [
      "Epoch: 33/200\n",
      "training classification loss: 0.5695\n",
      "train_auroc: 0.5878\n",
      "val_auroc: 0.5978\n"
     ]
    },
    {
     "name": "stderr",
     "output_type": "stream",
     "text": [
      "| |                                           #    | 2000 Elapsed Time: 0:02:57\n"
     ]
    },
    {
     "name": "stdout",
     "output_type": "stream",
     "text": [
      "Epoch: 34/200\n",
      "training classification loss: 0.5673\n",
      "train_auroc: 0.5866\n",
      "val_auroc: 0.5983\n"
     ]
    },
    {
     "name": "stderr",
     "output_type": "stream",
     "text": [
      "| |      #                                         | 2000 Elapsed Time: 0:02:52\n"
     ]
    },
    {
     "name": "stdout",
     "output_type": "stream",
     "text": [
      "Epoch: 35/200\n",
      "training classification loss: 0.5674\n",
      "train_auroc: 0.5897\n",
      "val_auroc: 0.5908\n"
     ]
    },
    {
     "name": "stderr",
     "output_type": "stream",
     "text": [
      "| |             #                                  | 2000 Elapsed Time: 0:02:54\n"
     ]
    },
    {
     "name": "stdout",
     "output_type": "stream",
     "text": [
      "Epoch: 36/200\n",
      "training classification loss: 0.5669\n",
      "train_auroc: 0.5859\n",
      "val_auroc: 0.5973\n"
     ]
    },
    {
     "name": "stderr",
     "output_type": "stream",
     "text": [
      "| |                   #                            | 2000 Elapsed Time: 0:02:54\n"
     ]
    },
    {
     "name": "stdout",
     "output_type": "stream",
     "text": [
      "Epoch: 37/200\n",
      "training classification loss: 0.5696\n",
      "train_auroc: 0.5849\n",
      "val_auroc: 0.5966\n"
     ]
    },
    {
     "name": "stderr",
     "output_type": "stream",
     "text": [
      "| |             #                                  | 2000 Elapsed Time: 0:02:54\n"
     ]
    },
    {
     "name": "stdout",
     "output_type": "stream",
     "text": [
      "Epoch: 38/200\n",
      "training classification loss: 0.5675\n",
      "train_auroc: 0.5899\n",
      "val_auroc: 0.5981\n"
     ]
    },
    {
     "name": "stderr",
     "output_type": "stream",
     "text": [
      "| |                   #                            | 2000 Elapsed Time: 0:02:54\n"
     ]
    },
    {
     "name": "stdout",
     "output_type": "stream",
     "text": [
      "Epoch: 39/200\n",
      "training classification loss: 0.5678\n",
      "train_auroc: 0.5883\n",
      "val_auroc: 0.5980\n"
     ]
    },
    {
     "name": "stderr",
     "output_type": "stream",
     "text": [
      "| |                         #                      | 2000 Elapsed Time: 0:02:55\n"
     ]
    },
    {
     "name": "stdout",
     "output_type": "stream",
     "text": [
      "Epoch: 40/200\n",
      "training classification loss: 0.5681\n",
      "train_auroc: 0.5893\n",
      "val_auroc: 0.5972\n"
     ]
    },
    {
     "name": "stderr",
     "output_type": "stream",
     "text": [
      "| |          #                                     | 2000 Elapsed Time: 0:02:53\n"
     ]
    },
    {
     "name": "stdout",
     "output_type": "stream",
     "text": [
      "Epoch: 41/200\n",
      "training classification loss: 0.5673\n",
      "train_auroc: 0.5888\n",
      "val_auroc: 0.5987\n"
     ]
    },
    {
     "name": "stderr",
     "output_type": "stream",
     "text": [
      "| |                  #                             | 2000 Elapsed Time: 0:02:54\n"
     ]
    },
    {
     "name": "stdout",
     "output_type": "stream",
     "text": [
      "Epoch: 42/200\n",
      "training classification loss: 0.5659\n",
      "train_auroc: 0.5956\n",
      "val_auroc: 0.6022\n",
      "Model saved.\n"
     ]
    },
    {
     "name": "stderr",
     "output_type": "stream",
     "text": [
      "| |                                           #    | 2000 Elapsed Time: 0:02:18\n"
     ]
    },
    {
     "name": "stdout",
     "output_type": "stream",
     "text": [
      "Epoch: 43/200\n",
      "training classification loss: 0.5670\n",
      "train_auroc: 0.5940\n",
      "val_auroc: 0.6010\n"
     ]
    },
    {
     "name": "stderr",
     "output_type": "stream",
     "text": [
      "| |                                              # | 2000 Elapsed Time: 0:02:09\n"
     ]
    },
    {
     "name": "stdout",
     "output_type": "stream",
     "text": [
      "Epoch: 44/200\n",
      "training classification loss: 0.5664\n",
      "train_auroc: 0.5911\n",
      "val_auroc: 0.6032\n",
      "Model saved.\n"
     ]
    },
    {
     "name": "stderr",
     "output_type": "stream",
     "text": [
      "| |                                           #    | 2000 Elapsed Time: 0:02:10\n"
     ]
    },
    {
     "name": "stdout",
     "output_type": "stream",
     "text": [
      "Epoch: 45/200\n",
      "training classification loss: 0.5670\n",
      "train_auroc: 0.5912\n",
      "val_auroc: 0.6034\n",
      "Model saved.\n"
     ]
    },
    {
     "name": "stderr",
     "output_type": "stream",
     "text": [
      "| |                                #               | 2000 Elapsed Time: 0:02:11\n"
     ]
    },
    {
     "name": "stdout",
     "output_type": "stream",
     "text": [
      "Epoch: 46/200\n",
      "training classification loss: 0.5660\n",
      "train_auroc: 0.5951\n",
      "val_auroc: 0.6034\n",
      "Model saved.\n"
     ]
    },
    {
     "name": "stderr",
     "output_type": "stream",
     "text": [
      "| |                                           #    | 2000 Elapsed Time: 0:02:10\n"
     ]
    },
    {
     "name": "stdout",
     "output_type": "stream",
     "text": [
      "Epoch: 47/200\n",
      "training classification loss: 0.5664\n",
      "train_auroc: 0.5952\n",
      "val_auroc: 0.6087\n",
      "Model saved.\n"
     ]
    },
    {
     "name": "stderr",
     "output_type": "stream",
     "text": [
      "| |                                        #       | 2000 Elapsed Time: 0:02:08\n"
     ]
    },
    {
     "name": "stdout",
     "output_type": "stream",
     "text": [
      "Epoch: 48/200\n",
      "training classification loss: 0.5663\n",
      "train_auroc: 0.5967\n",
      "val_auroc: 0.6087\n",
      "Model saved.\n"
     ]
    },
    {
     "name": "stderr",
     "output_type": "stream",
     "text": [
      "| |                                           #    | 2000 Elapsed Time: 0:02:09\n"
     ]
    },
    {
     "name": "stdout",
     "output_type": "stream",
     "text": [
      "Epoch: 49/200\n",
      "training classification loss: 0.5652\n",
      "train_auroc: 0.5966\n",
      "val_auroc: 0.6112\n",
      "Model saved.\n"
     ]
    },
    {
     "name": "stderr",
     "output_type": "stream",
     "text": [
      "| |                                           #    | 2000 Elapsed Time: 0:02:10\n"
     ]
    },
    {
     "name": "stdout",
     "output_type": "stream",
     "text": [
      "Epoch: 50/200\n",
      "training classification loss: 0.5641\n",
      "train_auroc: 0.6004\n",
      "val_auroc: 0.6117\n",
      "Model saved.\n"
     ]
    },
    {
     "name": "stderr",
     "output_type": "stream",
     "text": [
      "| |                                               #| 2000 Elapsed Time: 0:02:09\n"
     ]
    },
    {
     "name": "stdout",
     "output_type": "stream",
     "text": [
      "Epoch: 51/200\n",
      "training classification loss: 0.5656\n",
      "train_auroc: 0.5975\n",
      "val_auroc: 0.6160\n",
      "Model saved.\n"
     ]
    },
    {
     "name": "stderr",
     "output_type": "stream",
     "text": [
      "| |                                              # | 2000 Elapsed Time: 0:02:09\n"
     ]
    },
    {
     "name": "stdout",
     "output_type": "stream",
     "text": [
      "Epoch: 52/200\n",
      "training classification loss: 0.5642\n",
      "train_auroc: 0.5997\n",
      "val_auroc: 0.6085\n"
     ]
    },
    {
     "name": "stderr",
     "output_type": "stream",
     "text": [
      "| |                                        #       | 2000 Elapsed Time: 0:02:10\n"
     ]
    },
    {
     "name": "stdout",
     "output_type": "stream",
     "text": [
      "Epoch: 53/200\n",
      "training classification loss: 0.5658\n",
      "train_auroc: 0.5976\n",
      "val_auroc: 0.6046\n"
     ]
    },
    {
     "name": "stderr",
     "output_type": "stream",
     "text": [
      "| |                                              # | 2000 Elapsed Time: 0:02:09\n"
     ]
    },
    {
     "name": "stdout",
     "output_type": "stream",
     "text": [
      "Epoch: 54/200\n",
      "training classification loss: 0.5647\n",
      "train_auroc: 0.5989\n",
      "val_auroc: 0.6102\n"
     ]
    },
    {
     "name": "stderr",
     "output_type": "stream",
     "text": [
      "| |                                    #           | 2000 Elapsed Time: 0:02:10\n"
     ]
    },
    {
     "name": "stdout",
     "output_type": "stream",
     "text": [
      "Epoch: 55/200\n",
      "training classification loss: 0.5643\n",
      "train_auroc: 0.6027\n",
      "val_auroc: 0.6057\n"
     ]
    },
    {
     "name": "stderr",
     "output_type": "stream",
     "text": [
      "| |                                               #| 2000 Elapsed Time: 0:02:09\n"
     ]
    },
    {
     "name": "stdout",
     "output_type": "stream",
     "text": [
      "Epoch: 56/200\n",
      "training classification loss: 0.5637\n",
      "train_auroc: 0.6033\n",
      "val_auroc: 0.6092\n"
     ]
    },
    {
     "name": "stderr",
     "output_type": "stream",
     "text": [
      "| |                                               #| 2000 Elapsed Time: 0:02:09\n"
     ]
    },
    {
     "name": "stdout",
     "output_type": "stream",
     "text": [
      "Epoch: 57/200\n",
      "training classification loss: 0.5642\n",
      "train_auroc: 0.6025\n",
      "val_auroc: 0.6082\n"
     ]
    },
    {
     "name": "stderr",
     "output_type": "stream",
     "text": [
      "| |                                           #    | 2000 Elapsed Time: 0:02:10\n"
     ]
    },
    {
     "name": "stdout",
     "output_type": "stream",
     "text": [
      "Epoch: 58/200\n",
      "training classification loss: 0.5643\n",
      "train_auroc: 0.6035\n",
      "val_auroc: 0.6184\n",
      "Model saved.\n"
     ]
    },
    {
     "name": "stderr",
     "output_type": "stream",
     "text": [
      "| |                                              # | 2000 Elapsed Time: 0:02:09\n"
     ]
    },
    {
     "name": "stdout",
     "output_type": "stream",
     "text": [
      "Epoch: 59/200\n",
      "training classification loss: 0.5632\n",
      "train_auroc: 0.6065\n",
      "val_auroc: 0.6174\n"
     ]
    },
    {
     "name": "stderr",
     "output_type": "stream",
     "text": [
      "| |                                        #       | 2000 Elapsed Time: 0:02:10\n"
     ]
    },
    {
     "name": "stdout",
     "output_type": "stream",
     "text": [
      "Epoch: 60/200\n",
      "training classification loss: 0.5635\n",
      "train_auroc: 0.6068\n",
      "val_auroc: 0.6118\n"
     ]
    },
    {
     "name": "stderr",
     "output_type": "stream",
     "text": [
      "| |                                           #    | 2000 Elapsed Time: 0:02:10\n"
     ]
    },
    {
     "name": "stdout",
     "output_type": "stream",
     "text": [
      "Epoch: 61/200\n",
      "training classification loss: 0.5622\n",
      "train_auroc: 0.6053\n",
      "val_auroc: 0.6210\n",
      "Model saved.\n"
     ]
    },
    {
     "name": "stderr",
     "output_type": "stream",
     "text": [
      "| |                                      #         | 2000 Elapsed Time: 0:02:10\n"
     ]
    },
    {
     "name": "stdout",
     "output_type": "stream",
     "text": [
      "Epoch: 62/200\n",
      "training classification loss: 0.5619\n",
      "train_auroc: 0.6110\n",
      "val_auroc: 0.6139\n"
     ]
    },
    {
     "name": "stderr",
     "output_type": "stream",
     "text": [
      "| |                                               #| 2000 Elapsed Time: 0:02:09\n"
     ]
    },
    {
     "name": "stdout",
     "output_type": "stream",
     "text": [
      "Epoch: 63/200\n",
      "training classification loss: 0.5626\n",
      "train_auroc: 0.6103\n",
      "val_auroc: 0.6213\n",
      "Model saved.\n"
     ]
    },
    {
     "name": "stderr",
     "output_type": "stream",
     "text": [
      "| |                                              # | 2000 Elapsed Time: 0:02:09\n"
     ]
    },
    {
     "name": "stdout",
     "output_type": "stream",
     "text": [
      "Epoch: 64/200\n",
      "training classification loss: 0.5613\n",
      "train_auroc: 0.6094\n",
      "val_auroc: 0.6227\n",
      "Model saved.\n"
     ]
    },
    {
     "name": "stderr",
     "output_type": "stream",
     "text": [
      "| |                                            #   | 2000 Elapsed Time: 0:02:09\n"
     ]
    },
    {
     "name": "stdout",
     "output_type": "stream",
     "text": [
      "Epoch: 65/200\n",
      "training classification loss: 0.5616\n",
      "train_auroc: 0.6088\n",
      "val_auroc: 0.6220\n"
     ]
    },
    {
     "name": "stderr",
     "output_type": "stream",
     "text": [
      "| |                                            #   | 2000 Elapsed Time: 0:02:09\n"
     ]
    },
    {
     "name": "stdout",
     "output_type": "stream",
     "text": [
      "Epoch: 66/200\n",
      "training classification loss: 0.5620\n",
      "train_auroc: 0.6112\n",
      "val_auroc: 0.6242\n",
      "Model saved.\n"
     ]
    },
    {
     "name": "stderr",
     "output_type": "stream",
     "text": [
      "| |                                 #              | 2000 Elapsed Time: 0:02:11\n"
     ]
    },
    {
     "name": "stdout",
     "output_type": "stream",
     "text": [
      "Epoch: 67/200\n",
      "training classification loss: 0.5607\n",
      "train_auroc: 0.6107\n",
      "val_auroc: 0.6266\n",
      "Model saved.\n"
     ]
    },
    {
     "name": "stderr",
     "output_type": "stream",
     "text": [
      "| |                                           #    | 2000 Elapsed Time: 0:02:10\n"
     ]
    },
    {
     "name": "stdout",
     "output_type": "stream",
     "text": [
      "Epoch: 68/200\n",
      "training classification loss: 0.5609\n",
      "train_auroc: 0.6128\n",
      "val_auroc: 0.6249\n"
     ]
    },
    {
     "name": "stderr",
     "output_type": "stream",
     "text": [
      "| |                                         #      | 2000 Elapsed Time: 0:02:10\n"
     ]
    },
    {
     "name": "stdout",
     "output_type": "stream",
     "text": [
      "Epoch: 69/200\n",
      "training classification loss: 0.5611\n",
      "train_auroc: 0.6101\n",
      "val_auroc: 0.6228\n"
     ]
    },
    {
     "name": "stderr",
     "output_type": "stream",
     "text": [
      "| |                                            #   | 2000 Elapsed Time: 0:02:09\n"
     ]
    },
    {
     "name": "stdout",
     "output_type": "stream",
     "text": [
      "Epoch: 70/200\n",
      "training classification loss: 0.5598\n",
      "train_auroc: 0.6147\n",
      "val_auroc: 0.6265\n"
     ]
    },
    {
     "name": "stderr",
     "output_type": "stream",
     "text": [
      "| |                                               #| 2000 Elapsed Time: 0:02:09\n"
     ]
    },
    {
     "name": "stdout",
     "output_type": "stream",
     "text": [
      "Epoch: 71/200\n",
      "training classification loss: 0.5606\n",
      "train_auroc: 0.6128\n",
      "val_auroc: 0.6223\n"
     ]
    },
    {
     "name": "stderr",
     "output_type": "stream",
     "text": [
      "| |                                               #| 2000 Elapsed Time: 0:02:09\n"
     ]
    },
    {
     "name": "stdout",
     "output_type": "stream",
     "text": [
      "Epoch: 72/200\n",
      "training classification loss: 0.5591\n",
      "train_auroc: 0.6157\n",
      "val_auroc: 0.6244\n"
     ]
    },
    {
     "name": "stderr",
     "output_type": "stream",
     "text": [
      "| |                                              # | 2000 Elapsed Time: 0:02:09\n"
     ]
    },
    {
     "name": "stdout",
     "output_type": "stream",
     "text": [
      "Epoch: 73/200\n",
      "training classification loss: 0.5600\n",
      "train_auroc: 0.6167\n",
      "val_auroc: 0.6212\n"
     ]
    },
    {
     "name": "stderr",
     "output_type": "stream",
     "text": [
      "| |                                              # | 2000 Elapsed Time: 0:02:09\n"
     ]
    },
    {
     "name": "stdout",
     "output_type": "stream",
     "text": [
      "Epoch: 74/200\n",
      "training classification loss: 0.5601\n",
      "train_auroc: 0.6182\n",
      "val_auroc: 0.6334\n",
      "Model saved.\n"
     ]
    },
    {
     "name": "stderr",
     "output_type": "stream",
     "text": [
      "| |                                              # | 2000 Elapsed Time: 0:02:09\n"
     ]
    },
    {
     "name": "stdout",
     "output_type": "stream",
     "text": [
      "Epoch: 75/200\n",
      "training classification loss: 0.5589\n",
      "train_auroc: 0.6189\n",
      "val_auroc: 0.6328\n"
     ]
    },
    {
     "name": "stderr",
     "output_type": "stream",
     "text": [
      "| |                                          #     | 2000 Elapsed Time: 0:02:09\n"
     ]
    },
    {
     "name": "stdout",
     "output_type": "stream",
     "text": [
      "Epoch: 76/200\n",
      "training classification loss: 0.5576\n",
      "train_auroc: 0.6211\n",
      "val_auroc: 0.6281\n"
     ]
    },
    {
     "name": "stderr",
     "output_type": "stream",
     "text": [
      "| |                                     #          | 2000 Elapsed Time: 0:02:10\n"
     ]
    },
    {
     "name": "stdout",
     "output_type": "stream",
     "text": [
      "Epoch: 77/200\n",
      "training classification loss: 0.5591\n",
      "train_auroc: 0.6190\n",
      "val_auroc: 0.6332\n"
     ]
    },
    {
     "name": "stderr",
     "output_type": "stream",
     "text": [
      "| |                                           #    | 2000 Elapsed Time: 0:02:10\n"
     ]
    },
    {
     "name": "stdout",
     "output_type": "stream",
     "text": [
      "Epoch: 78/200\n",
      "training classification loss: 0.5587\n",
      "train_auroc: 0.6188\n",
      "val_auroc: 0.6307\n"
     ]
    },
    {
     "name": "stderr",
     "output_type": "stream",
     "text": [
      "| |                                         #      | 2000 Elapsed Time: 0:02:10\n"
     ]
    },
    {
     "name": "stdout",
     "output_type": "stream",
     "text": [
      "Epoch: 79/200\n",
      "training classification loss: 0.5578\n",
      "train_auroc: 0.6224\n",
      "val_auroc: 0.6349\n",
      "Model saved.\n"
     ]
    },
    {
     "name": "stderr",
     "output_type": "stream",
     "text": [
      "| |                                             #  | 2000 Elapsed Time: 0:02:09\n"
     ]
    },
    {
     "name": "stdout",
     "output_type": "stream",
     "text": [
      "Epoch: 80/200\n",
      "training classification loss: 0.5578\n",
      "train_auroc: 0.6203\n",
      "val_auroc: 0.6298\n"
     ]
    },
    {
     "name": "stderr",
     "output_type": "stream",
     "text": [
      "| |                                       #        | 2000 Elapsed Time: 0:02:10\n"
     ]
    },
    {
     "name": "stdout",
     "output_type": "stream",
     "text": [
      "Epoch: 81/200\n",
      "training classification loss: 0.5571\n",
      "train_auroc: 0.6209\n",
      "val_auroc: 0.6334\n"
     ]
    },
    {
     "name": "stderr",
     "output_type": "stream",
     "text": [
      "| |                                               #| 2000 Elapsed Time: 0:02:09\n"
     ]
    },
    {
     "name": "stdout",
     "output_type": "stream",
     "text": [
      "Epoch: 82/200\n",
      "training classification loss: 0.5572\n",
      "train_auroc: 0.6225\n",
      "val_auroc: 0.6337\n"
     ]
    },
    {
     "name": "stderr",
     "output_type": "stream",
     "text": [
      "| |                                        #       | 2000 Elapsed Time: 0:02:10\n"
     ]
    },
    {
     "name": "stdout",
     "output_type": "stream",
     "text": [
      "Epoch: 83/200\n",
      "training classification loss: 0.5545\n",
      "train_auroc: 0.6270\n",
      "val_auroc: 0.6436\n",
      "Model saved.\n"
     ]
    },
    {
     "name": "stderr",
     "output_type": "stream",
     "text": [
      "| |                                        #       | 2000 Elapsed Time: 0:02:10\n"
     ]
    },
    {
     "name": "stdout",
     "output_type": "stream",
     "text": [
      "Epoch: 84/200\n",
      "training classification loss: 0.5570\n",
      "train_auroc: 0.6245\n",
      "val_auroc: 0.6413\n"
     ]
    },
    {
     "name": "stderr",
     "output_type": "stream",
     "text": [
      "| |                                               #| 2000 Elapsed Time: 0:02:09\n"
     ]
    },
    {
     "name": "stdout",
     "output_type": "stream",
     "text": [
      "Epoch: 85/200\n",
      "training classification loss: 0.5553\n",
      "train_auroc: 0.6284\n",
      "val_auroc: 0.6462\n",
      "Model saved.\n"
     ]
    },
    {
     "name": "stderr",
     "output_type": "stream",
     "text": [
      "| |                                              # | 2000 Elapsed Time: 0:02:09\n"
     ]
    },
    {
     "name": "stdout",
     "output_type": "stream",
     "text": [
      "Epoch: 86/200\n",
      "training classification loss: 0.5538\n",
      "train_auroc: 0.6311\n",
      "val_auroc: 0.6498\n",
      "Model saved.\n"
     ]
    },
    {
     "name": "stderr",
     "output_type": "stream",
     "text": [
      "| |                                            #   | 2000 Elapsed Time: 0:02:09\n"
     ]
    },
    {
     "name": "stdout",
     "output_type": "stream",
     "text": [
      "Epoch: 87/200\n",
      "training classification loss: 0.5535\n",
      "train_auroc: 0.6326\n",
      "val_auroc: 0.6498\n"
     ]
    },
    {
     "name": "stderr",
     "output_type": "stream",
     "text": [
      "| |                                   #            | 2000 Elapsed Time: 0:02:10\n"
     ]
    },
    {
     "name": "stdout",
     "output_type": "stream",
     "text": [
      "Epoch: 88/200\n",
      "training classification loss: 0.5536\n",
      "train_auroc: 0.6346\n",
      "val_auroc: 0.6483\n"
     ]
    },
    {
     "name": "stderr",
     "output_type": "stream",
     "text": [
      "| |                                               #| 2000 Elapsed Time: 0:02:09\n"
     ]
    },
    {
     "name": "stdout",
     "output_type": "stream",
     "text": [
      "Epoch: 89/200\n",
      "training classification loss: 0.5541\n",
      "train_auroc: 0.6334\n",
      "val_auroc: 0.6544\n",
      "Model saved.\n"
     ]
    },
    {
     "name": "stderr",
     "output_type": "stream",
     "text": [
      "| |                                      #         | 2000 Elapsed Time: 0:02:10\n"
     ]
    },
    {
     "name": "stdout",
     "output_type": "stream",
     "text": [
      "Epoch: 90/200\n",
      "training classification loss: 0.5535\n",
      "train_auroc: 0.6349\n",
      "val_auroc: 0.6569\n",
      "Model saved.\n"
     ]
    },
    {
     "name": "stderr",
     "output_type": "stream",
     "text": [
      "| |                                          #     | 2000 Elapsed Time: 0:02:10\n"
     ]
    },
    {
     "name": "stdout",
     "output_type": "stream",
     "text": [
      "Epoch: 91/200\n",
      "training classification loss: 0.5522\n",
      "train_auroc: 0.6359\n",
      "val_auroc: 0.6518\n"
     ]
    },
    {
     "name": "stderr",
     "output_type": "stream",
     "text": [
      "| |                                               #| 2000 Elapsed Time: 0:02:09\n"
     ]
    },
    {
     "name": "stdout",
     "output_type": "stream",
     "text": [
      "Epoch: 92/200\n",
      "training classification loss: 0.5521\n",
      "train_auroc: 0.6351\n",
      "val_auroc: 0.6542\n"
     ]
    },
    {
     "name": "stderr",
     "output_type": "stream",
     "text": [
      "| |                                               #| 2000 Elapsed Time: 0:02:09\n"
     ]
    },
    {
     "name": "stdout",
     "output_type": "stream",
     "text": [
      "Epoch: 93/200\n",
      "training classification loss: 0.5531\n",
      "train_auroc: 0.6354\n",
      "val_auroc: 0.6523\n"
     ]
    },
    {
     "name": "stderr",
     "output_type": "stream",
     "text": [
      "| |                                         #      | 2000 Elapsed Time: 0:02:10\n"
     ]
    },
    {
     "name": "stdout",
     "output_type": "stream",
     "text": [
      "Epoch: 94/200\n",
      "training classification loss: 0.5497\n",
      "train_auroc: 0.6416\n",
      "val_auroc: 0.6591\n",
      "Model saved.\n"
     ]
    },
    {
     "name": "stderr",
     "output_type": "stream",
     "text": [
      "| |                                          #     | 2000 Elapsed Time: 0:02:10\n"
     ]
    },
    {
     "name": "stdout",
     "output_type": "stream",
     "text": [
      "Epoch: 95/200\n",
      "training classification loss: 0.5505\n",
      "train_auroc: 0.6410\n",
      "val_auroc: 0.6571\n"
     ]
    },
    {
     "name": "stderr",
     "output_type": "stream",
     "text": [
      "| |                                       #        | 2000 Elapsed Time: 0:02:10\n"
     ]
    },
    {
     "name": "stdout",
     "output_type": "stream",
     "text": [
      "Epoch: 96/200\n",
      "training classification loss: 0.5495\n",
      "train_auroc: 0.6432\n",
      "val_auroc: 0.6547\n"
     ]
    },
    {
     "name": "stderr",
     "output_type": "stream",
     "text": [
      "| |                                       #        | 2000 Elapsed Time: 0:02:10\n"
     ]
    },
    {
     "name": "stdout",
     "output_type": "stream",
     "text": [
      "Epoch: 97/200\n",
      "training classification loss: 0.5494\n",
      "train_auroc: 0.6433\n",
      "val_auroc: 0.6572\n"
     ]
    },
    {
     "name": "stderr",
     "output_type": "stream",
     "text": [
      "| |                                            #   | 2000 Elapsed Time: 0:02:09\n"
     ]
    },
    {
     "name": "stdout",
     "output_type": "stream",
     "text": [
      "Epoch: 98/200\n",
      "training classification loss: 0.5496\n",
      "train_auroc: 0.6447\n",
      "val_auroc: 0.6609\n",
      "Model saved.\n"
     ]
    },
    {
     "name": "stderr",
     "output_type": "stream",
     "text": [
      "| |                                         #      | 2000 Elapsed Time: 0:02:08\n"
     ]
    },
    {
     "name": "stdout",
     "output_type": "stream",
     "text": [
      "Epoch: 99/200\n",
      "training classification loss: 0.5493\n",
      "train_auroc: 0.6443\n",
      "val_auroc: 0.6511\n"
     ]
    },
    {
     "name": "stderr",
     "output_type": "stream",
     "text": [
      "| |                                            #   | 2000 Elapsed Time: 0:02:09\n"
     ]
    },
    {
     "name": "stdout",
     "output_type": "stream",
     "text": [
      "Epoch: 100/200\n",
      "training classification loss: 0.5465\n",
      "train_auroc: 0.6493\n",
      "val_auroc: 0.6543\n"
     ]
    },
    {
     "name": "stderr",
     "output_type": "stream",
     "text": [
      "| |                                             #  | 2000 Elapsed Time: 0:02:09\n"
     ]
    },
    {
     "name": "stdout",
     "output_type": "stream",
     "text": [
      "Epoch: 101/200\n",
      "training classification loss: 0.5481\n",
      "train_auroc: 0.6477\n",
      "val_auroc: 0.6656\n",
      "Model saved.\n"
     ]
    },
    {
     "name": "stderr",
     "output_type": "stream",
     "text": [
      "| |                                       #        | 2000 Elapsed Time: 0:02:10\n"
     ]
    },
    {
     "name": "stdout",
     "output_type": "stream",
     "text": [
      "Epoch: 102/200\n",
      "training classification loss: 0.5444\n",
      "train_auroc: 0.6552\n",
      "val_auroc: 0.6705\n",
      "Model saved.\n"
     ]
    },
    {
     "name": "stderr",
     "output_type": "stream",
     "text": [
      "| |                                               #| 2000 Elapsed Time: 0:02:09\n"
     ]
    },
    {
     "name": "stdout",
     "output_type": "stream",
     "text": [
      "Epoch: 103/200\n",
      "training classification loss: 0.5448\n",
      "train_auroc: 0.6538\n",
      "val_auroc: 0.6638\n"
     ]
    },
    {
     "name": "stderr",
     "output_type": "stream",
     "text": [
      "| |                                            #   | 2000 Elapsed Time: 0:02:09\n"
     ]
    },
    {
     "name": "stdout",
     "output_type": "stream",
     "text": [
      "Epoch: 104/200\n",
      "training classification loss: 0.5459\n",
      "train_auroc: 0.6535\n",
      "val_auroc: 0.6728\n",
      "Model saved.\n"
     ]
    },
    {
     "name": "stderr",
     "output_type": "stream",
     "text": [
      "| |                                            #   | 2000 Elapsed Time: 0:02:09\n"
     ]
    },
    {
     "name": "stdout",
     "output_type": "stream",
     "text": [
      "Epoch: 105/200\n",
      "training classification loss: 0.5439\n",
      "train_auroc: 0.6567\n",
      "val_auroc: 0.6694\n"
     ]
    },
    {
     "name": "stderr",
     "output_type": "stream",
     "text": [
      "| |                                         #      | 2000 Elapsed Time: 0:02:10\n"
     ]
    },
    {
     "name": "stdout",
     "output_type": "stream",
     "text": [
      "Epoch: 106/200\n",
      "training classification loss: 0.5433\n",
      "train_auroc: 0.6581\n",
      "val_auroc: 0.6737\n",
      "Model saved.\n"
     ]
    },
    {
     "name": "stderr",
     "output_type": "stream",
     "text": [
      "| |                                       #        | 2000 Elapsed Time: 0:02:10\n"
     ]
    },
    {
     "name": "stdout",
     "output_type": "stream",
     "text": [
      "Epoch: 107/200\n",
      "training classification loss: 0.5417\n",
      "train_auroc: 0.6603\n",
      "val_auroc: 0.6697\n"
     ]
    },
    {
     "name": "stderr",
     "output_type": "stream",
     "text": [
      "| |                                               #| 2000 Elapsed Time: 0:02:09\n"
     ]
    },
    {
     "name": "stdout",
     "output_type": "stream",
     "text": [
      "Epoch: 108/200\n",
      "training classification loss: 0.5410\n",
      "train_auroc: 0.6625\n",
      "val_auroc: 0.6776\n",
      "Model saved.\n"
     ]
    },
    {
     "name": "stderr",
     "output_type": "stream",
     "text": [
      "| |                                          #     | 2000 Elapsed Time: 0:02:10\n"
     ]
    },
    {
     "name": "stdout",
     "output_type": "stream",
     "text": [
      "Epoch: 109/200\n",
      "training classification loss: 0.5400\n",
      "train_auroc: 0.6643\n",
      "val_auroc: 0.6774\n"
     ]
    },
    {
     "name": "stderr",
     "output_type": "stream",
     "text": [
      "| |                                        #       | 2000 Elapsed Time: 0:02:10\n"
     ]
    },
    {
     "name": "stdout",
     "output_type": "stream",
     "text": [
      "Epoch: 110/200\n",
      "training classification loss: 0.5393\n",
      "train_auroc: 0.6665\n",
      "val_auroc: 0.6810\n",
      "Model saved.\n"
     ]
    },
    {
     "name": "stderr",
     "output_type": "stream",
     "text": [
      "| |                                           #    | 2000 Elapsed Time: 0:02:10\n"
     ]
    },
    {
     "name": "stdout",
     "output_type": "stream",
     "text": [
      "Epoch: 111/200\n",
      "training classification loss: 0.5380\n",
      "train_auroc: 0.6695\n",
      "val_auroc: 0.6747\n"
     ]
    },
    {
     "name": "stderr",
     "output_type": "stream",
     "text": [
      "| |                                     #          | 2000 Elapsed Time: 0:02:10\n"
     ]
    },
    {
     "name": "stdout",
     "output_type": "stream",
     "text": [
      "Epoch: 112/200\n",
      "training classification loss: 0.5388\n",
      "train_auroc: 0.6671\n",
      "val_auroc: 0.6810\n"
     ]
    },
    {
     "name": "stderr",
     "output_type": "stream",
     "text": [
      "| |                                           #    | 2000 Elapsed Time: 0:02:10\n"
     ]
    },
    {
     "name": "stdout",
     "output_type": "stream",
     "text": [
      "Epoch: 113/200\n",
      "training classification loss: 0.5384\n",
      "train_auroc: 0.6696\n",
      "val_auroc: 0.6803\n"
     ]
    },
    {
     "name": "stderr",
     "output_type": "stream",
     "text": [
      "| |                                            #   | 2000 Elapsed Time: 0:02:09\n"
     ]
    },
    {
     "name": "stdout",
     "output_type": "stream",
     "text": [
      "Epoch: 114/200\n",
      "training classification loss: 0.5362\n",
      "train_auroc: 0.6719\n",
      "val_auroc: 0.6875\n",
      "Model saved.\n"
     ]
    },
    {
     "name": "stderr",
     "output_type": "stream",
     "text": [
      "| |                                           #    | 2000 Elapsed Time: 0:02:10\n"
     ]
    },
    {
     "name": "stdout",
     "output_type": "stream",
     "text": [
      "Epoch: 115/200\n",
      "training classification loss: 0.5353\n",
      "train_auroc: 0.6720\n",
      "val_auroc: 0.6893\n",
      "Model saved.\n"
     ]
    },
    {
     "name": "stderr",
     "output_type": "stream",
     "text": [
      "| |                                        #       | 2000 Elapsed Time: 0:02:10\n"
     ]
    },
    {
     "name": "stdout",
     "output_type": "stream",
     "text": [
      "Epoch: 116/200\n",
      "training classification loss: 0.5349\n",
      "train_auroc: 0.6749\n",
      "val_auroc: 0.6896\n",
      "Model saved.\n"
     ]
    },
    {
     "name": "stderr",
     "output_type": "stream",
     "text": [
      "| |                                      #         | 2000 Elapsed Time: 0:02:10\n"
     ]
    },
    {
     "name": "stdout",
     "output_type": "stream",
     "text": [
      "Epoch: 117/200\n",
      "training classification loss: 0.5337\n",
      "train_auroc: 0.6775\n",
      "val_auroc: 0.6871\n"
     ]
    },
    {
     "name": "stderr",
     "output_type": "stream",
     "text": [
      "| |                                             #  | 2000 Elapsed Time: 0:02:09\n"
     ]
    },
    {
     "name": "stdout",
     "output_type": "stream",
     "text": [
      "Epoch: 118/200\n",
      "training classification loss: 0.5340\n",
      "train_auroc: 0.6789\n",
      "val_auroc: 0.6847\n"
     ]
    },
    {
     "name": "stderr",
     "output_type": "stream",
     "text": [
      "| |                                #               | 2000 Elapsed Time: 0:02:11\n"
     ]
    },
    {
     "name": "stdout",
     "output_type": "stream",
     "text": [
      "Epoch: 119/200\n",
      "training classification loss: 0.5332\n",
      "train_auroc: 0.6771\n",
      "val_auroc: 0.6885\n"
     ]
    },
    {
     "name": "stderr",
     "output_type": "stream",
     "text": [
      "| |                                            #   | 2000 Elapsed Time: 0:02:09\n"
     ]
    },
    {
     "name": "stdout",
     "output_type": "stream",
     "text": [
      "Epoch: 120/200\n",
      "training classification loss: 0.5318\n",
      "train_auroc: 0.6805\n",
      "val_auroc: 0.6854\n"
     ]
    },
    {
     "name": "stderr",
     "output_type": "stream",
     "text": [
      "| |                                      #         | 2000 Elapsed Time: 0:02:10\n"
     ]
    },
    {
     "name": "stdout",
     "output_type": "stream",
     "text": [
      "Epoch: 121/200\n",
      "training classification loss: 0.5293\n",
      "train_auroc: 0.6837\n",
      "val_auroc: 0.6895\n"
     ]
    },
    {
     "name": "stderr",
     "output_type": "stream",
     "text": [
      "| |                                 #              | 2000 Elapsed Time: 0:02:11\n"
     ]
    },
    {
     "name": "stdout",
     "output_type": "stream",
     "text": [
      "Epoch: 122/200\n",
      "training classification loss: 0.5302\n",
      "train_auroc: 0.6846\n",
      "val_auroc: 0.6935\n",
      "Model saved.\n"
     ]
    },
    {
     "name": "stderr",
     "output_type": "stream",
     "text": [
      "| |                                         #      | 2000 Elapsed Time: 0:02:10\n"
     ]
    },
    {
     "name": "stdout",
     "output_type": "stream",
     "text": [
      "Epoch: 123/200\n",
      "training classification loss: 0.5292\n",
      "train_auroc: 0.6849\n",
      "val_auroc: 0.6894\n"
     ]
    },
    {
     "name": "stderr",
     "output_type": "stream",
     "text": [
      "| |                                          #     | 2000 Elapsed Time: 0:02:10\n"
     ]
    },
    {
     "name": "stdout",
     "output_type": "stream",
     "text": [
      "Epoch: 124/200\n",
      "training classification loss: 0.5281\n",
      "train_auroc: 0.6871\n",
      "val_auroc: 0.6959\n",
      "Model saved.\n"
     ]
    },
    {
     "name": "stderr",
     "output_type": "stream",
     "text": [
      "| |                                           #    | 2000 Elapsed Time: 0:02:10\n"
     ]
    },
    {
     "name": "stdout",
     "output_type": "stream",
     "text": [
      "Epoch: 125/200\n",
      "training classification loss: 0.5296\n",
      "train_auroc: 0.6828\n",
      "val_auroc: 0.6939\n"
     ]
    },
    {
     "name": "stderr",
     "output_type": "stream",
     "text": [
      "| |                                            #   | 2000 Elapsed Time: 0:02:09\n"
     ]
    },
    {
     "name": "stdout",
     "output_type": "stream",
     "text": [
      "Epoch: 126/200\n",
      "training classification loss: 0.5269\n",
      "train_auroc: 0.6884\n",
      "val_auroc: 0.6932\n"
     ]
    },
    {
     "name": "stderr",
     "output_type": "stream",
     "text": [
      "| |                                     #          | 2000 Elapsed Time: 0:02:08\n"
     ]
    },
    {
     "name": "stdout",
     "output_type": "stream",
     "text": [
      "Epoch: 127/200\n",
      "training classification loss: 0.5261\n",
      "train_auroc: 0.6891\n",
      "val_auroc: 0.6943\n"
     ]
    },
    {
     "name": "stderr",
     "output_type": "stream",
     "text": [
      "| |                                            #   | 2000 Elapsed Time: 0:02:09\n"
     ]
    },
    {
     "name": "stdout",
     "output_type": "stream",
     "text": [
      "Epoch: 128/200\n",
      "training classification loss: 0.5255\n",
      "train_auroc: 0.6905\n",
      "val_auroc: 0.6968\n",
      "Model saved.\n"
     ]
    },
    {
     "name": "stderr",
     "output_type": "stream",
     "text": [
      "| |                                               #| 2000 Elapsed Time: 0:02:09\n"
     ]
    },
    {
     "name": "stdout",
     "output_type": "stream",
     "text": [
      "Epoch: 129/200\n",
      "training classification loss: 0.5232\n",
      "train_auroc: 0.6930\n",
      "val_auroc: 0.6939\n"
     ]
    },
    {
     "name": "stderr",
     "output_type": "stream",
     "text": [
      "| |                                       #        | 2000 Elapsed Time: 0:02:10\n"
     ]
    },
    {
     "name": "stdout",
     "output_type": "stream",
     "text": [
      "Epoch: 130/200\n",
      "training classification loss: 0.5231\n",
      "train_auroc: 0.6938\n",
      "val_auroc: 0.7012\n",
      "Model saved.\n"
     ]
    },
    {
     "name": "stderr",
     "output_type": "stream",
     "text": [
      "| |                                              # | 2000 Elapsed Time: 0:02:09\n"
     ]
    },
    {
     "name": "stdout",
     "output_type": "stream",
     "text": [
      "Epoch: 131/200\n",
      "training classification loss: 0.5219\n",
      "train_auroc: 0.6966\n",
      "val_auroc: 0.6927\n"
     ]
    },
    {
     "name": "stderr",
     "output_type": "stream",
     "text": [
      "| |                                              # | 2000 Elapsed Time: 0:02:09\n"
     ]
    },
    {
     "name": "stdout",
     "output_type": "stream",
     "text": [
      "Epoch: 132/200\n",
      "training classification loss: 0.5212\n",
      "train_auroc: 0.6974\n",
      "val_auroc: 0.7036\n",
      "Model saved.\n"
     ]
    },
    {
     "name": "stderr",
     "output_type": "stream",
     "text": [
      "| |                                           #    | 2000 Elapsed Time: 0:02:10\n"
     ]
    },
    {
     "name": "stdout",
     "output_type": "stream",
     "text": [
      "Epoch: 133/200\n",
      "training classification loss: 0.5215\n",
      "train_auroc: 0.6933\n",
      "val_auroc: 0.7119\n",
      "Model saved.\n"
     ]
    },
    {
     "name": "stderr",
     "output_type": "stream",
     "text": [
      "| |                                       #        | 2000 Elapsed Time: 0:02:10\n"
     ]
    },
    {
     "name": "stdout",
     "output_type": "stream",
     "text": [
      "Epoch: 134/200\n",
      "training classification loss: 0.5195\n",
      "train_auroc: 0.6989\n",
      "val_auroc: 0.7088\n"
     ]
    },
    {
     "name": "stderr",
     "output_type": "stream",
     "text": [
      "| |                                            #   | 2000 Elapsed Time: 0:02:09\n"
     ]
    },
    {
     "name": "stdout",
     "output_type": "stream",
     "text": [
      "Epoch: 135/200\n",
      "training classification loss: 0.5171\n",
      "train_auroc: 0.7017\n",
      "val_auroc: 0.7096\n"
     ]
    },
    {
     "name": "stderr",
     "output_type": "stream",
     "text": [
      "| |                                    #           | 2000 Elapsed Time: 0:02:10\n"
     ]
    },
    {
     "name": "stdout",
     "output_type": "stream",
     "text": [
      "Epoch: 136/200\n",
      "training classification loss: 0.5178\n",
      "train_auroc: 0.7000\n",
      "val_auroc: 0.7073\n"
     ]
    },
    {
     "name": "stderr",
     "output_type": "stream",
     "text": [
      "| |                                           #    | 2000 Elapsed Time: 0:02:10\n"
     ]
    },
    {
     "name": "stdout",
     "output_type": "stream",
     "text": [
      "Epoch: 137/200\n",
      "training classification loss: 0.5165\n",
      "train_auroc: 0.7047\n",
      "val_auroc: 0.7104\n"
     ]
    },
    {
     "name": "stderr",
     "output_type": "stream",
     "text": [
      "| |                                      #         | 2000 Elapsed Time: 0:02:10\n"
     ]
    },
    {
     "name": "stdout",
     "output_type": "stream",
     "text": [
      "Epoch: 138/200\n",
      "training classification loss: 0.5165\n",
      "train_auroc: 0.7033\n",
      "val_auroc: 0.7055\n"
     ]
    },
    {
     "name": "stderr",
     "output_type": "stream",
     "text": [
      "| |                                               #| 2000 Elapsed Time: 0:02:09\n"
     ]
    },
    {
     "name": "stdout",
     "output_type": "stream",
     "text": [
      "Epoch: 139/200\n",
      "training classification loss: 0.5171\n",
      "train_auroc: 0.7031\n",
      "val_auroc: 0.7026\n"
     ]
    },
    {
     "name": "stderr",
     "output_type": "stream",
     "text": [
      "| |                                 #              | 2000 Elapsed Time: 0:02:11\n"
     ]
    },
    {
     "name": "stdout",
     "output_type": "stream",
     "text": [
      "Epoch: 140/200\n",
      "training classification loss: 0.5161\n",
      "train_auroc: 0.7031\n",
      "val_auroc: 0.7044\n"
     ]
    },
    {
     "name": "stderr",
     "output_type": "stream",
     "text": [
      "| |                                       #        | 2000 Elapsed Time: 0:02:10\n"
     ]
    },
    {
     "name": "stdout",
     "output_type": "stream",
     "text": [
      "Epoch: 141/200\n",
      "training classification loss: 0.5154\n",
      "train_auroc: 0.7046\n",
      "val_auroc: 0.7116\n"
     ]
    },
    {
     "name": "stderr",
     "output_type": "stream",
     "text": [
      "| |                              #                 | 2000 Elapsed Time: 0:02:11\n"
     ]
    },
    {
     "name": "stdout",
     "output_type": "stream",
     "text": [
      "Epoch: 142/200\n",
      "training classification loss: 0.5135\n",
      "train_auroc: 0.7082\n",
      "val_auroc: 0.7141\n",
      "Model saved.\n"
     ]
    },
    {
     "name": "stderr",
     "output_type": "stream",
     "text": [
      "| |                                       #        | 2000 Elapsed Time: 0:02:10\n"
     ]
    },
    {
     "name": "stdout",
     "output_type": "stream",
     "text": [
      "Epoch: 143/200\n",
      "training classification loss: 0.5138\n",
      "train_auroc: 0.7081\n",
      "val_auroc: 0.7114\n"
     ]
    },
    {
     "name": "stderr",
     "output_type": "stream",
     "text": [
      "| |                                               #| 2000 Elapsed Time: 0:02:09\n"
     ]
    },
    {
     "name": "stdout",
     "output_type": "stream",
     "text": [
      "Epoch: 144/200\n",
      "training classification loss: 0.5121\n",
      "train_auroc: 0.7106\n",
      "val_auroc: 0.7113\n"
     ]
    },
    {
     "name": "stderr",
     "output_type": "stream",
     "text": [
      "| |                                          #     | 2000 Elapsed Time: 0:02:09\n"
     ]
    },
    {
     "name": "stdout",
     "output_type": "stream",
     "text": [
      "Epoch: 145/200\n",
      "training classification loss: 0.5106\n",
      "train_auroc: 0.7109\n",
      "val_auroc: 0.7096\n"
     ]
    },
    {
     "name": "stderr",
     "output_type": "stream",
     "text": [
      "| |                                              # | 2000 Elapsed Time: 0:02:09\n"
     ]
    },
    {
     "name": "stdout",
     "output_type": "stream",
     "text": [
      "Epoch: 146/200\n",
      "training classification loss: 0.5118\n",
      "train_auroc: 0.7123\n",
      "val_auroc: 0.7100\n"
     ]
    },
    {
     "name": "stderr",
     "output_type": "stream",
     "text": [
      "| |                                         #      | 2000 Elapsed Time: 0:02:10\n"
     ]
    },
    {
     "name": "stdout",
     "output_type": "stream",
     "text": [
      "Epoch: 147/200\n",
      "training classification loss: 0.5117\n",
      "train_auroc: 0.7122\n",
      "val_auroc: 0.7218\n",
      "Model saved.\n"
     ]
    },
    {
     "name": "stderr",
     "output_type": "stream",
     "text": [
      "| |                                       #        | 2000 Elapsed Time: 0:02:10\n"
     ]
    },
    {
     "name": "stdout",
     "output_type": "stream",
     "text": [
      "Epoch: 148/200\n",
      "training classification loss: 0.5102\n",
      "train_auroc: 0.7135\n",
      "val_auroc: 0.7115\n"
     ]
    },
    {
     "name": "stderr",
     "output_type": "stream",
     "text": [
      "| |                                              # | 2000 Elapsed Time: 0:02:09\n"
     ]
    },
    {
     "name": "stdout",
     "output_type": "stream",
     "text": [
      "Epoch: 149/200\n",
      "training classification loss: 0.5106\n",
      "train_auroc: 0.7121\n",
      "val_auroc: 0.7110\n"
     ]
    },
    {
     "name": "stderr",
     "output_type": "stream",
     "text": [
      "| |                                               #| 2000 Elapsed Time: 0:02:09\n"
     ]
    },
    {
     "name": "stdout",
     "output_type": "stream",
     "text": [
      "Epoch: 150/200\n",
      "training classification loss: 0.5093\n",
      "train_auroc: 0.7136\n",
      "val_auroc: 0.7231\n",
      "Model saved.\n"
     ]
    },
    {
     "name": "stderr",
     "output_type": "stream",
     "text": [
      "| |                                          #     | 2000 Elapsed Time: 0:02:10\n"
     ]
    },
    {
     "name": "stdout",
     "output_type": "stream",
     "text": [
      "Epoch: 151/200\n",
      "training classification loss: 0.5086\n",
      "train_auroc: 0.7129\n",
      "val_auroc: 0.7197\n"
     ]
    },
    {
     "name": "stderr",
     "output_type": "stream",
     "text": [
      "| |                                       #        | 2000 Elapsed Time: 0:02:10\n"
     ]
    },
    {
     "name": "stdout",
     "output_type": "stream",
     "text": [
      "Epoch: 152/200\n",
      "training classification loss: 0.5078\n",
      "train_auroc: 0.7157\n",
      "val_auroc: 0.7222\n"
     ]
    },
    {
     "name": "stderr",
     "output_type": "stream",
     "text": [
      "| |                                              # | 2000 Elapsed Time: 0:02:09\n"
     ]
    },
    {
     "name": "stdout",
     "output_type": "stream",
     "text": [
      "Epoch: 153/200\n",
      "training classification loss: 0.5080\n",
      "train_auroc: 0.7170\n",
      "val_auroc: 0.7172\n"
     ]
    },
    {
     "name": "stderr",
     "output_type": "stream",
     "text": [
      "| |                                            #   | 2000 Elapsed Time: 0:02:09\n"
     ]
    },
    {
     "name": "stdout",
     "output_type": "stream",
     "text": [
      "Epoch: 154/200\n",
      "training classification loss: 0.5080\n",
      "train_auroc: 0.7160\n",
      "val_auroc: 0.7266\n",
      "Model saved.\n"
     ]
    },
    {
     "name": "stderr",
     "output_type": "stream",
     "text": [
      "| |                                          #     | 2000 Elapsed Time: 0:02:10\n"
     ]
    },
    {
     "name": "stdout",
     "output_type": "stream",
     "text": [
      "Epoch: 155/200\n",
      "training classification loss: 0.5074\n",
      "train_auroc: 0.7192\n",
      "val_auroc: 0.7126\n"
     ]
    },
    {
     "name": "stderr",
     "output_type": "stream",
     "text": [
      "| |                                             #  | 2000 Elapsed Time: 0:02:09\n"
     ]
    },
    {
     "name": "stdout",
     "output_type": "stream",
     "text": [
      "Epoch: 156/200\n",
      "training classification loss: 0.5044\n",
      "train_auroc: 0.7216\n",
      "val_auroc: 0.7240\n"
     ]
    },
    {
     "name": "stderr",
     "output_type": "stream",
     "text": [
      "| |                                              # | 2000 Elapsed Time: 0:02:09\n"
     ]
    },
    {
     "name": "stdout",
     "output_type": "stream",
     "text": [
      "Epoch: 157/200\n",
      "training classification loss: 0.5046\n",
      "train_auroc: 0.7218\n",
      "val_auroc: 0.7235\n"
     ]
    },
    {
     "name": "stderr",
     "output_type": "stream",
     "text": [
      "| |                                        #       | 2000 Elapsed Time: 0:02:10\n"
     ]
    },
    {
     "name": "stdout",
     "output_type": "stream",
     "text": [
      "Epoch: 158/200\n",
      "training classification loss: 0.5033\n",
      "train_auroc: 0.7244\n",
      "val_auroc: 0.7278\n",
      "Model saved.\n"
     ]
    },
    {
     "name": "stderr",
     "output_type": "stream",
     "text": [
      "| |                                            #   | 2000 Elapsed Time: 0:02:09\n"
     ]
    },
    {
     "name": "stdout",
     "output_type": "stream",
     "text": [
      "Epoch: 159/200\n",
      "training classification loss: 0.5055\n",
      "train_auroc: 0.7216\n",
      "val_auroc: 0.7217\n"
     ]
    },
    {
     "name": "stderr",
     "output_type": "stream",
     "text": [
      "| |                                       #        | 2000 Elapsed Time: 0:02:10\n"
     ]
    },
    {
     "name": "stdout",
     "output_type": "stream",
     "text": [
      "Epoch: 160/200\n",
      "training classification loss: 0.5030\n",
      "train_auroc: 0.7239\n",
      "val_auroc: 0.7254\n"
     ]
    },
    {
     "name": "stderr",
     "output_type": "stream",
     "text": [
      "| |                                     #          | 2000 Elapsed Time: 0:02:10\n"
     ]
    },
    {
     "name": "stdout",
     "output_type": "stream",
     "text": [
      "Epoch: 161/200\n",
      "training classification loss: 0.5022\n",
      "train_auroc: 0.7247\n",
      "val_auroc: 0.7260\n"
     ]
    },
    {
     "name": "stderr",
     "output_type": "stream",
     "text": [
      "| |                                   #            | 2000 Elapsed Time: 0:02:10\n"
     ]
    },
    {
     "name": "stdout",
     "output_type": "stream",
     "text": [
      "Epoch: 162/200\n",
      "training classification loss: 0.5025\n",
      "train_auroc: 0.7252\n",
      "val_auroc: 0.7273\n"
     ]
    },
    {
     "name": "stderr",
     "output_type": "stream",
     "text": [
      "| |                                       #        | 2000 Elapsed Time: 0:02:10\n"
     ]
    },
    {
     "name": "stdout",
     "output_type": "stream",
     "text": [
      "Epoch: 163/200\n",
      "training classification loss: 0.5023\n",
      "train_auroc: 0.7247\n",
      "val_auroc: 0.7189\n"
     ]
    },
    {
     "name": "stderr",
     "output_type": "stream",
     "text": [
      "| |                                           #    | 2000 Elapsed Time: 0:02:09\n"
     ]
    },
    {
     "name": "stdout",
     "output_type": "stream",
     "text": [
      "Epoch: 164/200\n",
      "training classification loss: 0.5016\n",
      "train_auroc: 0.7246\n",
      "val_auroc: 0.7287\n",
      "Model saved.\n"
     ]
    },
    {
     "name": "stderr",
     "output_type": "stream",
     "text": [
      "| |                                            #   | 2000 Elapsed Time: 0:02:09\n"
     ]
    },
    {
     "name": "stdout",
     "output_type": "stream",
     "text": [
      "Epoch: 165/200\n",
      "training classification loss: 0.5022\n",
      "train_auroc: 0.7266\n",
      "val_auroc: 0.7276\n"
     ]
    },
    {
     "name": "stderr",
     "output_type": "stream",
     "text": [
      "| |                                        #       | 2000 Elapsed Time: 0:02:10\n"
     ]
    },
    {
     "name": "stdout",
     "output_type": "stream",
     "text": [
      "Epoch: 166/200\n",
      "training classification loss: 0.5021\n",
      "train_auroc: 0.7258\n",
      "val_auroc: 0.7314\n",
      "Model saved.\n"
     ]
    },
    {
     "name": "stderr",
     "output_type": "stream",
     "text": [
      "| |                                              # | 2000 Elapsed Time: 0:02:09\n"
     ]
    },
    {
     "name": "stdout",
     "output_type": "stream",
     "text": [
      "Epoch: 167/200\n",
      "training classification loss: 0.5000\n",
      "train_auroc: 0.7284\n",
      "val_auroc: 0.7294\n"
     ]
    },
    {
     "name": "stderr",
     "output_type": "stream",
     "text": [
      "| |                                #               | 2000 Elapsed Time: 0:02:11\n"
     ]
    },
    {
     "name": "stdout",
     "output_type": "stream",
     "text": [
      "Epoch: 168/200\n",
      "training classification loss: 0.4986\n",
      "train_auroc: 0.7299\n",
      "val_auroc: 0.7289\n"
     ]
    },
    {
     "name": "stderr",
     "output_type": "stream",
     "text": [
      "| |                                        #       | 2000 Elapsed Time: 0:02:10\n"
     ]
    },
    {
     "name": "stdout",
     "output_type": "stream",
     "text": [
      "Epoch: 169/200\n",
      "training classification loss: 0.4982\n",
      "train_auroc: 0.7294\n",
      "val_auroc: 0.7318\n",
      "Model saved.\n"
     ]
    },
    {
     "name": "stderr",
     "output_type": "stream",
     "text": [
      "| |                                              # | 2000 Elapsed Time: 0:02:09\n"
     ]
    },
    {
     "name": "stdout",
     "output_type": "stream",
     "text": [
      "Epoch: 170/200\n",
      "training classification loss: 0.4985\n",
      "train_auroc: 0.7316\n",
      "val_auroc: 0.7221\n"
     ]
    },
    {
     "name": "stderr",
     "output_type": "stream",
     "text": [
      "| |                                           #    | 2000 Elapsed Time: 0:02:10\n"
     ]
    },
    {
     "name": "stdout",
     "output_type": "stream",
     "text": [
      "Epoch: 171/200\n",
      "training classification loss: 0.4972\n",
      "train_auroc: 0.7334\n",
      "val_auroc: 0.7355\n",
      "Model saved.\n"
     ]
    },
    {
     "name": "stderr",
     "output_type": "stream",
     "text": [
      "| |                                   #            | 2000 Elapsed Time: 0:02:10\n"
     ]
    },
    {
     "name": "stdout",
     "output_type": "stream",
     "text": [
      "Epoch: 172/200\n",
      "training classification loss: 0.4960\n",
      "train_auroc: 0.7327\n",
      "val_auroc: 0.7359\n",
      "Model saved.\n"
     ]
    },
    {
     "name": "stderr",
     "output_type": "stream",
     "text": [
      "| |                                            #   | 2000 Elapsed Time: 0:02:09\n"
     ]
    },
    {
     "name": "stdout",
     "output_type": "stream",
     "text": [
      "Epoch: 173/200\n",
      "training classification loss: 0.4964\n",
      "train_auroc: 0.7344\n",
      "val_auroc: 0.7350\n"
     ]
    },
    {
     "name": "stderr",
     "output_type": "stream",
     "text": [
      "| |                                        #       | 2000 Elapsed Time: 0:02:10\n"
     ]
    },
    {
     "name": "stdout",
     "output_type": "stream",
     "text": [
      "Epoch: 174/200\n",
      "training classification loss: 0.4969\n",
      "train_auroc: 0.7320\n",
      "val_auroc: 0.7341\n"
     ]
    },
    {
     "name": "stderr",
     "output_type": "stream",
     "text": [
      "| |                                      #         | 2000 Elapsed Time: 0:02:10\n"
     ]
    },
    {
     "name": "stdout",
     "output_type": "stream",
     "text": [
      "Epoch: 175/200\n",
      "training classification loss: 0.4954\n",
      "train_auroc: 0.7347\n",
      "val_auroc: 0.7347\n"
     ]
    },
    {
     "name": "stderr",
     "output_type": "stream",
     "text": [
      "| |                                           #    | 2000 Elapsed Time: 0:02:10\n"
     ]
    },
    {
     "name": "stdout",
     "output_type": "stream",
     "text": [
      "Epoch: 176/200\n",
      "training classification loss: 0.4969\n",
      "train_auroc: 0.7317\n",
      "val_auroc: 0.7337\n"
     ]
    },
    {
     "name": "stderr",
     "output_type": "stream",
     "text": [
      "| |                                             #  | 2000 Elapsed Time: 0:02:09\n"
     ]
    },
    {
     "name": "stdout",
     "output_type": "stream",
     "text": [
      "Epoch: 177/200\n",
      "training classification loss: 0.4973\n",
      "train_auroc: 0.7333\n",
      "val_auroc: 0.7368\n",
      "Model saved.\n"
     ]
    },
    {
     "name": "stderr",
     "output_type": "stream",
     "text": [
      "| |                                              # | 2000 Elapsed Time: 0:02:09\n"
     ]
    },
    {
     "name": "stdout",
     "output_type": "stream",
     "text": [
      "Epoch: 178/200\n",
      "training classification loss: 0.4953\n",
      "train_auroc: 0.7353\n",
      "val_auroc: 0.7365\n"
     ]
    },
    {
     "name": "stderr",
     "output_type": "stream",
     "text": [
      "| |                                         #      | 2000 Elapsed Time: 0:02:10\n"
     ]
    },
    {
     "name": "stdout",
     "output_type": "stream",
     "text": [
      "Epoch: 179/200\n",
      "training classification loss: 0.4941\n",
      "train_auroc: 0.7368\n",
      "val_auroc: 0.7379\n",
      "Model saved.\n"
     ]
    },
    {
     "name": "stderr",
     "output_type": "stream",
     "text": [
      "| |                                          #     | 2000 Elapsed Time: 0:02:10\n"
     ]
    },
    {
     "name": "stdout",
     "output_type": "stream",
     "text": [
      "Epoch: 180/200\n",
      "training classification loss: 0.4936\n",
      "train_auroc: 0.7383\n",
      "val_auroc: 0.7383\n",
      "Model saved.\n"
     ]
    },
    {
     "name": "stderr",
     "output_type": "stream",
     "text": [
      "| |                                          #     | 2000 Elapsed Time: 0:02:10\n"
     ]
    },
    {
     "name": "stdout",
     "output_type": "stream",
     "text": [
      "Epoch: 181/200\n",
      "training classification loss: 0.4931\n",
      "train_auroc: 0.7387\n",
      "val_auroc: 0.7341\n"
     ]
    },
    {
     "name": "stderr",
     "output_type": "stream",
     "text": [
      "| |                                          #     | 2000 Elapsed Time: 0:02:09\n"
     ]
    },
    {
     "name": "stdout",
     "output_type": "stream",
     "text": [
      "Epoch: 182/200\n",
      "training classification loss: 0.4913\n",
      "train_auroc: 0.7411\n",
      "val_auroc: 0.7375\n"
     ]
    },
    {
     "name": "stderr",
     "output_type": "stream",
     "text": [
      "| |                                            #   | 2000 Elapsed Time: 0:02:09\n"
     ]
    },
    {
     "name": "stdout",
     "output_type": "stream",
     "text": [
      "Epoch: 183/200\n",
      "training classification loss: 0.4920\n",
      "train_auroc: 0.7408\n",
      "val_auroc: 0.7367\n"
     ]
    },
    {
     "name": "stderr",
     "output_type": "stream",
     "text": [
      "| |                                              # | 2000 Elapsed Time: 0:02:09\n"
     ]
    },
    {
     "name": "stdout",
     "output_type": "stream",
     "text": [
      "Epoch: 184/200\n",
      "training classification loss: 0.4928\n",
      "train_auroc: 0.7405\n",
      "val_auroc: 0.7350\n"
     ]
    },
    {
     "name": "stderr",
     "output_type": "stream",
     "text": [
      "| |                                          #     | 2000 Elapsed Time: 0:02:10\n"
     ]
    },
    {
     "name": "stdout",
     "output_type": "stream",
     "text": [
      "Epoch: 185/200\n",
      "training classification loss: 0.4914\n",
      "train_auroc: 0.7404\n",
      "val_auroc: 0.7385\n",
      "Model saved.\n"
     ]
    },
    {
     "name": "stderr",
     "output_type": "stream",
     "text": [
      "| |                                         #      | 2000 Elapsed Time: 0:02:10\n"
     ]
    },
    {
     "name": "stdout",
     "output_type": "stream",
     "text": [
      "Epoch: 186/200\n",
      "training classification loss: 0.4907\n",
      "train_auroc: 0.7414\n",
      "val_auroc: 0.7368\n"
     ]
    },
    {
     "name": "stderr",
     "output_type": "stream",
     "text": [
      "| |                                       #        | 2000 Elapsed Time: 0:02:10\n"
     ]
    },
    {
     "name": "stdout",
     "output_type": "stream",
     "text": [
      "Epoch: 187/200\n",
      "training classification loss: 0.4900\n",
      "train_auroc: 0.7427\n",
      "val_auroc: 0.7379\n"
     ]
    },
    {
     "name": "stderr",
     "output_type": "stream",
     "text": [
      "| |                                             #  | 2000 Elapsed Time: 0:02:09\n"
     ]
    },
    {
     "name": "stdout",
     "output_type": "stream",
     "text": [
      "Epoch: 188/200\n",
      "training classification loss: 0.4882\n",
      "train_auroc: 0.7454\n",
      "val_auroc: 0.7327\n"
     ]
    },
    {
     "name": "stderr",
     "output_type": "stream",
     "text": [
      "| |                                 #              | 2000 Elapsed Time: 0:02:11\n"
     ]
    },
    {
     "name": "stdout",
     "output_type": "stream",
     "text": [
      "Epoch: 189/200\n",
      "training classification loss: 0.4883\n",
      "train_auroc: 0.7451\n",
      "val_auroc: 0.7349\n"
     ]
    },
    {
     "name": "stderr",
     "output_type": "stream",
     "text": [
      "| |                                            #   | 2000 Elapsed Time: 0:02:09\n"
     ]
    },
    {
     "name": "stdout",
     "output_type": "stream",
     "text": [
      "Epoch: 190/200\n",
      "training classification loss: 0.4883\n",
      "train_auroc: 0.7445\n",
      "val_auroc: 0.7347\n"
     ]
    },
    {
     "name": "stderr",
     "output_type": "stream",
     "text": [
      "| |                                             #  | 2000 Elapsed Time: 0:02:09\n"
     ]
    },
    {
     "name": "stdout",
     "output_type": "stream",
     "text": [
      "Epoch: 191/200\n",
      "training classification loss: 0.4858\n",
      "train_auroc: 0.7480\n",
      "val_auroc: 0.7352\n"
     ]
    },
    {
     "name": "stderr",
     "output_type": "stream",
     "text": [
      "| |                                          #     | 2000 Elapsed Time: 0:02:10\n"
     ]
    },
    {
     "name": "stdout",
     "output_type": "stream",
     "text": [
      "Epoch: 192/200\n",
      "training classification loss: 0.4884\n",
      "train_auroc: 0.7443\n",
      "val_auroc: 0.7409\n",
      "Model saved.\n"
     ]
    },
    {
     "name": "stderr",
     "output_type": "stream",
     "text": [
      "| |                                            #   | 2000 Elapsed Time: 0:02:09\n"
     ]
    },
    {
     "name": "stdout",
     "output_type": "stream",
     "text": [
      "Epoch: 193/200\n",
      "training classification loss: 0.4872\n",
      "train_auroc: 0.7474\n",
      "val_auroc: 0.7405\n"
     ]
    },
    {
     "name": "stderr",
     "output_type": "stream",
     "text": [
      "| |                                   #            | 2000 Elapsed Time: 0:02:10\n"
     ]
    },
    {
     "name": "stdout",
     "output_type": "stream",
     "text": [
      "Epoch: 194/200\n",
      "training classification loss: 0.4859\n",
      "train_auroc: 0.7485\n",
      "val_auroc: 0.7308\n"
     ]
    },
    {
     "name": "stderr",
     "output_type": "stream",
     "text": [
      "| |                                              # | 2000 Elapsed Time: 0:02:09\n"
     ]
    },
    {
     "name": "stdout",
     "output_type": "stream",
     "text": [
      "Epoch: 195/200\n",
      "training classification loss: 0.4866\n",
      "train_auroc: 0.7470\n",
      "val_auroc: 0.7386\n"
     ]
    },
    {
     "name": "stderr",
     "output_type": "stream",
     "text": [
      "| |                                     #          | 2000 Elapsed Time: 0:02:08\n"
     ]
    },
    {
     "name": "stdout",
     "output_type": "stream",
     "text": [
      "Epoch: 196/200\n",
      "training classification loss: 0.4869\n",
      "train_auroc: 0.7476\n",
      "val_auroc: 0.7397\n"
     ]
    },
    {
     "name": "stderr",
     "output_type": "stream",
     "text": [
      "| |                                              # | 2000 Elapsed Time: 0:02:09\n"
     ]
    },
    {
     "name": "stdout",
     "output_type": "stream",
     "text": [
      "Epoch: 197/200\n",
      "training classification loss: 0.4852\n",
      "train_auroc: 0.7492\n",
      "val_auroc: 0.7388\n"
     ]
    },
    {
     "name": "stderr",
     "output_type": "stream",
     "text": [
      "| |                                               #| 2000 Elapsed Time: 0:02:09\n"
     ]
    },
    {
     "name": "stdout",
     "output_type": "stream",
     "text": [
      "Epoch: 198/200\n",
      "training classification loss: 0.4851\n",
      "train_auroc: 0.7501\n",
      "val_auroc: 0.7379\n"
     ]
    },
    {
     "name": "stderr",
     "output_type": "stream",
     "text": [
      "| |                                               #| 2000 Elapsed Time: 0:02:09\n"
     ]
    },
    {
     "name": "stdout",
     "output_type": "stream",
     "text": [
      "Epoch: 199/200\n",
      "training classification loss: 0.4847\n",
      "train_auroc: 0.7507\n",
      "val_auroc: 0.7386\n"
     ]
    },
    {
     "name": "stderr",
     "output_type": "stream",
     "text": [
      "| |                                            #   | 2000 Elapsed Time: 0:02:09\n"
     ]
    },
    {
     "name": "stdout",
     "output_type": "stream",
     "text": [
      "Epoch: 200/200\n",
      "training classification loss: 0.4836\n",
      "train_auroc: 0.7503\n",
      "val_auroc: 0.7358\n"
     ]
    }
   ],
   "source": [
    "# Define metric objects \n",
    "metric_objects = {'train_auroc' : SimpleAUC(),\n",
    "                  'val_auroc' : SimpleAUC()}\n",
    "best_val_metric = 0.0 if checkpoint is None else checkpoint['best_val_metric']\n",
    "i = 0 if checkpoint is None else checkpoint['epoch']\n",
    "while i < num_epochs:\n",
    "    # Reset training state variables\n",
    "    training_loss = defaultdict(lambda: 0.0)\n",
    "    num_samples = 0\n",
    "    iterators = {k : iter(v) for k, v in loader.items()}\n",
    "    for v in metric_objects.values():\n",
    "        v.reset_state()\n",
    "\n",
    "    # Training phase \n",
    "    cls.train() # Set model to training mode\n",
    "    with progressbar.ProgressBar(steps_per_epoch) as pbar:\n",
    "        for j in range(1, steps_per_epoch+1):\n",
    "            # Initialze loader's iterater\n",
    "            for k, v in loader.items():\n",
    "                if j % len(v) == 0:\n",
    "                    iterators[k] = iter(v)\n",
    "\n",
    "            # Load a batch of data\n",
    "            batch = next(iterators['train'])\n",
    "            fundus = batch['fundus'].to(device)\n",
    "\n",
    "            y_true = batch[\"level\"].to(device)\n",
    "\n",
    "            # Forward pass\n",
    "            y_pred = cls(fundus)\n",
    "            loss = loss_fn['ce'](y_pred, y_true)\n",
    "\n",
    "            # Backward pass \n",
    "            optimizer.zero_grad()\n",
    "            loss.backward()\n",
    "            optimizer.step()\n",
    "\n",
    "            # Update training metrics\n",
    "            training_loss['cls_loss'] += loss.item() * y_true.size(0)\n",
    "            num_samples += y_true.size(0)\n",
    "            metric_objects['train_auroc'].update_state(y_pred[:, 1], y_true)\n",
    "\n",
    "            pbar.update(j)\n",
    "\n",
    "        for k, v in training_loss.items():\n",
    "            training_loss[k] = v / float(num_samples)\n",
    "#         lr_scheduler.step()\n",
    "\n",
    "    \n",
    "    cls.eval() # Set model to evaluation mode.\n",
    "    for batch in loader['valid']:\n",
    "        fundus = batch['fundus'].to(device)\n",
    "        y_true = batch[\"level\"]\n",
    "\n",
    "        # Forward pass\n",
    "        with torch.no_grad():\n",
    "            y_pred = cls(fundus)\n",
    "            metric_objects['val_auroc'].update_state(y_pred[:, 1], y_true)\n",
    "\n",
    "    # Display results after an epoch\n",
    "    i += 1\n",
    "    print('Epoch: {:d}/{:d}'.format(i, num_epochs))\n",
    "    print('training classification loss: {:.4f}'.format(training_loss['cls_loss']))\n",
    "    for k, v in metric_objects.items():\n",
    "        print('{}: {:.4f}'.format(k, v.result()))\n",
    "    \n",
    "    # Save model when reached the highest validation accuracy \n",
    "    curr_val_metric = metric_objects['val_auroc'].result()\n",
    "    if curr_val_metric > best_val_metric:\n",
    "        best_val_metric = curr_val_metric\n",
    "        checkpoint = {'cls_state_dict' : cls.state_dict(),\n",
    "                      'optimizer_state_dict' : optimizer.state_dict(),\n",
    "                      'lr_scheduler_state_dict' : lr_scheduler.state_dict(),\n",
    "                      'best_val_metric' : best_val_metric,\n",
    "                      'epoch' : i,\n",
    "                      'cnn_name' : cnn_name}\n",
    "        torch.save(checkpoint, checkpoint_path)\n",
    "        print('Model saved.')"
   ]
  },
  {
   "cell_type": "markdown",
   "metadata": {},
   "source": [
    "# check validation Accuracy"
   ]
  },
  {
   "cell_type": "code",
   "execution_count": 11,
   "metadata": {},
   "outputs": [
    {
     "name": "stdout",
     "output_type": "stream",
     "text": [
      "Load model trained for 192 epochs.\n"
     ]
    }
   ],
   "source": [
    "if os.path.exists(checkpoint_path):\n",
    "    checkpoint = torch.load(checkpoint_path)\n",
    "    print('Load model trained for {} epochs.'.format(checkpoint['epoch']))\n",
    "else:\n",
    "    checkpoint = None"
   ]
  },
  {
   "cell_type": "code",
   "execution_count": 12,
   "metadata": {},
   "outputs": [
    {
     "name": "stdout",
     "output_type": "stream",
     "text": [
      "0.7408612421001972\n"
     ]
    }
   ],
   "source": [
    "print(checkpoint[\"best_val_metric\"])"
   ]
  },
  {
   "cell_type": "code",
   "execution_count": null,
   "metadata": {},
   "outputs": [],
   "source": []
  }
 ],
 "metadata": {
  "kernelspec": {
   "display_name": "torch",
   "language": "python",
   "name": "torch"
  },
  "language_info": {
   "codemirror_mode": {
    "name": "ipython",
    "version": 3
   },
   "file_extension": ".py",
   "mimetype": "text/x-python",
   "name": "python",
   "nbconvert_exporter": "python",
   "pygments_lexer": "ipython3",
   "version": "3.7.5"
  }
 },
 "nbformat": 4,
 "nbformat_minor": 2
}
