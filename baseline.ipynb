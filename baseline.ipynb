{
 "cells": [
  {
   "cell_type": "code",
   "execution_count": 1,
   "metadata": {},
   "outputs": [],
   "source": [
    "# Built-in modules\n",
    "import sys, os, argparse\n",
    "from collections import OrderedDict, defaultdict\n",
    "# Public modules\n",
    "import numpy as np\n",
    "import matplotlib.pyplot as plt\n",
    "import torch, torchvision\n",
    "import torch.nn as nn\n",
    "import torch.optim as optim\n",
    "from torch.utils.data import DataLoader\n",
    "import progressbar\n",
    "\n",
    "from torchvision.datasets import ImageFolder\n",
    "from torchvision.transforms import CenterCrop, ColorJitter, Compose, \\\n",
    "        Normalize, Resize, RandomCrop, RandomHorizontalFlip, \\\n",
    "        RandomRotation, ToTensor\n",
    "from torch.utils.data import DataLoader, Dataset\n",
    "import pandas as pd\n",
    "from PIL import Image\n",
    "from utils import SimpleAUC\n",
    "\n",
    "os.environ[\"CUDA_VISIBLE_DEVICES\"]=\"0\""
   ]
  },
  {
   "cell_type": "markdown",
   "metadata": {},
   "source": [
    "# Setting parameters"
   ]
  },
  {
   "cell_type": "code",
   "execution_count": 2,
   "metadata": {},
   "outputs": [],
   "source": [
    "device = 'cuda' if torch.cuda.is_available() else 'cpu'\n",
    "init_lr = 1e-4\n",
    "batch_size = 32\n",
    "num_epochs = 200\n",
    "steps_per_epoch = 500\n",
    "weight_decay = 1e-5\n",
    "\n",
    "cnn_name = \"baseline\"\n",
    "\n",
    "tag = \"baseline1\""
   ]
  },
  {
   "cell_type": "code",
   "execution_count": 3,
   "metadata": {},
   "outputs": [],
   "source": [
    "checkpoint_dir = './train_logs/' + cnn_name"
   ]
  },
  {
   "cell_type": "code",
   "execution_count": 4,
   "metadata": {},
   "outputs": [],
   "source": [
    "os.makedirs(checkpoint_dir, exist_ok=True)\n",
    "checkpoint_path = os.path.join(checkpoint_dir, '{}.pt'.format(tag))\n",
    "if os.path.exists(checkpoint_path):\n",
    "    checkpoint = torch.load(checkpoint_path)\n",
    "    print('Load model trained for {} epochs.'.format(checkpoint['epoch']))\n",
    "else:\n",
    "    checkpoint = None"
   ]
  },
  {
   "cell_type": "markdown",
   "metadata": {},
   "source": [
    "# Build dataset"
   ]
  },
  {
   "cell_type": "code",
   "execution_count": 5,
   "metadata": {},
   "outputs": [],
   "source": [
    "IMAGENET_MEAN = [0.485, 0.456, 0.406]\n",
    "IMAGENET_STD = [0.229, 0.224, 0.225]\n",
    "\n",
    "class RetinaDataset(Dataset):\n",
    "    \"\"\" Custom dataset for Retina image dataset \"\"\"\n",
    "    def __init__(self,\n",
    "                 csv_df,\n",
    "                 img_dir,\n",
    "                 transform=None,\n",
    "                 standardize=False):\n",
    "        \"\"\"\n",
    "        Args:\n",
    "            csv_path (str): A path to the csv file.\n",
    "            img_dir (str): A path to the fundus image dir.\n",
    "            transform (callable, optional): Tranform function\n",
    "                to be applied fundus images.\n",
    "            standardize (bool): Whether to apply standardize to numeric data.\n",
    "        \"\"\"\n",
    "        super().__init__()\n",
    "        self.df = csv_df\n",
    "        self.img_dir = img_dir\n",
    "        self.transform = transform\n",
    "        self.standardize = standardize\n",
    "\n",
    "    def __len__(self):\n",
    "        return len(self.df)\n",
    "\n",
    "    def __getitem__(self, i):\n",
    "        \"\"\" read left and right retina image \"\"\"\n",
    "        path = os.path.join(self.img_dir, self.df['image'].values[i]+\".jpeg\")\n",
    "\n",
    "        sample = {}\n",
    "        sample['fundus'] = Image.open(path)\n",
    "        sample[\"level\"] = 1 if self.df[\"level\"].values[i] > 0 else 0\n",
    "\n",
    "        if self.transform is not None:\n",
    "            sample['fundus'] = self.transform(sample['fundus'])\n",
    "        return sample\n",
    "    \n",
    "def build_dataset():\n",
    "    \"\"\" Build dataset \"\"\"\n",
    "    # Define transforms for training and evaluation\n",
    "#     transform_train = Compose([Resize([256, 256]),\n",
    "#                                RandomCrop([224, 224]),\n",
    "#                                ColorJitter(brightness=0.2,\n",
    "#                                            saturation=1),\n",
    "#                                RandomHorizontalFlip(),\n",
    "#                                RandomRotation(degrees=30, fill=128),\n",
    "#                                ToTensor(),\n",
    "#                                Normalize(IMAGENET_MEAN, IMAGENET_STD)])\n",
    "#     transform_eval = Compose([Resize([256, 256]),\n",
    "#                               CenterCrop([224, 224]),\n",
    "#                               ToTensor(),\n",
    "#                               Normalize(IMAGENET_MEAN, IMAGENET_STD)])\n",
    "\n",
    "    transform_train = Compose([Resize([256, 256]),\n",
    "                               ToTensor(),\n",
    "                               Normalize(IMAGENET_MEAN, IMAGENET_STD)])\n",
    "    transform_eval = Compose([Resize([256, 256]),\n",
    "                              ToTensor(),\n",
    "                              Normalize(IMAGENET_MEAN, IMAGENET_STD)])\n",
    "    \n",
    "    \n",
    "    df = pd.read_csv(\"../kaggle_data/trainLabels.csv\")\n",
    "    n_samples = len(df)\n",
    "    train_df = df[0:int(n_samples*0.8)]\n",
    "    val_df = df[int(n_samples*0.8):]\n",
    "    \n",
    "    IMG_DIR = \"../kaggle_data/train_resize\"\n",
    "    \n",
    "    dataset = {'train': RetinaDataset(csv_df=train_df,\n",
    "                                   img_dir=IMG_DIR,\n",
    "                                   transform=transform_train),\n",
    "               'valid' : RetinaDataset(csv_df=val_df,\n",
    "                                   img_dir=IMG_DIR,\n",
    "                                  transform=transform_eval)}\n",
    "\n",
    "        \n",
    "\n",
    "    return dataset"
   ]
  },
  {
   "cell_type": "code",
   "execution_count": 6,
   "metadata": {},
   "outputs": [],
   "source": [
    "dataset = build_dataset()\n",
    "loader = {}\n",
    "for key in ['train', 'valid']:\n",
    "    shuffle = (key != 'valid')\n",
    "    loader[key] = DataLoader(dataset[key], batch_size=batch_size, shuffle=shuffle,\n",
    "                             pin_memory=True, num_workers=4)"
   ]
  },
  {
   "cell_type": "markdown",
   "metadata": {},
   "source": [
    "# Define Model"
   ]
  },
  {
   "cell_type": "code",
   "execution_count": 7,
   "metadata": {},
   "outputs": [],
   "source": [
    "_model_dict = {\n",
    "            'resnet18' : torchvision.models.resnet18,\n",
    "            'resnet34' : torchvision.models.resnet34,\n",
    "            'resnet50' : torchvision.models.resnet50,\n",
    "            'resnet101' : torchvision.models.resnet101,\n",
    "        }\n",
    "\n",
    "class Classifier(nn.Module):\n",
    "    \"\"\" Pre-trained model to which new layers are attached. \"\"\"\n",
    "    def __init__(self,\n",
    "                 cnn_name,\n",
    "                 num_classes,\n",
    "                 pretrained=False):\n",
    "        \"\"\" Initialize module\n",
    "        Args:\n",
    "            cnn_name (str): The name of a pretrained CNN model.\n",
    "            num_classes (int): The number of output classes.\n",
    "        \"\"\"\n",
    "        super().__init__()\n",
    "        if cnn_name not in _model_dict.keys():\n",
    "            raise NotImplementedError('{} is not supported.'.format(cnn_name))\n",
    "\n",
    "        self.num_classes = num_classes\n",
    "        self.model = _model_dict[cnn_name](pretrained=pretrained)\n",
    "        self.model.fc = nn.Linear(512, num_classes)\n",
    "\n",
    "    def forward(self, fundus):\n",
    "        \"\"\" forward pass \"\"\"\n",
    "        h = self.model(fundus)\n",
    "        return h\n"
   ]
  },
  {
   "cell_type": "code",
   "execution_count": 8,
   "metadata": {},
   "outputs": [
    {
     "data": {
      "text/plain": [
       "Classifier(\n",
       "  (model): ResNet(\n",
       "    (conv1): Conv2d(3, 64, kernel_size=(7, 7), stride=(2, 2), padding=(3, 3), bias=False)\n",
       "    (bn1): BatchNorm2d(64, eps=1e-05, momentum=0.1, affine=True, track_running_stats=True)\n",
       "    (relu): ReLU(inplace=True)\n",
       "    (maxpool): MaxPool2d(kernel_size=3, stride=2, padding=1, dilation=1, ceil_mode=False)\n",
       "    (layer1): Sequential(\n",
       "      (0): BasicBlock(\n",
       "        (conv1): Conv2d(64, 64, kernel_size=(3, 3), stride=(1, 1), padding=(1, 1), bias=False)\n",
       "        (bn1): BatchNorm2d(64, eps=1e-05, momentum=0.1, affine=True, track_running_stats=True)\n",
       "        (relu): ReLU(inplace=True)\n",
       "        (conv2): Conv2d(64, 64, kernel_size=(3, 3), stride=(1, 1), padding=(1, 1), bias=False)\n",
       "        (bn2): BatchNorm2d(64, eps=1e-05, momentum=0.1, affine=True, track_running_stats=True)\n",
       "      )\n",
       "      (1): BasicBlock(\n",
       "        (conv1): Conv2d(64, 64, kernel_size=(3, 3), stride=(1, 1), padding=(1, 1), bias=False)\n",
       "        (bn1): BatchNorm2d(64, eps=1e-05, momentum=0.1, affine=True, track_running_stats=True)\n",
       "        (relu): ReLU(inplace=True)\n",
       "        (conv2): Conv2d(64, 64, kernel_size=(3, 3), stride=(1, 1), padding=(1, 1), bias=False)\n",
       "        (bn2): BatchNorm2d(64, eps=1e-05, momentum=0.1, affine=True, track_running_stats=True)\n",
       "      )\n",
       "    )\n",
       "    (layer2): Sequential(\n",
       "      (0): BasicBlock(\n",
       "        (conv1): Conv2d(64, 128, kernel_size=(3, 3), stride=(2, 2), padding=(1, 1), bias=False)\n",
       "        (bn1): BatchNorm2d(128, eps=1e-05, momentum=0.1, affine=True, track_running_stats=True)\n",
       "        (relu): ReLU(inplace=True)\n",
       "        (conv2): Conv2d(128, 128, kernel_size=(3, 3), stride=(1, 1), padding=(1, 1), bias=False)\n",
       "        (bn2): BatchNorm2d(128, eps=1e-05, momentum=0.1, affine=True, track_running_stats=True)\n",
       "        (downsample): Sequential(\n",
       "          (0): Conv2d(64, 128, kernel_size=(1, 1), stride=(2, 2), bias=False)\n",
       "          (1): BatchNorm2d(128, eps=1e-05, momentum=0.1, affine=True, track_running_stats=True)\n",
       "        )\n",
       "      )\n",
       "      (1): BasicBlock(\n",
       "        (conv1): Conv2d(128, 128, kernel_size=(3, 3), stride=(1, 1), padding=(1, 1), bias=False)\n",
       "        (bn1): BatchNorm2d(128, eps=1e-05, momentum=0.1, affine=True, track_running_stats=True)\n",
       "        (relu): ReLU(inplace=True)\n",
       "        (conv2): Conv2d(128, 128, kernel_size=(3, 3), stride=(1, 1), padding=(1, 1), bias=False)\n",
       "        (bn2): BatchNorm2d(128, eps=1e-05, momentum=0.1, affine=True, track_running_stats=True)\n",
       "      )\n",
       "    )\n",
       "    (layer3): Sequential(\n",
       "      (0): BasicBlock(\n",
       "        (conv1): Conv2d(128, 256, kernel_size=(3, 3), stride=(2, 2), padding=(1, 1), bias=False)\n",
       "        (bn1): BatchNorm2d(256, eps=1e-05, momentum=0.1, affine=True, track_running_stats=True)\n",
       "        (relu): ReLU(inplace=True)\n",
       "        (conv2): Conv2d(256, 256, kernel_size=(3, 3), stride=(1, 1), padding=(1, 1), bias=False)\n",
       "        (bn2): BatchNorm2d(256, eps=1e-05, momentum=0.1, affine=True, track_running_stats=True)\n",
       "        (downsample): Sequential(\n",
       "          (0): Conv2d(128, 256, kernel_size=(1, 1), stride=(2, 2), bias=False)\n",
       "          (1): BatchNorm2d(256, eps=1e-05, momentum=0.1, affine=True, track_running_stats=True)\n",
       "        )\n",
       "      )\n",
       "      (1): BasicBlock(\n",
       "        (conv1): Conv2d(256, 256, kernel_size=(3, 3), stride=(1, 1), padding=(1, 1), bias=False)\n",
       "        (bn1): BatchNorm2d(256, eps=1e-05, momentum=0.1, affine=True, track_running_stats=True)\n",
       "        (relu): ReLU(inplace=True)\n",
       "        (conv2): Conv2d(256, 256, kernel_size=(3, 3), stride=(1, 1), padding=(1, 1), bias=False)\n",
       "        (bn2): BatchNorm2d(256, eps=1e-05, momentum=0.1, affine=True, track_running_stats=True)\n",
       "      )\n",
       "    )\n",
       "    (layer4): Sequential(\n",
       "      (0): BasicBlock(\n",
       "        (conv1): Conv2d(256, 512, kernel_size=(3, 3), stride=(2, 2), padding=(1, 1), bias=False)\n",
       "        (bn1): BatchNorm2d(512, eps=1e-05, momentum=0.1, affine=True, track_running_stats=True)\n",
       "        (relu): ReLU(inplace=True)\n",
       "        (conv2): Conv2d(512, 512, kernel_size=(3, 3), stride=(1, 1), padding=(1, 1), bias=False)\n",
       "        (bn2): BatchNorm2d(512, eps=1e-05, momentum=0.1, affine=True, track_running_stats=True)\n",
       "        (downsample): Sequential(\n",
       "          (0): Conv2d(256, 512, kernel_size=(1, 1), stride=(2, 2), bias=False)\n",
       "          (1): BatchNorm2d(512, eps=1e-05, momentum=0.1, affine=True, track_running_stats=True)\n",
       "        )\n",
       "      )\n",
       "      (1): BasicBlock(\n",
       "        (conv1): Conv2d(512, 512, kernel_size=(3, 3), stride=(1, 1), padding=(1, 1), bias=False)\n",
       "        (bn1): BatchNorm2d(512, eps=1e-05, momentum=0.1, affine=True, track_running_stats=True)\n",
       "        (relu): ReLU(inplace=True)\n",
       "        (conv2): Conv2d(512, 512, kernel_size=(3, 3), stride=(1, 1), padding=(1, 1), bias=False)\n",
       "        (bn2): BatchNorm2d(512, eps=1e-05, momentum=0.1, affine=True, track_running_stats=True)\n",
       "      )\n",
       "    )\n",
       "    (avgpool): AdaptiveAvgPool2d(output_size=(1, 1))\n",
       "    (fc): Linear(in_features=512, out_features=2, bias=True)\n",
       "  )\n",
       ")"
      ]
     },
     "execution_count": 8,
     "metadata": {},
     "output_type": "execute_result"
    }
   ],
   "source": [
    "if checkpoint is None:\n",
    "    cls = Classifier('resnet18', num_classes=2, pretrained=False)\n",
    "else:\n",
    "    cls = Classifier(checkpoint['cnn_name'], num_classes=2,\n",
    "            pretrained=False)\n",
    "    cls.load_state_dict(checkpoint['cls_state_dict'])\n",
    "cls.to(device)"
   ]
  },
  {
   "cell_type": "markdown",
   "metadata": {},
   "source": [
    "# Define Loss function and optimizer"
   ]
  },
  {
   "cell_type": "code",
   "execution_count": 9,
   "metadata": {},
   "outputs": [],
   "source": [
    "# Define loss function\n",
    "loss_fn = {'ce' : nn.CrossEntropyLoss()}\n",
    "\n",
    "# Build optimizer\n",
    "\n",
    "optimizer = optim.SGD(cls.parameters(),\n",
    "                      lr=init_lr,\n",
    "                      momentum=0.9,\n",
    "                      weight_decay=weight_decay,\n",
    "                      nesterov=True)\n",
    "\n",
    "if checkpoint is not None:\n",
    "    optimizer.load_state_dict(checkpoint['optimizer_state_dict'])\n",
    "\n",
    "decay_factor = 0.99\n",
    "lr_scheduler = optim.lr_scheduler.LambdaLR(optimizer,lambda epoch: decay_factor ** epoch)\n",
    "if checkpoint is not None:\n",
    "    lr_scheduler.load_state_dict(checkpoint['lr_scheduler_state_dict'])"
   ]
  },
  {
   "cell_type": "markdown",
   "metadata": {},
   "source": [
    "# Train"
   ]
  },
  {
   "cell_type": "code",
   "execution_count": 10,
   "metadata": {},
   "outputs": [
    {
     "name": "stderr",
     "output_type": "stream",
     "text": [
      "| |                     #                           | 500 Elapsed Time: 0:00:46\n"
     ]
    },
    {
     "name": "stdout",
     "output_type": "stream",
     "text": [
      "Epoch: 1/200\n",
      "training classification loss: 0.5848\n",
      "train_auroc: 0.5372\n",
      "val_auroc: 0.5558\n",
      "Model saved.\n"
     ]
    },
    {
     "name": "stderr",
     "output_type": "stream",
     "text": [
      "| | #                                               | 500 Elapsed Time: 0:00:49\n"
     ]
    },
    {
     "name": "stdout",
     "output_type": "stream",
     "text": [
      "Epoch: 2/200\n",
      "training classification loss: 0.5743\n",
      "train_auroc: 0.5642\n",
      "val_auroc: 0.5620\n",
      "Model saved.\n"
     ]
    },
    {
     "name": "stderr",
     "output_type": "stream",
     "text": [
      "| |                         #                       | 500 Elapsed Time: 0:00:46\n"
     ]
    },
    {
     "name": "stdout",
     "output_type": "stream",
     "text": [
      "Epoch: 3/200\n",
      "training classification loss: 0.5750\n",
      "train_auroc: 0.5721\n",
      "val_auroc: 0.5700\n",
      "Model saved.\n"
     ]
    },
    {
     "name": "stderr",
     "output_type": "stream",
     "text": [
      "| |         #                                       | 500 Elapsed Time: 0:00:48\n"
     ]
    },
    {
     "name": "stdout",
     "output_type": "stream",
     "text": [
      "Epoch: 4/200\n",
      "training classification loss: 0.5708\n",
      "train_auroc: 0.5835\n",
      "val_auroc: 0.5803\n",
      "Model saved.\n"
     ]
    },
    {
     "name": "stderr",
     "output_type": "stream",
     "text": [
      "| |          #                                      | 500 Elapsed Time: 0:00:47\n"
     ]
    },
    {
     "name": "stdout",
     "output_type": "stream",
     "text": [
      "Epoch: 5/200\n",
      "training classification loss: 0.5663\n",
      "train_auroc: 0.5857\n",
      "val_auroc: 0.5730\n"
     ]
    },
    {
     "name": "stderr",
     "output_type": "stream",
     "text": [
      "| |  #                                              | 500 Elapsed Time: 0:00:49\n"
     ]
    },
    {
     "name": "stdout",
     "output_type": "stream",
     "text": [
      "Epoch: 6/200\n",
      "training classification loss: 0.5727\n",
      "train_auroc: 0.5953\n",
      "val_auroc: 0.5869\n",
      "Model saved.\n"
     ]
    },
    {
     "name": "stderr",
     "output_type": "stream",
     "text": [
      "| |          #                                      | 500 Elapsed Time: 0:00:47\n"
     ]
    },
    {
     "name": "stdout",
     "output_type": "stream",
     "text": [
      "Epoch: 7/200\n",
      "training classification loss: 0.5675\n",
      "train_auroc: 0.5988\n",
      "val_auroc: 0.5816\n"
     ]
    },
    {
     "name": "stderr",
     "output_type": "stream",
     "text": [
      "| |      #                                          | 500 Elapsed Time: 0:00:48\n"
     ]
    },
    {
     "name": "stdout",
     "output_type": "stream",
     "text": [
      "Epoch: 8/200\n",
      "training classification loss: 0.5658\n",
      "train_auroc: 0.6049\n",
      "val_auroc: 0.6018\n",
      "Model saved.\n"
     ]
    },
    {
     "name": "stderr",
     "output_type": "stream",
     "text": [
      "| |      #                                          | 500 Elapsed Time: 0:00:48\n"
     ]
    },
    {
     "name": "stdout",
     "output_type": "stream",
     "text": [
      "Epoch: 9/200\n",
      "training classification loss: 0.5626\n",
      "train_auroc: 0.6095\n",
      "val_auroc: 0.5986\n"
     ]
    },
    {
     "name": "stderr",
     "output_type": "stream",
     "text": [
      "| |      #                                          | 500 Elapsed Time: 0:00:48\n"
     ]
    },
    {
     "name": "stdout",
     "output_type": "stream",
     "text": [
      "Epoch: 10/200\n",
      "training classification loss: 0.5569\n",
      "train_auroc: 0.6097\n",
      "val_auroc: 0.5883\n"
     ]
    },
    {
     "name": "stderr",
     "output_type": "stream",
     "text": [
      "| |      #                                          | 500 Elapsed Time: 0:00:49\n"
     ]
    },
    {
     "name": "stdout",
     "output_type": "stream",
     "text": [
      "Epoch: 11/200\n",
      "training classification loss: 0.5617\n",
      "train_auroc: 0.6070\n",
      "val_auroc: 0.6022\n",
      "Model saved.\n"
     ]
    },
    {
     "name": "stderr",
     "output_type": "stream",
     "text": [
      "| |     #                                           | 500 Elapsed Time: 0:00:48\n"
     ]
    },
    {
     "name": "stdout",
     "output_type": "stream",
     "text": [
      "Epoch: 12/200\n",
      "training classification loss: 0.5629\n",
      "train_auroc: 0.6124\n",
      "val_auroc: 0.6027\n",
      "Model saved.\n"
     ]
    },
    {
     "name": "stderr",
     "output_type": "stream",
     "text": [
      "| |       #                                         | 500 Elapsed Time: 0:00:48\n"
     ]
    },
    {
     "name": "stdout",
     "output_type": "stream",
     "text": [
      "Epoch: 13/200\n",
      "training classification loss: 0.5631\n",
      "train_auroc: 0.6190\n",
      "val_auroc: 0.6033\n",
      "Model saved.\n"
     ]
    },
    {
     "name": "stderr",
     "output_type": "stream",
     "text": [
      "| |#                                                | 500 Elapsed Time: 0:00:48\n"
     ]
    },
    {
     "name": "stdout",
     "output_type": "stream",
     "text": [
      "Epoch: 14/200\n",
      "training classification loss: 0.5584\n",
      "train_auroc: 0.6233\n",
      "val_auroc: 0.6039\n",
      "Model saved.\n"
     ]
    },
    {
     "name": "stderr",
     "output_type": "stream",
     "text": [
      "| |  #                                              | 500 Elapsed Time: 0:00:48\n"
     ]
    },
    {
     "name": "stdout",
     "output_type": "stream",
     "text": [
      "Epoch: 15/200\n",
      "training classification loss: 0.5593\n",
      "train_auroc: 0.6193\n",
      "val_auroc: 0.6081\n",
      "Model saved.\n"
     ]
    },
    {
     "name": "stderr",
     "output_type": "stream",
     "text": [
      "| |  #                                              | 500 Elapsed Time: 0:00:48\n"
     ]
    },
    {
     "name": "stdout",
     "output_type": "stream",
     "text": [
      "Epoch: 16/200\n",
      "training classification loss: 0.5570\n",
      "train_auroc: 0.6256\n",
      "val_auroc: 0.6127\n",
      "Model saved.\n"
     ]
    },
    {
     "name": "stderr",
     "output_type": "stream",
     "text": [
      "| |      #                                          | 500 Elapsed Time: 0:00:48\n"
     ]
    },
    {
     "name": "stdout",
     "output_type": "stream",
     "text": [
      "Epoch: 17/200\n",
      "training classification loss: 0.5511\n",
      "train_auroc: 0.6321\n",
      "val_auroc: 0.6072\n"
     ]
    },
    {
     "name": "stderr",
     "output_type": "stream",
     "text": [
      "| |         #                                       | 500 Elapsed Time: 0:00:49\n"
     ]
    },
    {
     "name": "stdout",
     "output_type": "stream",
     "text": [
      "Epoch: 18/200\n",
      "training classification loss: 0.5546\n",
      "train_auroc: 0.6301\n",
      "val_auroc: 0.6142\n",
      "Model saved.\n"
     ]
    },
    {
     "name": "stderr",
     "output_type": "stream",
     "text": [
      "| |                 #                               | 500 Elapsed Time: 0:00:47\n"
     ]
    },
    {
     "name": "stdout",
     "output_type": "stream",
     "text": [
      "Epoch: 19/200\n",
      "training classification loss: 0.5553\n",
      "train_auroc: 0.6324\n",
      "val_auroc: 0.6151\n",
      "Model saved.\n"
     ]
    },
    {
     "name": "stderr",
     "output_type": "stream",
     "text": [
      "| |   #                                             | 500 Elapsed Time: 0:00:48\n"
     ]
    },
    {
     "name": "stdout",
     "output_type": "stream",
     "text": [
      "Epoch: 20/200\n",
      "training classification loss: 0.5573\n",
      "train_auroc: 0.6330\n",
      "val_auroc: 0.6136\n"
     ]
    },
    {
     "name": "stderr",
     "output_type": "stream",
     "text": [
      "| |            #                                    | 500 Elapsed Time: 0:00:47\n"
     ]
    },
    {
     "name": "stdout",
     "output_type": "stream",
     "text": [
      "Epoch: 21/200\n",
      "training classification loss: 0.5529\n",
      "train_auroc: 0.6373\n",
      "val_auroc: 0.6086\n"
     ]
    },
    {
     "name": "stderr",
     "output_type": "stream",
     "text": [
      "| |                                      #          | 500 Elapsed Time: 0:00:43\n"
     ]
    },
    {
     "name": "stdout",
     "output_type": "stream",
     "text": [
      "Epoch: 22/200\n",
      "training classification loss: 0.5507\n",
      "train_auroc: 0.6391\n",
      "val_auroc: 0.6200\n",
      "Model saved.\n"
     ]
    },
    {
     "name": "stderr",
     "output_type": "stream",
     "text": [
      "| |        #                                        | 500 Elapsed Time: 0:00:38\n"
     ]
    },
    {
     "name": "stdout",
     "output_type": "stream",
     "text": [
      "Epoch: 23/200\n",
      "training classification loss: 0.5546\n",
      "train_auroc: 0.6347\n",
      "val_auroc: 0.6125\n"
     ]
    },
    {
     "name": "stderr",
     "output_type": "stream",
     "text": [
      "| |     #                                           | 500 Elapsed Time: 0:00:38\n"
     ]
    },
    {
     "name": "stdout",
     "output_type": "stream",
     "text": [
      "Epoch: 24/200\n",
      "training classification loss: 0.5537\n",
      "train_auroc: 0.6446\n",
      "val_auroc: 0.6104\n"
     ]
    },
    {
     "name": "stderr",
     "output_type": "stream",
     "text": [
      "| |      #                                          | 500 Elapsed Time: 0:00:38\n"
     ]
    },
    {
     "name": "stdout",
     "output_type": "stream",
     "text": [
      "Epoch: 25/200\n",
      "training classification loss: 0.5497\n",
      "train_auroc: 0.6396\n",
      "val_auroc: 0.6109\n"
     ]
    },
    {
     "name": "stderr",
     "output_type": "stream",
     "text": [
      "| |            #                                    | 500 Elapsed Time: 0:00:37\n"
     ]
    },
    {
     "name": "stdout",
     "output_type": "stream",
     "text": [
      "Epoch: 26/200\n",
      "training classification loss: 0.5485\n",
      "train_auroc: 0.6496\n",
      "val_auroc: 0.6213\n",
      "Model saved.\n"
     ]
    },
    {
     "name": "stderr",
     "output_type": "stream",
     "text": [
      "| |   #                                             | 500 Elapsed Time: 0:00:38\n"
     ]
    },
    {
     "name": "stdout",
     "output_type": "stream",
     "text": [
      "Epoch: 27/200\n",
      "training classification loss: 0.5488\n",
      "train_auroc: 0.6539\n",
      "val_auroc: 0.6140\n"
     ]
    },
    {
     "name": "stderr",
     "output_type": "stream",
     "text": [
      "| |           #                                     | 500 Elapsed Time: 0:00:38\n"
     ]
    },
    {
     "name": "stdout",
     "output_type": "stream",
     "text": [
      "Epoch: 28/200\n",
      "training classification loss: 0.5468\n",
      "train_auroc: 0.6566\n",
      "val_auroc: 0.6246\n",
      "Model saved.\n"
     ]
    },
    {
     "name": "stderr",
     "output_type": "stream",
     "text": [
      "| |     #                                           | 500 Elapsed Time: 0:00:48\n"
     ]
    },
    {
     "name": "stdout",
     "output_type": "stream",
     "text": [
      "Epoch: 29/200\n",
      "training classification loss: 0.5488\n",
      "train_auroc: 0.6607\n",
      "val_auroc: 0.6159\n"
     ]
    },
    {
     "name": "stderr",
     "output_type": "stream",
     "text": [
      "| |                       #                         | 500 Elapsed Time: 0:00:51\n"
     ]
    },
    {
     "name": "stdout",
     "output_type": "stream",
     "text": [
      "Epoch: 30/200\n",
      "training classification loss: 0.5410\n",
      "train_auroc: 0.6599\n",
      "val_auroc: 0.6151\n"
     ]
    },
    {
     "name": "stderr",
     "output_type": "stream",
     "text": [
      "| |            #                                    | 500 Elapsed Time: 0:00:50\n"
     ]
    },
    {
     "name": "stdout",
     "output_type": "stream",
     "text": [
      "Epoch: 31/200\n",
      "training classification loss: 0.5475\n",
      "train_auroc: 0.6554\n",
      "val_auroc: 0.6213\n"
     ]
    },
    {
     "name": "stderr",
     "output_type": "stream",
     "text": [
      "| |                  #                              | 500 Elapsed Time: 0:00:50\n"
     ]
    },
    {
     "name": "stdout",
     "output_type": "stream",
     "text": [
      "Epoch: 32/200\n",
      "training classification loss: 0.5421\n",
      "train_auroc: 0.6679\n",
      "val_auroc: 0.6266\n",
      "Model saved.\n"
     ]
    },
    {
     "name": "stderr",
     "output_type": "stream",
     "text": [
      "| |                      #                          | 500 Elapsed Time: 0:00:51\n"
     ]
    },
    {
     "name": "stdout",
     "output_type": "stream",
     "text": [
      "Epoch: 33/200\n",
      "training classification loss: 0.5439\n",
      "train_auroc: 0.6617\n",
      "val_auroc: 0.6314\n",
      "Model saved.\n"
     ]
    },
    {
     "name": "stderr",
     "output_type": "stream",
     "text": [
      "| |    #                                            | 500 Elapsed Time: 0:00:49\n"
     ]
    },
    {
     "name": "stdout",
     "output_type": "stream",
     "text": [
      "Epoch: 34/200\n",
      "training classification loss: 0.5405\n",
      "train_auroc: 0.6714\n",
      "val_auroc: 0.6166\n"
     ]
    },
    {
     "name": "stderr",
     "output_type": "stream",
     "text": [
      "| |           #                                     | 500 Elapsed Time: 0:00:50\n"
     ]
    },
    {
     "name": "stdout",
     "output_type": "stream",
     "text": [
      "Epoch: 35/200\n",
      "training classification loss: 0.5389\n",
      "train_auroc: 0.6713\n",
      "val_auroc: 0.6293\n"
     ]
    },
    {
     "name": "stderr",
     "output_type": "stream",
     "text": [
      "| |                             #                   | 500 Elapsed Time: 0:00:51\n"
     ]
    },
    {
     "name": "stdout",
     "output_type": "stream",
     "text": [
      "Epoch: 36/200\n",
      "training classification loss: 0.5408\n",
      "train_auroc: 0.6700\n",
      "val_auroc: 0.6292\n"
     ]
    },
    {
     "name": "stderr",
     "output_type": "stream",
     "text": [
      "| |                  #                              | 500 Elapsed Time: 0:00:50\n"
     ]
    },
    {
     "name": "stdout",
     "output_type": "stream",
     "text": [
      "Epoch: 37/200\n",
      "training classification loss: 0.5407\n",
      "train_auroc: 0.6773\n",
      "val_auroc: 0.6345\n",
      "Model saved.\n"
     ]
    },
    {
     "name": "stderr",
     "output_type": "stream",
     "text": [
      "| |                                 #               | 500 Elapsed Time: 0:00:52\n"
     ]
    },
    {
     "name": "stdout",
     "output_type": "stream",
     "text": [
      "Epoch: 38/200\n",
      "training classification loss: 0.5338\n",
      "train_auroc: 0.6761\n",
      "val_auroc: 0.6270\n"
     ]
    },
    {
     "name": "stderr",
     "output_type": "stream",
     "text": [
      "| |                 #                               | 500 Elapsed Time: 0:00:50\n"
     ]
    },
    {
     "name": "stdout",
     "output_type": "stream",
     "text": [
      "Epoch: 39/200\n",
      "training classification loss: 0.5322\n",
      "train_auroc: 0.6814\n",
      "val_auroc: 0.6224\n"
     ]
    },
    {
     "name": "stderr",
     "output_type": "stream",
     "text": [
      "| |                  #                              | 500 Elapsed Time: 0:00:50\n"
     ]
    },
    {
     "name": "stdout",
     "output_type": "stream",
     "text": [
      "Epoch: 40/200\n",
      "training classification loss: 0.5348\n",
      "train_auroc: 0.6819\n",
      "val_auroc: 0.6274\n"
     ]
    },
    {
     "name": "stderr",
     "output_type": "stream",
     "text": [
      "| |  #                                              | 500 Elapsed Time: 0:00:48\n"
     ]
    },
    {
     "name": "stdout",
     "output_type": "stream",
     "text": [
      "Epoch: 41/200\n",
      "training classification loss: 0.5360\n",
      "train_auroc: 0.6861\n",
      "val_auroc: 0.6263\n"
     ]
    },
    {
     "name": "stderr",
     "output_type": "stream",
     "text": [
      "| |       #                                         | 500 Elapsed Time: 0:00:49\n"
     ]
    },
    {
     "name": "stdout",
     "output_type": "stream",
     "text": [
      "Epoch: 42/200\n",
      "training classification loss: 0.5334\n",
      "train_auroc: 0.6870\n",
      "val_auroc: 0.6250\n"
     ]
    },
    {
     "name": "stderr",
     "output_type": "stream",
     "text": [
      "| |                     #                           | 500 Elapsed Time: 0:00:51\n"
     ]
    },
    {
     "name": "stdout",
     "output_type": "stream",
     "text": [
      "Epoch: 43/200\n",
      "training classification loss: 0.5300\n",
      "train_auroc: 0.6893\n",
      "val_auroc: 0.6309\n"
     ]
    },
    {
     "name": "stderr",
     "output_type": "stream",
     "text": [
      "| |                    #                            | 500 Elapsed Time: 0:00:51\n"
     ]
    },
    {
     "name": "stdout",
     "output_type": "stream",
     "text": [
      "Epoch: 44/200\n",
      "training classification loss: 0.5287\n",
      "train_auroc: 0.6949\n",
      "val_auroc: 0.6219\n"
     ]
    },
    {
     "name": "stderr",
     "output_type": "stream",
     "text": [
      "| |               #                                 | 500 Elapsed Time: 0:00:50\n"
     ]
    },
    {
     "name": "stdout",
     "output_type": "stream",
     "text": [
      "Epoch: 45/200\n",
      "training classification loss: 0.5250\n",
      "train_auroc: 0.7016\n",
      "val_auroc: 0.6391\n",
      "Model saved.\n"
     ]
    },
    {
     "name": "stderr",
     "output_type": "stream",
     "text": [
      "| |              #                                  | 500 Elapsed Time: 0:00:50\n"
     ]
    },
    {
     "name": "stdout",
     "output_type": "stream",
     "text": [
      "Epoch: 46/200\n",
      "training classification loss: 0.5261\n",
      "train_auroc: 0.6982\n",
      "val_auroc: 0.6336\n"
     ]
    },
    {
     "name": "stderr",
     "output_type": "stream",
     "text": [
      "| |          #                                      | 500 Elapsed Time: 0:00:50\n"
     ]
    },
    {
     "name": "stdout",
     "output_type": "stream",
     "text": [
      "Epoch: 47/200\n",
      "training classification loss: 0.5228\n",
      "train_auroc: 0.7050\n",
      "val_auroc: 0.6288\n"
     ]
    },
    {
     "name": "stderr",
     "output_type": "stream",
     "text": [
      "| |                               #                 | 500 Elapsed Time: 0:00:52\n"
     ]
    },
    {
     "name": "stdout",
     "output_type": "stream",
     "text": [
      "Epoch: 48/200\n",
      "training classification loss: 0.5271\n",
      "train_auroc: 0.7069\n",
      "val_auroc: 0.6267\n"
     ]
    },
    {
     "name": "stderr",
     "output_type": "stream",
     "text": [
      "| |         #                                       | 500 Elapsed Time: 0:00:49\n"
     ]
    },
    {
     "name": "stdout",
     "output_type": "stream",
     "text": [
      "Epoch: 49/200\n",
      "training classification loss: 0.5237\n",
      "train_auroc: 0.7100\n",
      "val_auroc: 0.6330\n"
     ]
    },
    {
     "name": "stderr",
     "output_type": "stream",
     "text": [
      "| |               #                                 | 500 Elapsed Time: 0:00:50\n"
     ]
    },
    {
     "name": "stdout",
     "output_type": "stream",
     "text": [
      "Epoch: 50/200\n",
      "training classification loss: 0.5243\n",
      "train_auroc: 0.7127\n",
      "val_auroc: 0.6365\n"
     ]
    },
    {
     "name": "stderr",
     "output_type": "stream",
     "text": [
      "| |                            #                    | 500 Elapsed Time: 0:00:51\n"
     ]
    },
    {
     "name": "stdout",
     "output_type": "stream",
     "text": [
      "Epoch: 51/200\n",
      "training classification loss: 0.5186\n",
      "train_auroc: 0.7144\n",
      "val_auroc: 0.6329\n"
     ]
    },
    {
     "name": "stderr",
     "output_type": "stream",
     "text": [
      "| |                #                                | 500 Elapsed Time: 0:00:50\n"
     ]
    },
    {
     "name": "stdout",
     "output_type": "stream",
     "text": [
      "Epoch: 52/200\n",
      "training classification loss: 0.5161\n",
      "train_auroc: 0.7182\n",
      "val_auroc: 0.6311\n"
     ]
    },
    {
     "name": "stderr",
     "output_type": "stream",
     "text": [
      "| |      #                                          | 500 Elapsed Time: 0:00:49\n"
     ]
    },
    {
     "name": "stdout",
     "output_type": "stream",
     "text": [
      "Epoch: 53/200\n",
      "training classification loss: 0.5178\n",
      "train_auroc: 0.7204\n",
      "val_auroc: 0.6314\n"
     ]
    },
    {
     "name": "stderr",
     "output_type": "stream",
     "text": [
      "| |                   #                             | 500 Elapsed Time: 0:00:50\n"
     ]
    },
    {
     "name": "stdout",
     "output_type": "stream",
     "text": [
      "Epoch: 54/200\n",
      "training classification loss: 0.5179\n",
      "train_auroc: 0.7191\n",
      "val_auroc: 0.6299\n"
     ]
    },
    {
     "name": "stderr",
     "output_type": "stream",
     "text": [
      "| |                        #                        | 500 Elapsed Time: 0:00:51\n"
     ]
    },
    {
     "name": "stdout",
     "output_type": "stream",
     "text": [
      "Epoch: 55/200\n",
      "training classification loss: 0.5159\n",
      "train_auroc: 0.7289\n",
      "val_auroc: 0.6316\n"
     ]
    },
    {
     "name": "stderr",
     "output_type": "stream",
     "text": [
      "| |     #                                           | 500 Elapsed Time: 0:00:49\n"
     ]
    },
    {
     "name": "stdout",
     "output_type": "stream",
     "text": [
      "Epoch: 56/200\n",
      "training classification loss: 0.5157\n",
      "train_auroc: 0.7245\n",
      "val_auroc: 0.6344\n"
     ]
    },
    {
     "name": "stderr",
     "output_type": "stream",
     "text": [
      "| |   #                                             | 500 Elapsed Time: 0:00:49\n"
     ]
    },
    {
     "name": "stdout",
     "output_type": "stream",
     "text": [
      "Epoch: 57/200\n",
      "training classification loss: 0.5118\n",
      "train_auroc: 0.7308\n",
      "val_auroc: 0.6377\n"
     ]
    },
    {
     "name": "stderr",
     "output_type": "stream",
     "text": [
      "| |              #                                  | 500 Elapsed Time: 0:00:47\n"
     ]
    },
    {
     "name": "stdout",
     "output_type": "stream",
     "text": [
      "Epoch: 58/200\n",
      "training classification loss: 0.5077\n",
      "train_auroc: 0.7354\n",
      "val_auroc: 0.6324\n"
     ]
    },
    {
     "name": "stderr",
     "output_type": "stream",
     "text": [
      "| |       #                                         | 500 Elapsed Time: 0:00:49\n"
     ]
    },
    {
     "name": "stdout",
     "output_type": "stream",
     "text": [
      "Epoch: 59/200\n",
      "training classification loss: 0.5097\n",
      "train_auroc: 0.7350\n",
      "val_auroc: 0.6374\n"
     ]
    },
    {
     "name": "stderr",
     "output_type": "stream",
     "text": [
      "| |                    #                            | 500 Elapsed Time: 0:00:51\n"
     ]
    },
    {
     "name": "stdout",
     "output_type": "stream",
     "text": [
      "Epoch: 60/200\n",
      "training classification loss: 0.5074\n",
      "train_auroc: 0.7370\n",
      "val_auroc: 0.6358\n"
     ]
    },
    {
     "name": "stderr",
     "output_type": "stream",
     "text": [
      "| |                      #                          | 500 Elapsed Time: 0:00:51\n"
     ]
    },
    {
     "name": "stdout",
     "output_type": "stream",
     "text": [
      "Epoch: 61/200\n",
      "training classification loss: 0.5084\n",
      "train_auroc: 0.7370\n",
      "val_auroc: 0.6310\n"
     ]
    },
    {
     "name": "stderr",
     "output_type": "stream",
     "text": [
      "| |       #                                         | 500 Elapsed Time: 0:00:49\n"
     ]
    },
    {
     "name": "stdout",
     "output_type": "stream",
     "text": [
      "Epoch: 62/200\n",
      "training classification loss: 0.5031\n",
      "train_auroc: 0.7442\n",
      "val_auroc: 0.6364\n"
     ]
    },
    {
     "name": "stderr",
     "output_type": "stream",
     "text": [
      "| |                 #                               | 500 Elapsed Time: 0:00:50\n"
     ]
    },
    {
     "name": "stdout",
     "output_type": "stream",
     "text": [
      "Epoch: 63/200\n",
      "training classification loss: 0.5030\n",
      "train_auroc: 0.7452\n",
      "val_auroc: 0.6326\n"
     ]
    },
    {
     "name": "stderr",
     "output_type": "stream",
     "text": [
      "| |                      #                          | 500 Elapsed Time: 0:00:51\n"
     ]
    },
    {
     "name": "stdout",
     "output_type": "stream",
     "text": [
      "Epoch: 64/200\n",
      "training classification loss: 0.4961\n",
      "train_auroc: 0.7540\n",
      "val_auroc: 0.6335\n"
     ]
    },
    {
     "name": "stderr",
     "output_type": "stream",
     "text": [
      "| |                      #                          | 500 Elapsed Time: 0:00:51\n"
     ]
    },
    {
     "name": "stdout",
     "output_type": "stream",
     "text": [
      "Epoch: 65/200\n",
      "training classification loss: 0.5017\n",
      "train_auroc: 0.7499\n",
      "val_auroc: 0.6349\n"
     ]
    },
    {
     "name": "stderr",
     "output_type": "stream",
     "text": [
      "| |  #                                              | 500 Elapsed Time: 0:00:49\n"
     ]
    },
    {
     "name": "stdout",
     "output_type": "stream",
     "text": [
      "Epoch: 66/200\n",
      "training classification loss: 0.4895\n",
      "train_auroc: 0.7570\n",
      "val_auroc: 0.6314\n"
     ]
    },
    {
     "name": "stderr",
     "output_type": "stream",
     "text": [
      "| |                    #                            | 500 Elapsed Time: 0:00:51\n"
     ]
    },
    {
     "name": "stdout",
     "output_type": "stream",
     "text": [
      "Epoch: 67/200\n",
      "training classification loss: 0.4903\n",
      "train_auroc: 0.7613\n",
      "val_auroc: 0.6324\n"
     ]
    },
    {
     "name": "stderr",
     "output_type": "stream",
     "text": [
      "| |                  #                              | 500 Elapsed Time: 0:00:50\n"
     ]
    },
    {
     "name": "stdout",
     "output_type": "stream",
     "text": [
      "Epoch: 68/200\n",
      "training classification loss: 0.4907\n",
      "train_auroc: 0.7627\n",
      "val_auroc: 0.6370\n"
     ]
    },
    {
     "name": "stderr",
     "output_type": "stream",
     "text": [
      "| |            #                                    | 500 Elapsed Time: 0:00:50\n"
     ]
    },
    {
     "name": "stdout",
     "output_type": "stream",
     "text": [
      "Epoch: 69/200\n",
      "training classification loss: 0.4895\n",
      "train_auroc: 0.7662\n",
      "val_auroc: 0.6237\n"
     ]
    },
    {
     "name": "stderr",
     "output_type": "stream",
     "text": [
      "| |                       #                         | 500 Elapsed Time: 0:00:51\n"
     ]
    },
    {
     "name": "stdout",
     "output_type": "stream",
     "text": [
      "Epoch: 70/200\n",
      "training classification loss: 0.4864\n",
      "train_auroc: 0.7665\n",
      "val_auroc: 0.6315\n"
     ]
    },
    {
     "name": "stderr",
     "output_type": "stream",
     "text": [
      "| |                  #                              | 500 Elapsed Time: 0:00:50\n"
     ]
    },
    {
     "name": "stdout",
     "output_type": "stream",
     "text": [
      "Epoch: 71/200\n",
      "training classification loss: 0.4854\n",
      "train_auroc: 0.7742\n",
      "val_auroc: 0.6257\n"
     ]
    },
    {
     "name": "stderr",
     "output_type": "stream",
     "text": [
      "| |       #                                         | 500 Elapsed Time: 0:00:49\n"
     ]
    },
    {
     "name": "stdout",
     "output_type": "stream",
     "text": [
      "Epoch: 72/200\n",
      "training classification loss: 0.4814\n",
      "train_auroc: 0.7804\n",
      "val_auroc: 0.6298\n"
     ]
    },
    {
     "name": "stderr",
     "output_type": "stream",
     "text": [
      "| |     #                                           | 500 Elapsed Time: 0:00:49\n"
     ]
    },
    {
     "name": "stdout",
     "output_type": "stream",
     "text": [
      "Epoch: 73/200\n",
      "training classification loss: 0.4753\n",
      "train_auroc: 0.7808\n",
      "val_auroc: 0.6302\n"
     ]
    },
    {
     "name": "stderr",
     "output_type": "stream",
     "text": [
      "| |                   #                             | 500 Elapsed Time: 0:00:50\n"
     ]
    },
    {
     "name": "stdout",
     "output_type": "stream",
     "text": [
      "Epoch: 74/200\n",
      "training classification loss: 0.4741\n",
      "train_auroc: 0.7836\n",
      "val_auroc: 0.6302\n"
     ]
    },
    {
     "name": "stderr",
     "output_type": "stream",
     "text": [
      "| |             #                                   | 500 Elapsed Time: 0:00:50\n"
     ]
    },
    {
     "name": "stdout",
     "output_type": "stream",
     "text": [
      "Epoch: 75/200\n",
      "training classification loss: 0.4688\n",
      "train_auroc: 0.7902\n",
      "val_auroc: 0.6330\n"
     ]
    },
    {
     "name": "stderr",
     "output_type": "stream",
     "text": [
      "| |            #                                    | 500 Elapsed Time: 0:00:50\n"
     ]
    },
    {
     "name": "stdout",
     "output_type": "stream",
     "text": [
      "Epoch: 76/200\n",
      "training classification loss: 0.4700\n",
      "train_auroc: 0.7900\n",
      "val_auroc: 0.6345\n"
     ]
    },
    {
     "name": "stderr",
     "output_type": "stream",
     "text": [
      "| |              #                                  | 500 Elapsed Time: 0:00:50\n"
     ]
    },
    {
     "name": "stdout",
     "output_type": "stream",
     "text": [
      "Epoch: 77/200\n",
      "training classification loss: 0.4693\n",
      "train_auroc: 0.7902\n",
      "val_auroc: 0.6327\n"
     ]
    },
    {
     "name": "stderr",
     "output_type": "stream",
     "text": [
      "| |                     #                           | 500 Elapsed Time: 0:00:51\n"
     ]
    },
    {
     "name": "stdout",
     "output_type": "stream",
     "text": [
      "Epoch: 78/200\n",
      "training classification loss: 0.4645\n",
      "train_auroc: 0.7977\n",
      "val_auroc: 0.6251\n"
     ]
    },
    {
     "name": "stderr",
     "output_type": "stream",
     "text": [
      "| |                    #                            | 500 Elapsed Time: 0:00:51\n"
     ]
    },
    {
     "name": "stdout",
     "output_type": "stream",
     "text": [
      "Epoch: 79/200\n",
      "training classification loss: 0.4608\n",
      "train_auroc: 0.7982\n",
      "val_auroc: 0.6292\n"
     ]
    },
    {
     "name": "stderr",
     "output_type": "stream",
     "text": [
      "| |       #                                         | 500 Elapsed Time: 0:00:49\n"
     ]
    },
    {
     "name": "stdout",
     "output_type": "stream",
     "text": [
      "Epoch: 80/200\n",
      "training classification loss: 0.4587\n",
      "train_auroc: 0.8031\n",
      "val_auroc: 0.6173\n"
     ]
    },
    {
     "name": "stderr",
     "output_type": "stream",
     "text": [
      "| |              #                                  | 500 Elapsed Time: 0:00:50\n"
     ]
    },
    {
     "name": "stdout",
     "output_type": "stream",
     "text": [
      "Epoch: 81/200\n",
      "training classification loss: 0.4559\n",
      "train_auroc: 0.8041\n",
      "val_auroc: 0.6207\n"
     ]
    },
    {
     "name": "stderr",
     "output_type": "stream",
     "text": [
      "| |               #                                 | 500 Elapsed Time: 0:00:50\n"
     ]
    },
    {
     "name": "stdout",
     "output_type": "stream",
     "text": [
      "Epoch: 82/200\n",
      "training classification loss: 0.4577\n",
      "train_auroc: 0.8088\n",
      "val_auroc: 0.6260\n"
     ]
    },
    {
     "name": "stderr",
     "output_type": "stream",
     "text": [
      "| |                #                                | 500 Elapsed Time: 0:00:50\n"
     ]
    },
    {
     "name": "stdout",
     "output_type": "stream",
     "text": [
      "Epoch: 83/200\n",
      "training classification loss: 0.4481\n",
      "train_auroc: 0.8118\n",
      "val_auroc: 0.6272\n"
     ]
    },
    {
     "name": "stderr",
     "output_type": "stream",
     "text": [
      "| |                    #                            | 500 Elapsed Time: 0:00:51\n"
     ]
    },
    {
     "name": "stdout",
     "output_type": "stream",
     "text": [
      "Epoch: 84/200\n",
      "training classification loss: 0.4477\n",
      "train_auroc: 0.8142\n",
      "val_auroc: 0.6280\n"
     ]
    },
    {
     "name": "stderr",
     "output_type": "stream",
     "text": [
      "| |           #                                     | 500 Elapsed Time: 0:00:50\n"
     ]
    },
    {
     "name": "stdout",
     "output_type": "stream",
     "text": [
      "Epoch: 85/200\n",
      "training classification loss: 0.4451\n",
      "train_auroc: 0.8195\n",
      "val_auroc: 0.6242\n"
     ]
    },
    {
     "name": "stderr",
     "output_type": "stream",
     "text": [
      "| |              #                                  | 500 Elapsed Time: 0:00:50\n"
     ]
    },
    {
     "name": "stdout",
     "output_type": "stream",
     "text": [
      "Epoch: 86/200\n",
      "training classification loss: 0.4403\n",
      "train_auroc: 0.8229\n",
      "val_auroc: 0.6242\n"
     ]
    },
    {
     "name": "stderr",
     "output_type": "stream",
     "text": [
      "| |                #                                | 500 Elapsed Time: 0:00:50\n"
     ]
    },
    {
     "name": "stdout",
     "output_type": "stream",
     "text": [
      "Epoch: 87/200\n",
      "training classification loss: 0.4418\n",
      "train_auroc: 0.8255\n",
      "val_auroc: 0.6260\n"
     ]
    },
    {
     "name": "stderr",
     "output_type": "stream",
     "text": [
      "| |                     #                           | 500 Elapsed Time: 0:00:51\n"
     ]
    },
    {
     "name": "stdout",
     "output_type": "stream",
     "text": [
      "Epoch: 88/200\n",
      "training classification loss: 0.4320\n",
      "train_auroc: 0.8319\n",
      "val_auroc: 0.6357\n"
     ]
    },
    {
     "name": "stderr",
     "output_type": "stream",
     "text": [
      "| |                      #                          | 500 Elapsed Time: 0:00:51\n"
     ]
    },
    {
     "name": "stdout",
     "output_type": "stream",
     "text": [
      "Epoch: 89/200\n",
      "training classification loss: 0.4339\n",
      "train_auroc: 0.8332\n",
      "val_auroc: 0.6330\n"
     ]
    },
    {
     "name": "stderr",
     "output_type": "stream",
     "text": [
      "| |                   #                             | 500 Elapsed Time: 0:00:50\n"
     ]
    },
    {
     "name": "stdout",
     "output_type": "stream",
     "text": [
      "Epoch: 90/200\n",
      "training classification loss: 0.4258\n",
      "train_auroc: 0.8376\n",
      "val_auroc: 0.6305\n"
     ]
    },
    {
     "name": "stderr",
     "output_type": "stream",
     "text": [
      "| |                     #                           | 500 Elapsed Time: 0:00:51\n"
     ]
    },
    {
     "name": "stdout",
     "output_type": "stream",
     "text": [
      "Epoch: 91/200\n",
      "training classification loss: 0.4232\n",
      "train_auroc: 0.8415\n",
      "val_auroc: 0.6217\n"
     ]
    },
    {
     "name": "stderr",
     "output_type": "stream",
     "text": [
      "| |      #                                          | 500 Elapsed Time: 0:00:49\n"
     ]
    },
    {
     "name": "stdout",
     "output_type": "stream",
     "text": [
      "Epoch: 92/200\n",
      "training classification loss: 0.4241\n",
      "train_auroc: 0.8412\n",
      "val_auroc: 0.6136\n"
     ]
    },
    {
     "name": "stderr",
     "output_type": "stream",
     "text": [
      "| |       #                                         | 500 Elapsed Time: 0:00:49\n"
     ]
    },
    {
     "name": "stdout",
     "output_type": "stream",
     "text": [
      "Epoch: 93/200\n",
      "training classification loss: 0.4180\n",
      "train_auroc: 0.8461\n",
      "val_auroc: 0.6262\n"
     ]
    },
    {
     "name": "stderr",
     "output_type": "stream",
     "text": [
      "| |                      #                          | 500 Elapsed Time: 0:00:51\n"
     ]
    },
    {
     "name": "stdout",
     "output_type": "stream",
     "text": [
      "Epoch: 94/200\n",
      "training classification loss: 0.4110\n",
      "train_auroc: 0.8504\n",
      "val_auroc: 0.6130\n"
     ]
    },
    {
     "name": "stderr",
     "output_type": "stream",
     "text": [
      "| |                            #                    | 500 Elapsed Time: 0:00:51\n"
     ]
    },
    {
     "name": "stdout",
     "output_type": "stream",
     "text": [
      "Epoch: 95/200\n",
      "training classification loss: 0.4104\n",
      "train_auroc: 0.8518\n",
      "val_auroc: 0.6167\n"
     ]
    },
    {
     "name": "stderr",
     "output_type": "stream",
     "text": [
      "| |     #                                           | 500 Elapsed Time: 0:00:49\n"
     ]
    },
    {
     "name": "stdout",
     "output_type": "stream",
     "text": [
      "Epoch: 96/200\n",
      "training classification loss: 0.4054\n",
      "train_auroc: 0.8570\n",
      "val_auroc: 0.6265\n"
     ]
    },
    {
     "name": "stderr",
     "output_type": "stream",
     "text": [
      "| |                        #                        | 500 Elapsed Time: 0:00:51\n"
     ]
    },
    {
     "name": "stdout",
     "output_type": "stream",
     "text": [
      "Epoch: 97/200\n",
      "training classification loss: 0.4016\n",
      "train_auroc: 0.8611\n",
      "val_auroc: 0.6249\n"
     ]
    },
    {
     "name": "stderr",
     "output_type": "stream",
     "text": [
      "| |            #                                    | 500 Elapsed Time: 0:00:50\n"
     ]
    },
    {
     "name": "stdout",
     "output_type": "stream",
     "text": [
      "Epoch: 98/200\n",
      "training classification loss: 0.4052\n",
      "train_auroc: 0.8585\n",
      "val_auroc: 0.6151\n"
     ]
    },
    {
     "name": "stderr",
     "output_type": "stream",
     "text": [
      "| |           #                                     | 500 Elapsed Time: 0:00:50\n"
     ]
    },
    {
     "name": "stdout",
     "output_type": "stream",
     "text": [
      "Epoch: 99/200\n",
      "training classification loss: 0.3942\n",
      "train_auroc: 0.8658\n",
      "val_auroc: 0.6155\n"
     ]
    },
    {
     "name": "stderr",
     "output_type": "stream",
     "text": [
      "| |             #                                   | 500 Elapsed Time: 0:00:50\n"
     ]
    },
    {
     "name": "stdout",
     "output_type": "stream",
     "text": [
      "Epoch: 100/200\n",
      "training classification loss: 0.3917\n",
      "train_auroc: 0.8688\n",
      "val_auroc: 0.6250\n"
     ]
    },
    {
     "name": "stderr",
     "output_type": "stream",
     "text": [
      "| | #                                               | 500 Elapsed Time: 0:00:49\n"
     ]
    },
    {
     "name": "stdout",
     "output_type": "stream",
     "text": [
      "Epoch: 101/200\n",
      "training classification loss: 0.3820\n",
      "train_auroc: 0.8791\n",
      "val_auroc: 0.6214\n"
     ]
    },
    {
     "name": "stderr",
     "output_type": "stream",
     "text": [
      "| |                         #                       | 500 Elapsed Time: 0:00:51\n"
     ]
    },
    {
     "name": "stdout",
     "output_type": "stream",
     "text": [
      "Epoch: 102/200\n",
      "training classification loss: 0.3833\n",
      "train_auroc: 0.8738\n",
      "val_auroc: 0.6132\n"
     ]
    },
    {
     "name": "stderr",
     "output_type": "stream",
     "text": [
      "| |                 #                               | 500 Elapsed Time: 0:00:50\n"
     ]
    },
    {
     "name": "stdout",
     "output_type": "stream",
     "text": [
      "Epoch: 103/200\n",
      "training classification loss: 0.3779\n",
      "train_auroc: 0.8800\n",
      "val_auroc: 0.6220\n"
     ]
    },
    {
     "name": "stderr",
     "output_type": "stream",
     "text": [
      "| |   #                                             | 500 Elapsed Time: 0:00:49\n"
     ]
    },
    {
     "name": "stdout",
     "output_type": "stream",
     "text": [
      "Epoch: 104/200\n",
      "training classification loss: 0.3772\n",
      "train_auroc: 0.8786\n",
      "val_auroc: 0.6196\n"
     ]
    },
    {
     "name": "stderr",
     "output_type": "stream",
     "text": [
      "| |              #                                  | 500 Elapsed Time: 0:00:50\n"
     ]
    },
    {
     "name": "stdout",
     "output_type": "stream",
     "text": [
      "Epoch: 105/200\n",
      "training classification loss: 0.3672\n",
      "train_auroc: 0.8873\n",
      "val_auroc: 0.6190\n"
     ]
    },
    {
     "name": "stderr",
     "output_type": "stream",
     "text": [
      "| |              #                                  | 500 Elapsed Time: 0:00:50\n"
     ]
    },
    {
     "name": "stdout",
     "output_type": "stream",
     "text": [
      "Epoch: 106/200\n",
      "training classification loss: 0.3715\n",
      "train_auroc: 0.8843\n",
      "val_auroc: 0.6235\n"
     ]
    },
    {
     "name": "stderr",
     "output_type": "stream",
     "text": [
      "| |                          #                      | 500 Elapsed Time: 0:00:51\n"
     ]
    },
    {
     "name": "stdout",
     "output_type": "stream",
     "text": [
      "Epoch: 107/200\n",
      "training classification loss: 0.3567\n",
      "train_auroc: 0.8951\n",
      "val_auroc: 0.6331\n"
     ]
    },
    {
     "name": "stderr",
     "output_type": "stream",
     "text": [
      "| |                 #                               | 500 Elapsed Time: 0:00:50\n"
     ]
    },
    {
     "name": "stdout",
     "output_type": "stream",
     "text": [
      "Epoch: 108/200\n",
      "training classification loss: 0.3604\n",
      "train_auroc: 0.8900\n",
      "val_auroc: 0.6132\n"
     ]
    },
    {
     "name": "stderr",
     "output_type": "stream",
     "text": [
      "| |                               #                 | 500 Elapsed Time: 0:00:52\n"
     ]
    },
    {
     "name": "stdout",
     "output_type": "stream",
     "text": [
      "Epoch: 109/200\n",
      "training classification loss: 0.3480\n",
      "train_auroc: 0.9016\n",
      "val_auroc: 0.6280\n"
     ]
    },
    {
     "name": "stderr",
     "output_type": "stream",
     "text": [
      "| |              #                                  | 500 Elapsed Time: 0:00:50\n"
     ]
    },
    {
     "name": "stdout",
     "output_type": "stream",
     "text": [
      "Epoch: 110/200\n",
      "training classification loss: 0.3556\n",
      "train_auroc: 0.8955\n",
      "val_auroc: 0.6172\n"
     ]
    },
    {
     "name": "stderr",
     "output_type": "stream",
     "text": [
      "| |                    #                            | 500 Elapsed Time: 0:00:51\n"
     ]
    },
    {
     "name": "stdout",
     "output_type": "stream",
     "text": [
      "Epoch: 111/200\n",
      "training classification loss: 0.3472\n",
      "train_auroc: 0.9008\n",
      "val_auroc: 0.6152\n"
     ]
    },
    {
     "name": "stderr",
     "output_type": "stream",
     "text": [
      "| |             #                                   | 500 Elapsed Time: 0:00:50\n"
     ]
    },
    {
     "name": "stdout",
     "output_type": "stream",
     "text": [
      "Epoch: 112/200\n",
      "training classification loss: 0.3390\n",
      "train_auroc: 0.9078\n",
      "val_auroc: 0.6209\n"
     ]
    },
    {
     "name": "stderr",
     "output_type": "stream",
     "text": [
      "| |              #                                  | 500 Elapsed Time: 0:00:50\n"
     ]
    },
    {
     "name": "stdout",
     "output_type": "stream",
     "text": [
      "Epoch: 113/200\n",
      "training classification loss: 0.3339\n",
      "train_auroc: 0.9112\n",
      "val_auroc: 0.6180\n"
     ]
    },
    {
     "name": "stderr",
     "output_type": "stream",
     "text": [
      "| |                    #                            | 500 Elapsed Time: 0:00:51\n"
     ]
    },
    {
     "name": "stdout",
     "output_type": "stream",
     "text": [
      "Epoch: 114/200\n",
      "training classification loss: 0.3362\n",
      "train_auroc: 0.9083\n",
      "val_auroc: 0.6173\n"
     ]
    },
    {
     "name": "stderr",
     "output_type": "stream",
     "text": [
      "| | #                                               | 500 Elapsed Time: 0:00:49\n"
     ]
    },
    {
     "name": "stdout",
     "output_type": "stream",
     "text": [
      "Epoch: 115/200\n",
      "training classification loss: 0.3276\n",
      "train_auroc: 0.9137\n",
      "val_auroc: 0.6115\n"
     ]
    },
    {
     "name": "stderr",
     "output_type": "stream",
     "text": [
      "| |                    #                            | 500 Elapsed Time: 0:00:51\n"
     ]
    },
    {
     "name": "stdout",
     "output_type": "stream",
     "text": [
      "Epoch: 116/200\n",
      "training classification loss: 0.3217\n",
      "train_auroc: 0.9174\n",
      "val_auroc: 0.6088\n"
     ]
    },
    {
     "name": "stderr",
     "output_type": "stream",
     "text": [
      "| |             #                                   | 500 Elapsed Time: 0:00:50\n"
     ]
    },
    {
     "name": "stdout",
     "output_type": "stream",
     "text": [
      "Epoch: 117/200\n",
      "training classification loss: 0.3225\n",
      "train_auroc: 0.9191\n",
      "val_auroc: 0.6122\n"
     ]
    },
    {
     "name": "stderr",
     "output_type": "stream",
     "text": [
      "| |                             #                   | 500 Elapsed Time: 0:00:51\n"
     ]
    },
    {
     "name": "stdout",
     "output_type": "stream",
     "text": [
      "Epoch: 118/200\n",
      "training classification loss: 0.3157\n",
      "train_auroc: 0.9195\n",
      "val_auroc: 0.6232\n"
     ]
    },
    {
     "name": "stderr",
     "output_type": "stream",
     "text": [
      "| |                #                                | 500 Elapsed Time: 0:00:50\n"
     ]
    },
    {
     "name": "stdout",
     "output_type": "stream",
     "text": [
      "Epoch: 119/200\n",
      "training classification loss: 0.3122\n",
      "train_auroc: 0.9219\n",
      "val_auroc: 0.6127\n"
     ]
    },
    {
     "name": "stderr",
     "output_type": "stream",
     "text": [
      "| |                 #                               | 500 Elapsed Time: 0:00:50\n"
     ]
    },
    {
     "name": "stdout",
     "output_type": "stream",
     "text": [
      "Epoch: 120/200\n",
      "training classification loss: 0.3085\n",
      "train_auroc: 0.9252\n",
      "val_auroc: 0.6103\n"
     ]
    },
    {
     "name": "stderr",
     "output_type": "stream",
     "text": [
      "| |                #                                | 500 Elapsed Time: 0:00:50\n"
     ]
    },
    {
     "name": "stdout",
     "output_type": "stream",
     "text": [
      "Epoch: 121/200\n",
      "training classification loss: 0.2999\n",
      "train_auroc: 0.9282\n",
      "val_auroc: 0.6221\n"
     ]
    },
    {
     "name": "stderr",
     "output_type": "stream",
     "text": [
      "| |      #                                          | 500 Elapsed Time: 0:00:49\n"
     ]
    },
    {
     "name": "stdout",
     "output_type": "stream",
     "text": [
      "Epoch: 122/200\n",
      "training classification loss: 0.2955\n",
      "train_auroc: 0.9315\n",
      "val_auroc: 0.6119\n"
     ]
    },
    {
     "name": "stderr",
     "output_type": "stream",
     "text": [
      "| |  #                                              | 500 Elapsed Time: 0:00:49\n"
     ]
    },
    {
     "name": "stdout",
     "output_type": "stream",
     "text": [
      "Epoch: 123/200\n",
      "training classification loss: 0.2902\n",
      "train_auroc: 0.9343\n",
      "val_auroc: 0.6148\n"
     ]
    },
    {
     "name": "stderr",
     "output_type": "stream",
     "text": [
      "| |                #                                | 500 Elapsed Time: 0:00:50\n"
     ]
    },
    {
     "name": "stdout",
     "output_type": "stream",
     "text": [
      "Epoch: 124/200\n",
      "training classification loss: 0.2895\n",
      "train_auroc: 0.9339\n",
      "val_auroc: 0.6175\n"
     ]
    },
    {
     "name": "stderr",
     "output_type": "stream",
     "text": [
      "| |                         #                       | 500 Elapsed Time: 0:00:51\n"
     ]
    },
    {
     "name": "stdout",
     "output_type": "stream",
     "text": [
      "Epoch: 125/200\n",
      "training classification loss: 0.2920\n",
      "train_auroc: 0.9335\n",
      "val_auroc: 0.6096\n"
     ]
    },
    {
     "name": "stderr",
     "output_type": "stream",
     "text": [
      "| |                        #                        | 500 Elapsed Time: 0:00:51\n"
     ]
    },
    {
     "name": "stdout",
     "output_type": "stream",
     "text": [
      "Epoch: 126/200\n",
      "training classification loss: 0.2748\n",
      "train_auroc: 0.9421\n",
      "val_auroc: 0.6103\n"
     ]
    },
    {
     "name": "stderr",
     "output_type": "stream",
     "text": [
      "| |  #                                              | 500 Elapsed Time: 0:00:49\n"
     ]
    },
    {
     "name": "stdout",
     "output_type": "stream",
     "text": [
      "Epoch: 127/200\n",
      "training classification loss: 0.2716\n",
      "train_auroc: 0.9440\n",
      "val_auroc: 0.6021\n"
     ]
    },
    {
     "name": "stderr",
     "output_type": "stream",
     "text": [
      "| |                    #                            | 500 Elapsed Time: 0:00:51\n"
     ]
    },
    {
     "name": "stdout",
     "output_type": "stream",
     "text": [
      "Epoch: 128/200\n",
      "training classification loss: 0.2653\n",
      "train_auroc: 0.9477\n",
      "val_auroc: 0.6166\n"
     ]
    },
    {
     "name": "stderr",
     "output_type": "stream",
     "text": [
      "| |                     #                           | 500 Elapsed Time: 0:00:51\n"
     ]
    },
    {
     "name": "stdout",
     "output_type": "stream",
     "text": [
      "Epoch: 129/200\n",
      "training classification loss: 0.2709\n",
      "train_auroc: 0.9431\n",
      "val_auroc: 0.6099\n"
     ]
    },
    {
     "name": "stderr",
     "output_type": "stream",
     "text": [
      "| | #                                               | 500 Elapsed Time: 0:00:49\n"
     ]
    },
    {
     "name": "stdout",
     "output_type": "stream",
     "text": [
      "Epoch: 130/200\n",
      "training classification loss: 0.2644\n",
      "train_auroc: 0.9469\n",
      "val_auroc: 0.6144\n"
     ]
    },
    {
     "name": "stderr",
     "output_type": "stream",
     "text": [
      "| |                                #                | 500 Elapsed Time: 0:00:52\n"
     ]
    },
    {
     "name": "stdout",
     "output_type": "stream",
     "text": [
      "Epoch: 131/200\n",
      "training classification loss: 0.2594\n",
      "train_auroc: 0.9488\n",
      "val_auroc: 0.6084\n"
     ]
    },
    {
     "name": "stderr",
     "output_type": "stream",
     "text": [
      "| |                               #                 | 500 Elapsed Time: 0:00:52\n"
     ]
    },
    {
     "name": "stdout",
     "output_type": "stream",
     "text": [
      "Epoch: 132/200\n",
      "training classification loss: 0.2579\n",
      "train_auroc: 0.9491\n",
      "val_auroc: 0.6128\n"
     ]
    },
    {
     "name": "stderr",
     "output_type": "stream",
     "text": [
      "| |        #                                        | 500 Elapsed Time: 0:00:49\n"
     ]
    },
    {
     "name": "stdout",
     "output_type": "stream",
     "text": [
      "Epoch: 133/200\n",
      "training classification loss: 0.2524\n",
      "train_auroc: 0.9518\n",
      "val_auroc: 0.6179\n"
     ]
    },
    {
     "name": "stderr",
     "output_type": "stream",
     "text": [
      "| |                          #                      | 500 Elapsed Time: 0:00:51\n"
     ]
    },
    {
     "name": "stdout",
     "output_type": "stream",
     "text": [
      "Epoch: 134/200\n",
      "training classification loss: 0.2396\n",
      "train_auroc: 0.9577\n",
      "val_auroc: 0.6068\n"
     ]
    },
    {
     "name": "stderr",
     "output_type": "stream",
     "text": [
      "| |                #                                | 500 Elapsed Time: 0:00:50\n"
     ]
    },
    {
     "name": "stdout",
     "output_type": "stream",
     "text": [
      "Epoch: 135/200\n",
      "training classification loss: 0.2441\n",
      "train_auroc: 0.9550\n",
      "val_auroc: 0.6183\n"
     ]
    },
    {
     "name": "stderr",
     "output_type": "stream",
     "text": [
      "| |        #                                        | 500 Elapsed Time: 0:00:49\n"
     ]
    },
    {
     "name": "stdout",
     "output_type": "stream",
     "text": [
      "Epoch: 136/200\n",
      "training classification loss: 0.2393\n",
      "train_auroc: 0.9574\n",
      "val_auroc: 0.6077\n"
     ]
    },
    {
     "name": "stderr",
     "output_type": "stream",
     "text": [
      "| |          #                                      | 500 Elapsed Time: 0:00:50\n"
     ]
    },
    {
     "name": "stdout",
     "output_type": "stream",
     "text": [
      "Epoch: 137/200\n",
      "training classification loss: 0.2331\n",
      "train_auroc: 0.9593\n",
      "val_auroc: 0.6130\n"
     ]
    },
    {
     "name": "stderr",
     "output_type": "stream",
     "text": [
      "| |                  #                              | 500 Elapsed Time: 0:00:50\n"
     ]
    },
    {
     "name": "stdout",
     "output_type": "stream",
     "text": [
      "Epoch: 138/200\n",
      "training classification loss: 0.2294\n",
      "train_auroc: 0.9610\n",
      "val_auroc: 0.6149\n"
     ]
    },
    {
     "name": "stderr",
     "output_type": "stream",
     "text": [
      "| |           #                                     | 500 Elapsed Time: 0:00:50\n"
     ]
    },
    {
     "name": "stdout",
     "output_type": "stream",
     "text": [
      "Epoch: 139/200\n",
      "training classification loss: 0.2266\n",
      "train_auroc: 0.9615\n",
      "val_auroc: 0.6115\n"
     ]
    },
    {
     "name": "stderr",
     "output_type": "stream",
     "text": [
      "| |          #                                      | 500 Elapsed Time: 0:00:50\n"
     ]
    },
    {
     "name": "stdout",
     "output_type": "stream",
     "text": [
      "Epoch: 140/200\n",
      "training classification loss: 0.2258\n",
      "train_auroc: 0.9617\n",
      "val_auroc: 0.6126\n"
     ]
    },
    {
     "name": "stderr",
     "output_type": "stream",
     "text": [
      "| |                        #                        | 500 Elapsed Time: 0:00:51\n"
     ]
    },
    {
     "name": "stdout",
     "output_type": "stream",
     "text": [
      "Epoch: 141/200\n",
      "training classification loss: 0.2196\n",
      "train_auroc: 0.9651\n",
      "val_auroc: 0.6035\n"
     ]
    },
    {
     "name": "stderr",
     "output_type": "stream",
     "text": [
      "| | #                                               | 500 Elapsed Time: 0:00:49\n"
     ]
    },
    {
     "name": "stdout",
     "output_type": "stream",
     "text": [
      "Epoch: 142/200\n",
      "training classification loss: 0.2198\n",
      "train_auroc: 0.9634\n",
      "val_auroc: 0.6083\n"
     ]
    },
    {
     "name": "stderr",
     "output_type": "stream",
     "text": [
      "| |    #                                            | 500 Elapsed Time: 0:00:49\n"
     ]
    },
    {
     "name": "stdout",
     "output_type": "stream",
     "text": [
      "Epoch: 143/200\n",
      "training classification loss: 0.2132\n",
      "train_auroc: 0.9677\n",
      "val_auroc: 0.5950\n"
     ]
    },
    {
     "name": "stderr",
     "output_type": "stream",
     "text": [
      "| |      #                                          | 500 Elapsed Time: 0:00:48\n"
     ]
    },
    {
     "name": "stdout",
     "output_type": "stream",
     "text": [
      "Epoch: 144/200\n",
      "training classification loss: 0.2073\n",
      "train_auroc: 0.9690\n",
      "val_auroc: 0.6115\n"
     ]
    },
    {
     "name": "stderr",
     "output_type": "stream",
     "text": [
      "| |                    #                            | 500 Elapsed Time: 0:00:51\n"
     ]
    },
    {
     "name": "stdout",
     "output_type": "stream",
     "text": [
      "Epoch: 145/200\n",
      "training classification loss: 0.2110\n",
      "train_auroc: 0.9678\n",
      "val_auroc: 0.6159\n"
     ]
    },
    {
     "name": "stderr",
     "output_type": "stream",
     "text": [
      "| |                 #                               | 500 Elapsed Time: 0:00:50\n"
     ]
    },
    {
     "name": "stdout",
     "output_type": "stream",
     "text": [
      "Epoch: 146/200\n",
      "training classification loss: 0.2034\n",
      "train_auroc: 0.9697\n",
      "val_auroc: 0.6117\n"
     ]
    },
    {
     "name": "stderr",
     "output_type": "stream",
     "text": [
      "| |                       #                         | 500 Elapsed Time: 0:00:51\n"
     ]
    },
    {
     "name": "stdout",
     "output_type": "stream",
     "text": [
      "Epoch: 147/200\n",
      "training classification loss: 0.1981\n",
      "train_auroc: 0.9715\n",
      "val_auroc: 0.6028\n"
     ]
    },
    {
     "name": "stderr",
     "output_type": "stream",
     "text": [
      "| |                         #                       | 500 Elapsed Time: 0:00:51\n"
     ]
    },
    {
     "name": "stdout",
     "output_type": "stream",
     "text": [
      "Epoch: 148/200\n",
      "training classification loss: 0.1985\n",
      "train_auroc: 0.9710\n",
      "val_auroc: 0.6098\n"
     ]
    },
    {
     "name": "stderr",
     "output_type": "stream",
     "text": [
      "| |#                                                | 500 Elapsed Time: 0:00:48\n"
     ]
    },
    {
     "name": "stdout",
     "output_type": "stream",
     "text": [
      "Epoch: 149/200\n",
      "training classification loss: 0.1951\n",
      "train_auroc: 0.9725\n",
      "val_auroc: 0.6098\n"
     ]
    },
    {
     "name": "stderr",
     "output_type": "stream",
     "text": [
      "| |                        #                        | 500 Elapsed Time: 0:00:51\n"
     ]
    },
    {
     "name": "stdout",
     "output_type": "stream",
     "text": [
      "Epoch: 150/200\n",
      "training classification loss: 0.1937\n",
      "train_auroc: 0.9729\n",
      "val_auroc: 0.6011\n"
     ]
    },
    {
     "name": "stderr",
     "output_type": "stream",
     "text": [
      "| |                      #                          | 500 Elapsed Time: 0:00:51\n"
     ]
    },
    {
     "name": "stdout",
     "output_type": "stream",
     "text": [
      "Epoch: 151/200\n",
      "training classification loss: 0.1823\n",
      "train_auroc: 0.9768\n",
      "val_auroc: 0.6086\n"
     ]
    },
    {
     "name": "stderr",
     "output_type": "stream",
     "text": [
      "| |                         #                       | 500 Elapsed Time: 0:00:51\n"
     ]
    },
    {
     "name": "stdout",
     "output_type": "stream",
     "text": [
      "Epoch: 152/200\n",
      "training classification loss: 0.1799\n",
      "train_auroc: 0.9766\n",
      "val_auroc: 0.6072\n"
     ]
    },
    {
     "name": "stderr",
     "output_type": "stream",
     "text": [
      "| |                        #                        | 500 Elapsed Time: 0:00:51\n"
     ]
    },
    {
     "name": "stdout",
     "output_type": "stream",
     "text": [
      "Epoch: 153/200\n",
      "training classification loss: 0.1782\n",
      "train_auroc: 0.9774\n",
      "val_auroc: 0.6060\n"
     ]
    },
    {
     "name": "stderr",
     "output_type": "stream",
     "text": [
      "| |            #                                    | 500 Elapsed Time: 0:00:50\n"
     ]
    },
    {
     "name": "stdout",
     "output_type": "stream",
     "text": [
      "Epoch: 154/200\n",
      "training classification loss: 0.1783\n",
      "train_auroc: 0.9767\n",
      "val_auroc: 0.6094\n"
     ]
    },
    {
     "name": "stderr",
     "output_type": "stream",
     "text": [
      "| |         #                                       | 500 Elapsed Time: 0:00:49\n"
     ]
    },
    {
     "name": "stdout",
     "output_type": "stream",
     "text": [
      "Epoch: 155/200\n",
      "training classification loss: 0.1746\n",
      "train_auroc: 0.9778\n",
      "val_auroc: 0.6086\n"
     ]
    },
    {
     "name": "stderr",
     "output_type": "stream",
     "text": [
      "| |         #                                       | 500 Elapsed Time: 0:00:49\n"
     ]
    },
    {
     "name": "stdout",
     "output_type": "stream",
     "text": [
      "Epoch: 156/200\n",
      "training classification loss: 0.1695\n",
      "train_auroc: 0.9800\n",
      "val_auroc: 0.6113\n"
     ]
    },
    {
     "name": "stderr",
     "output_type": "stream",
     "text": [
      "| |     #                                           | 500 Elapsed Time: 0:00:49\n"
     ]
    },
    {
     "name": "stdout",
     "output_type": "stream",
     "text": [
      "Epoch: 157/200\n",
      "training classification loss: 0.1717\n",
      "train_auroc: 0.9791\n",
      "val_auroc: 0.6096\n"
     ]
    },
    {
     "name": "stderr",
     "output_type": "stream",
     "text": [
      "| |                       #                         | 500 Elapsed Time: 0:00:51\n"
     ]
    },
    {
     "name": "stdout",
     "output_type": "stream",
     "text": [
      "Epoch: 158/200\n",
      "training classification loss: 0.1597\n",
      "train_auroc: 0.9830\n",
      "val_auroc: 0.6073\n"
     ]
    },
    {
     "name": "stderr",
     "output_type": "stream",
     "text": [
      "| |                    #                            | 500 Elapsed Time: 0:00:51\n"
     ]
    },
    {
     "name": "stdout",
     "output_type": "stream",
     "text": [
      "Epoch: 159/200\n",
      "training classification loss: 0.1669\n",
      "train_auroc: 0.9793\n",
      "val_auroc: 0.6077\n"
     ]
    },
    {
     "name": "stderr",
     "output_type": "stream",
     "text": [
      "| |  #                                              | 500 Elapsed Time: 0:00:49\n"
     ]
    },
    {
     "name": "stdout",
     "output_type": "stream",
     "text": [
      "Epoch: 160/200\n",
      "training classification loss: 0.1669\n",
      "train_auroc: 0.9803\n",
      "val_auroc: 0.6006\n"
     ]
    },
    {
     "name": "stderr",
     "output_type": "stream",
     "text": [
      "| |                 #                               | 500 Elapsed Time: 0:00:50\n"
     ]
    },
    {
     "name": "stdout",
     "output_type": "stream",
     "text": [
      "Epoch: 161/200\n",
      "training classification loss: 0.1622\n",
      "train_auroc: 0.9804\n",
      "val_auroc: 0.6066\n"
     ]
    },
    {
     "name": "stderr",
     "output_type": "stream",
     "text": [
      "| |              #                                  | 500 Elapsed Time: 0:00:50\n"
     ]
    },
    {
     "name": "stdout",
     "output_type": "stream",
     "text": [
      "Epoch: 162/200\n",
      "training classification loss: 0.1583\n",
      "train_auroc: 0.9826\n",
      "val_auroc: 0.6051\n"
     ]
    },
    {
     "name": "stderr",
     "output_type": "stream",
     "text": [
      "| |         #                                       | 500 Elapsed Time: 0:00:49\n"
     ]
    },
    {
     "name": "stdout",
     "output_type": "stream",
     "text": [
      "Epoch: 163/200\n",
      "training classification loss: 0.1560\n",
      "train_auroc: 0.9828\n",
      "val_auroc: 0.6035\n"
     ]
    },
    {
     "name": "stderr",
     "output_type": "stream",
     "text": [
      "| |           #                                     | 500 Elapsed Time: 0:00:50\n"
     ]
    },
    {
     "name": "stdout",
     "output_type": "stream",
     "text": [
      "Epoch: 164/200\n",
      "training classification loss: 0.1474\n",
      "train_auroc: 0.9853\n",
      "val_auroc: 0.6091\n"
     ]
    },
    {
     "name": "stderr",
     "output_type": "stream",
     "text": [
      "| |                  #                              | 500 Elapsed Time: 0:00:50\n"
     ]
    },
    {
     "name": "stdout",
     "output_type": "stream",
     "text": [
      "Epoch: 165/200\n",
      "training classification loss: 0.1450\n",
      "train_auroc: 0.9851\n",
      "val_auroc: 0.6081\n"
     ]
    },
    {
     "name": "stderr",
     "output_type": "stream",
     "text": [
      "| |                           #                     | 500 Elapsed Time: 0:00:51\n"
     ]
    },
    {
     "name": "stdout",
     "output_type": "stream",
     "text": [
      "Epoch: 166/200\n",
      "training classification loss: 0.1454\n",
      "train_auroc: 0.9855\n",
      "val_auroc: 0.6108\n"
     ]
    },
    {
     "name": "stderr",
     "output_type": "stream",
     "text": [
      "| |                           #                     | 500 Elapsed Time: 0:00:51\n"
     ]
    },
    {
     "name": "stdout",
     "output_type": "stream",
     "text": [
      "Epoch: 167/200\n",
      "training classification loss: 0.1460\n",
      "train_auroc: 0.9851\n",
      "val_auroc: 0.6088\n"
     ]
    },
    {
     "name": "stderr",
     "output_type": "stream",
     "text": [
      "| |                      #                          | 500 Elapsed Time: 0:00:51\n"
     ]
    },
    {
     "name": "stdout",
     "output_type": "stream",
     "text": [
      "Epoch: 168/200\n",
      "training classification loss: 0.1500\n",
      "train_auroc: 0.9834\n",
      "val_auroc: 0.6144\n"
     ]
    },
    {
     "name": "stderr",
     "output_type": "stream",
     "text": [
      "| |        #                                        | 500 Elapsed Time: 0:00:49\n"
     ]
    },
    {
     "name": "stdout",
     "output_type": "stream",
     "text": [
      "Epoch: 169/200\n",
      "training classification loss: 0.1359\n",
      "train_auroc: 0.9875\n",
      "val_auroc: 0.6118\n"
     ]
    },
    {
     "name": "stderr",
     "output_type": "stream",
     "text": [
      "| |   #                                             | 500 Elapsed Time: 0:00:49\n"
     ]
    },
    {
     "name": "stdout",
     "output_type": "stream",
     "text": [
      "Epoch: 170/200\n",
      "training classification loss: 0.1383\n",
      "train_auroc: 0.9869\n",
      "val_auroc: 0.6092\n"
     ]
    },
    {
     "name": "stderr",
     "output_type": "stream",
     "text": [
      "| |           #                                     | 500 Elapsed Time: 0:00:50\n"
     ]
    },
    {
     "name": "stdout",
     "output_type": "stream",
     "text": [
      "Epoch: 171/200\n",
      "training classification loss: 0.1411\n",
      "train_auroc: 0.9861\n",
      "val_auroc: 0.6120\n"
     ]
    },
    {
     "name": "stderr",
     "output_type": "stream",
     "text": [
      "| |          #                                      | 500 Elapsed Time: 0:00:50\n"
     ]
    },
    {
     "name": "stdout",
     "output_type": "stream",
     "text": [
      "Epoch: 172/200\n",
      "training classification loss: 0.1301\n",
      "train_auroc: 0.9886\n",
      "val_auroc: 0.6068\n"
     ]
    },
    {
     "name": "stderr",
     "output_type": "stream",
     "text": [
      "| |#                                                | 500 Elapsed Time: 0:00:48\n"
     ]
    },
    {
     "name": "stdout",
     "output_type": "stream",
     "text": [
      "Epoch: 173/200\n",
      "training classification loss: 0.1320\n",
      "train_auroc: 0.9880\n",
      "val_auroc: 0.6110\n"
     ]
    },
    {
     "name": "stderr",
     "output_type": "stream",
     "text": [
      "| |             #                                   | 500 Elapsed Time: 0:00:50\n"
     ]
    },
    {
     "name": "stdout",
     "output_type": "stream",
     "text": [
      "Epoch: 174/200\n",
      "training classification loss: 0.1336\n",
      "train_auroc: 0.9875\n",
      "val_auroc: 0.6080\n"
     ]
    },
    {
     "name": "stderr",
     "output_type": "stream",
     "text": [
      "| |          #                                      | 500 Elapsed Time: 0:00:50\n"
     ]
    },
    {
     "name": "stdout",
     "output_type": "stream",
     "text": [
      "Epoch: 175/200\n",
      "training classification loss: 0.1265\n",
      "train_auroc: 0.9891\n",
      "val_auroc: 0.5976\n"
     ]
    },
    {
     "name": "stderr",
     "output_type": "stream",
     "text": [
      "| |            #                                    | 500 Elapsed Time: 0:00:50\n"
     ]
    },
    {
     "name": "stdout",
     "output_type": "stream",
     "text": [
      "Epoch: 176/200\n",
      "training classification loss: 0.1310\n",
      "train_auroc: 0.9876\n",
      "val_auroc: 0.5986\n"
     ]
    },
    {
     "name": "stderr",
     "output_type": "stream",
     "text": [
      "| |             #                                   | 500 Elapsed Time: 0:00:50\n"
     ]
    },
    {
     "name": "stdout",
     "output_type": "stream",
     "text": [
      "Epoch: 177/200\n",
      "training classification loss: 0.1305\n",
      "train_auroc: 0.9875\n",
      "val_auroc: 0.6041\n"
     ]
    },
    {
     "name": "stderr",
     "output_type": "stream",
     "text": [
      "| |                #                                | 500 Elapsed Time: 0:00:50\n"
     ]
    },
    {
     "name": "stdout",
     "output_type": "stream",
     "text": [
      "Epoch: 178/200\n",
      "training classification loss: 0.1226\n",
      "train_auroc: 0.9897\n",
      "val_auroc: 0.6073\n"
     ]
    },
    {
     "name": "stderr",
     "output_type": "stream",
     "text": [
      "| |                           #                     | 500 Elapsed Time: 0:00:51\n"
     ]
    },
    {
     "name": "stdout",
     "output_type": "stream",
     "text": [
      "Epoch: 179/200\n",
      "training classification loss: 0.1226\n",
      "train_auroc: 0.9899\n",
      "val_auroc: 0.6090\n"
     ]
    },
    {
     "name": "stderr",
     "output_type": "stream",
     "text": [
      "| |                #                                | 500 Elapsed Time: 0:00:50\n"
     ]
    },
    {
     "name": "stdout",
     "output_type": "stream",
     "text": [
      "Epoch: 180/200\n",
      "training classification loss: 0.1204\n",
      "train_auroc: 0.9902\n",
      "val_auroc: 0.6022\n"
     ]
    },
    {
     "name": "stderr",
     "output_type": "stream",
     "text": [
      "| |                           #                     | 500 Elapsed Time: 0:00:51\n"
     ]
    },
    {
     "name": "stdout",
     "output_type": "stream",
     "text": [
      "Epoch: 181/200\n",
      "training classification loss: 0.1233\n",
      "train_auroc: 0.9889\n",
      "val_auroc: 0.6091\n"
     ]
    },
    {
     "name": "stderr",
     "output_type": "stream",
     "text": [
      "| |           #                                     | 500 Elapsed Time: 0:00:50\n"
     ]
    },
    {
     "name": "stdout",
     "output_type": "stream",
     "text": [
      "Epoch: 182/200\n",
      "training classification loss: 0.1235\n",
      "train_auroc: 0.9895\n",
      "val_auroc: 0.6080\n"
     ]
    },
    {
     "name": "stderr",
     "output_type": "stream",
     "text": [
      "| |             #                                   | 500 Elapsed Time: 0:00:50\n"
     ]
    },
    {
     "name": "stdout",
     "output_type": "stream",
     "text": [
      "Epoch: 183/200\n",
      "training classification loss: 0.1109\n",
      "train_auroc: 0.9921\n",
      "val_auroc: 0.6104\n"
     ]
    },
    {
     "name": "stderr",
     "output_type": "stream",
     "text": [
      "| |             #                                   | 500 Elapsed Time: 0:00:50\n"
     ]
    },
    {
     "name": "stdout",
     "output_type": "stream",
     "text": [
      "Epoch: 184/200\n",
      "training classification loss: 0.1102\n",
      "train_auroc: 0.9922\n",
      "val_auroc: 0.6112\n"
     ]
    },
    {
     "name": "stderr",
     "output_type": "stream",
     "text": [
      "| |                           #                     | 500 Elapsed Time: 0:00:51\n"
     ]
    },
    {
     "name": "stdout",
     "output_type": "stream",
     "text": [
      "Epoch: 185/200\n",
      "training classification loss: 0.1081\n",
      "train_auroc: 0.9921\n",
      "val_auroc: 0.6197\n"
     ]
    },
    {
     "name": "stderr",
     "output_type": "stream",
     "text": [
      "| |                       #                         | 500 Elapsed Time: 0:00:51\n"
     ]
    },
    {
     "name": "stdout",
     "output_type": "stream",
     "text": [
      "Epoch: 186/200\n",
      "training classification loss: 0.1109\n",
      "train_auroc: 0.9916\n",
      "val_auroc: 0.6091\n"
     ]
    },
    {
     "name": "stderr",
     "output_type": "stream",
     "text": [
      "| |                       #                         | 500 Elapsed Time: 0:00:51\n"
     ]
    },
    {
     "name": "stdout",
     "output_type": "stream",
     "text": [
      "Epoch: 187/200\n",
      "training classification loss: 0.1106\n",
      "train_auroc: 0.9914\n",
      "val_auroc: 0.6153\n"
     ]
    },
    {
     "name": "stderr",
     "output_type": "stream",
     "text": [
      "| |                        #                        | 500 Elapsed Time: 0:00:51\n"
     ]
    },
    {
     "name": "stdout",
     "output_type": "stream",
     "text": [
      "Epoch: 188/200\n",
      "training classification loss: 0.1051\n",
      "train_auroc: 0.9926\n",
      "val_auroc: 0.6017\n"
     ]
    },
    {
     "name": "stderr",
     "output_type": "stream",
     "text": [
      "| |                      #                          | 500 Elapsed Time: 0:00:51\n"
     ]
    },
    {
     "name": "stdout",
     "output_type": "stream",
     "text": [
      "Epoch: 189/200\n",
      "training classification loss: 0.1041\n",
      "train_auroc: 0.9929\n",
      "val_auroc: 0.6042\n"
     ]
    },
    {
     "name": "stderr",
     "output_type": "stream",
     "text": [
      "| |         #                                       | 500 Elapsed Time: 0:00:49\n"
     ]
    },
    {
     "name": "stdout",
     "output_type": "stream",
     "text": [
      "Epoch: 190/200\n",
      "training classification loss: 0.1017\n",
      "train_auroc: 0.9932\n",
      "val_auroc: 0.6072\n"
     ]
    },
    {
     "name": "stderr",
     "output_type": "stream",
     "text": [
      "| |                    #                            | 500 Elapsed Time: 0:00:51\n"
     ]
    },
    {
     "name": "stdout",
     "output_type": "stream",
     "text": [
      "Epoch: 191/200\n",
      "training classification loss: 0.0989\n",
      "train_auroc: 0.9935\n",
      "val_auroc: 0.6090\n"
     ]
    },
    {
     "name": "stderr",
     "output_type": "stream",
     "text": [
      "| |                  #                              | 500 Elapsed Time: 0:00:50\n"
     ]
    },
    {
     "name": "stdout",
     "output_type": "stream",
     "text": [
      "Epoch: 192/200\n",
      "training classification loss: 0.1041\n",
      "train_auroc: 0.9925\n",
      "val_auroc: 0.6063\n"
     ]
    },
    {
     "name": "stderr",
     "output_type": "stream",
     "text": [
      "| |           #                                     | 500 Elapsed Time: 0:00:50\n"
     ]
    },
    {
     "name": "stdout",
     "output_type": "stream",
     "text": [
      "Epoch: 193/200\n",
      "training classification loss: 0.1011\n",
      "train_auroc: 0.9931\n",
      "val_auroc: 0.6116\n"
     ]
    },
    {
     "name": "stderr",
     "output_type": "stream",
     "text": [
      "| |                        #                        | 500 Elapsed Time: 0:00:51\n"
     ]
    },
    {
     "name": "stdout",
     "output_type": "stream",
     "text": [
      "Epoch: 194/200\n",
      "training classification loss: 0.0934\n",
      "train_auroc: 0.9941\n",
      "val_auroc: 0.6028\n"
     ]
    },
    {
     "name": "stderr",
     "output_type": "stream",
     "text": [
      "| |               #                                 | 500 Elapsed Time: 0:00:50\n"
     ]
    },
    {
     "name": "stdout",
     "output_type": "stream",
     "text": [
      "Epoch: 195/200\n",
      "training classification loss: 0.0954\n",
      "train_auroc: 0.9936\n",
      "val_auroc: 0.6085\n"
     ]
    },
    {
     "name": "stderr",
     "output_type": "stream",
     "text": [
      "| |                    #                            | 500 Elapsed Time: 0:00:51\n"
     ]
    },
    {
     "name": "stdout",
     "output_type": "stream",
     "text": [
      "Epoch: 196/200\n",
      "training classification loss: 0.0956\n",
      "train_auroc: 0.9941\n",
      "val_auroc: 0.6044\n"
     ]
    },
    {
     "name": "stderr",
     "output_type": "stream",
     "text": [
      "| |               #                                 | 500 Elapsed Time: 0:00:50\n"
     ]
    },
    {
     "name": "stdout",
     "output_type": "stream",
     "text": [
      "Epoch: 197/200\n",
      "training classification loss: 0.0960\n",
      "train_auroc: 0.9936\n",
      "val_auroc: 0.6079\n"
     ]
    },
    {
     "name": "stderr",
     "output_type": "stream",
     "text": [
      "| |              #                                  | 500 Elapsed Time: 0:00:50\n"
     ]
    },
    {
     "name": "stdout",
     "output_type": "stream",
     "text": [
      "Epoch: 198/200\n",
      "training classification loss: 0.0978\n",
      "train_auroc: 0.9934\n",
      "val_auroc: 0.6082\n"
     ]
    },
    {
     "name": "stderr",
     "output_type": "stream",
     "text": [
      "| |                        #                        | 500 Elapsed Time: 0:00:51\n"
     ]
    },
    {
     "name": "stdout",
     "output_type": "stream",
     "text": [
      "Epoch: 199/200\n",
      "training classification loss: 0.0978\n",
      "train_auroc: 0.9935\n",
      "val_auroc: 0.6064\n"
     ]
    },
    {
     "name": "stderr",
     "output_type": "stream",
     "text": [
      "| |                                 #               | 500 Elapsed Time: 0:00:52\n"
     ]
    },
    {
     "name": "stdout",
     "output_type": "stream",
     "text": [
      "Epoch: 200/200\n",
      "training classification loss: 0.0907\n",
      "train_auroc: 0.9946\n",
      "val_auroc: 0.6126\n"
     ]
    }
   ],
   "source": [
    "# Define metric objects \n",
    "metric_objects = {'train_auroc' : SimpleAUC(),\n",
    "                  'val_auroc' : SimpleAUC()}\n",
    "best_val_metric = 0.0 if checkpoint is None else checkpoint['best_val_metric']\n",
    "i = 0 if checkpoint is None else checkpoint['epoch']\n",
    "while i < num_epochs:\n",
    "    # Reset training state variables\n",
    "    training_loss = defaultdict(lambda: 0.0)\n",
    "    num_samples = 0\n",
    "    iterators = {k : iter(v) for k, v in loader.items()}\n",
    "    for v in metric_objects.values():\n",
    "        v.reset_state()\n",
    "\n",
    "    # Training phase \n",
    "    cls.train() # Set model to training mode\n",
    "    with progressbar.ProgressBar(steps_per_epoch) as pbar:\n",
    "        for j in range(1, steps_per_epoch+1):\n",
    "            # Initialze loader's iterater\n",
    "            for k, v in loader.items():\n",
    "                if j % len(v) == 0:\n",
    "                    iterators[k] = iter(v)\n",
    "\n",
    "            # Load a batch of data\n",
    "            batch = next(iterators['train'])\n",
    "            fundus = batch['fundus'].to(device)\n",
    "\n",
    "            y_true = batch[\"level\"].to(device)\n",
    "\n",
    "            # Forward pass\n",
    "            y_pred = cls(fundus)\n",
    "            loss = loss_fn['ce'](y_pred, y_true)\n",
    "\n",
    "            # Backward pass \n",
    "            optimizer.zero_grad()\n",
    "            loss.backward()\n",
    "            optimizer.step()\n",
    "\n",
    "            # Update training metrics\n",
    "            training_loss['cls_loss'] += loss.item() * y_true.size(0)\n",
    "            num_samples += y_true.size(0)\n",
    "            metric_objects['train_auroc'].update_state(y_pred[:, 1], y_true)\n",
    "\n",
    "            pbar.update(j)\n",
    "\n",
    "        for k, v in training_loss.items():\n",
    "            training_loss[k] = v / float(num_samples)\n",
    "        lr_scheduler.step()\n",
    "\n",
    "    \n",
    "    cls.eval() # Set model to evaluation mode.\n",
    "    for batch in loader['valid']:\n",
    "        fundus = batch['fundus'].to(device)\n",
    "        y_true = batch[\"level\"]\n",
    "\n",
    "        # Forward pass\n",
    "        with torch.no_grad():\n",
    "            y_pred = cls(fundus)\n",
    "            metric_objects['val_auroc'].update_state(y_pred[:, 1], y_true)\n",
    "\n",
    "    # Display results after an epoch\n",
    "    i += 1\n",
    "    print('Epoch: {:d}/{:d}'.format(i, num_epochs))\n",
    "    print('training classification loss: {:.4f}'.format(training_loss['cls_loss']))\n",
    "    for k, v in metric_objects.items():\n",
    "        print('{}: {:.4f}'.format(k, v.result()))\n",
    "    \n",
    "    # Save model when reached the highest validation accuracy \n",
    "    curr_val_metric = metric_objects['val_auroc'].result()\n",
    "    if curr_val_metric > best_val_metric:\n",
    "        best_val_metric = curr_val_metric\n",
    "        checkpoint = {'cls_state_dict' : cls.state_dict(),\n",
    "                      'optimizer_state_dict' : optimizer.state_dict(),\n",
    "                      'lr_scheduler_state_dict' : lr_scheduler.state_dict(),\n",
    "                      'best_val_metric' : best_val_metric,\n",
    "                      'epoch' : i,\n",
    "                     'cnn_name' : cnn_name}\n",
    "        torch.save(checkpoint, checkpoint_path)\n",
    "        print('Model saved.')"
   ]
  },
  {
   "cell_type": "markdown",
   "metadata": {},
   "source": [
    "# check validation Accuracy"
   ]
  },
  {
   "cell_type": "code",
   "execution_count": 11,
   "metadata": {},
   "outputs": [
    {
     "name": "stdout",
     "output_type": "stream",
     "text": [
      "Load model trained for 45 epochs.\n"
     ]
    }
   ],
   "source": [
    "if os.path.exists(checkpoint_path):\n",
    "    checkpoint = torch.load(checkpoint_path)\n",
    "    print('Load model trained for {} epochs.'.format(checkpoint['epoch']))\n",
    "else:\n",
    "    checkpoint = None"
   ]
  },
  {
   "cell_type": "code",
   "execution_count": 12,
   "metadata": {},
   "outputs": [
    {
     "name": "stdout",
     "output_type": "stream",
     "text": [
      "0.6391194859692747\n"
     ]
    }
   ],
   "source": [
    "print(checkpoint[\"best_val_metric\"])"
   ]
  },
  {
   "cell_type": "code",
   "execution_count": null,
   "metadata": {},
   "outputs": [],
   "source": []
  }
 ],
 "metadata": {
  "kernelspec": {
   "display_name": "torch",
   "language": "python",
   "name": "torch"
  },
  "language_info": {
   "codemirror_mode": {
    "name": "ipython",
    "version": 3
   },
   "file_extension": ".py",
   "mimetype": "text/x-python",
   "name": "python",
   "nbconvert_exporter": "python",
   "pygments_lexer": "ipython3",
   "version": "3.7.5"
  }
 },
 "nbformat": 4,
 "nbformat_minor": 2
}
